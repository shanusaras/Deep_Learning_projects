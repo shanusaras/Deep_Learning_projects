{
  "nbformat": 4,
  "nbformat_minor": 0,
  "metadata": {
    "colab": {
      "provenance": [],
      "authorship_tag": "ABX9TyPEh4oIum+pfzMv7x3698WE"
    },
    "kernelspec": {
      "name": "python3",
      "display_name": "Python 3"
    },
    "language_info": {
      "name": "python"
    }
  },
  "cells": [
    {
      "cell_type": "markdown",
      "source": [
        "### **PROBLEM STATEMENT**"
      ],
      "metadata": {
        "id": "9bG1oRN84UAP"
      }
    },
    {
      "cell_type": "markdown",
      "source": [
        "To predict the apt price of a car based on the specifications given. Hence a\n",
        "***supervised ML regression model*** needs to be created as the target variabel is continuous in nature."
      ],
      "metadata": {
        "id": "whahRYaG5N57"
      }
    },
    {
      "cell_type": "code",
      "source": [],
      "metadata": {
        "id": "cljEvUpz5-wJ"
      },
      "execution_count": null,
      "outputs": []
    },
    {
      "cell_type": "code",
      "source": [],
      "metadata": {
        "id": "imqBHXhR5vzM"
      },
      "execution_count": null,
      "outputs": []
    }
  ]
}