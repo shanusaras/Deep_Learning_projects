{
  "nbformat": 4,
  "nbformat_minor": 0,
  "metadata": {
    "colab": {
      "provenance": [],
      "mount_file_id": "1IZz-ETZxFy6qTuA_b0oRYXyYqTD1Sdw4",
      "authorship_tag": "ABX9TyNvnLEus/dHuDLalv8QX0Rq"
    },
    "kernelspec": {
      "name": "python3",
      "display_name": "Python 3"
    },
    "language_info": {
      "name": "python"
    }
  },
  "cells": [
    {
      "cell_type": "markdown",
      "source": [
        "### **PROBLEM STATEMENT**"
      ],
      "metadata": {
        "id": "9bG1oRN84UAP"
      }
    },
    {
      "cell_type": "markdown",
      "source": [
        "To predict the apt price of a car based on the specifications given. Hence a\n",
        "***supervised ML regression model*** needs to be created as the target variable is continuous in nature."
      ],
      "metadata": {
        "id": "whahRYaG5N57"
      }
    },
    {
      "cell_type": "markdown",
      "source": [
        "### **IMPORTING THE BASIC LIBRARIES**"
      ],
      "metadata": {
        "id": "cljEvUpz5-wJ"
      }
    },
    {
      "cell_type": "code",
      "source": [
        "import numpy as np\n",
        "import pandas as pd\n",
        "import matplotlib.pyplot as plt\n",
        "import seaborn as sns\n",
        "import warnings\n",
        "warnings.filterwarnings(\"ignore\")\n",
        "%matplotlib inline"
      ],
      "metadata": {
        "id": "imqBHXhR5vzM"
      },
      "execution_count": 107,
      "outputs": []
    },
    {
      "cell_type": "markdown",
      "source": [
        "### **IMPORTING THE DATASET**"
      ],
      "metadata": {
        "id": "JTMQ3FXT67Dj"
      }
    },
    {
      "cell_type": "code",
      "source": [
        "data= pd.read_csv(\"/content/drive/MyDrive/AI/Basic_python_implementation_neural_network/CarPricesData.csv\")\n",
        "data"
      ],
      "metadata": {
        "colab": {
          "base_uri": "https://localhost:8080/",
          "height": 423
        },
        "id": "EU1ImZaJ6_vD",
        "outputId": "f81bfa72-aebf-468d-b531-b7295214f83b"
      },
      "execution_count": 108,
      "outputs": [
        {
          "output_type": "execute_result",
          "data": {
            "text/plain": [
              "      Price   Age     KM FuelType   HP  MetColor  Automatic      CC  Doors  \\\n",
              "0     13500  23.0  46986   Diesel   90         1          0  2000.0      3   \n",
              "1     13750  23.0  72937   Diesel   90         1          0  2000.0      3   \n",
              "2     13950  24.0  41711   Diesel   90         1          0  2000.0      3   \n",
              "3     14950  26.0  48000   Diesel   90         0          0  2000.0      3   \n",
              "4     13750  30.0  38500   Diesel   90         0          0  2000.0      3   \n",
              "...     ...   ...    ...      ...  ...       ...        ...     ...    ...   \n",
              "1431   7500  69.0  20544   Petrol   86         1          0  1300.0      3   \n",
              "1432  10845  72.0  19000   Petrol   86         0          0  1300.0      3   \n",
              "1433   8500  71.0  17016   Petrol   86         0          0  1300.0      3   \n",
              "1434   7250  70.0  16916   Petrol   86         1          0  1300.0      3   \n",
              "1435   6950  76.0      1   Petrol  110         0          0  1600.0      5   \n",
              "\n",
              "      Weight  \n",
              "0     1165.0  \n",
              "1     1165.0  \n",
              "2     1165.0  \n",
              "3     1165.0  \n",
              "4     1170.0  \n",
              "...      ...  \n",
              "1431  1025.0  \n",
              "1432  1015.0  \n",
              "1433  1015.0  \n",
              "1434  1015.0  \n",
              "1435  1114.0  \n",
              "\n",
              "[1436 rows x 10 columns]"
            ],
            "text/html": [
              "\n",
              "  <div id=\"df-29811acf-fa72-4b8d-ae1c-7ff2acff5d56\" class=\"colab-df-container\">\n",
              "    <div>\n",
              "<style scoped>\n",
              "    .dataframe tbody tr th:only-of-type {\n",
              "        vertical-align: middle;\n",
              "    }\n",
              "\n",
              "    .dataframe tbody tr th {\n",
              "        vertical-align: top;\n",
              "    }\n",
              "\n",
              "    .dataframe thead th {\n",
              "        text-align: right;\n",
              "    }\n",
              "</style>\n",
              "<table border=\"1\" class=\"dataframe\">\n",
              "  <thead>\n",
              "    <tr style=\"text-align: right;\">\n",
              "      <th></th>\n",
              "      <th>Price</th>\n",
              "      <th>Age</th>\n",
              "      <th>KM</th>\n",
              "      <th>FuelType</th>\n",
              "      <th>HP</th>\n",
              "      <th>MetColor</th>\n",
              "      <th>Automatic</th>\n",
              "      <th>CC</th>\n",
              "      <th>Doors</th>\n",
              "      <th>Weight</th>\n",
              "    </tr>\n",
              "  </thead>\n",
              "  <tbody>\n",
              "    <tr>\n",
              "      <th>0</th>\n",
              "      <td>13500</td>\n",
              "      <td>23.0</td>\n",
              "      <td>46986</td>\n",
              "      <td>Diesel</td>\n",
              "      <td>90</td>\n",
              "      <td>1</td>\n",
              "      <td>0</td>\n",
              "      <td>2000.0</td>\n",
              "      <td>3</td>\n",
              "      <td>1165.0</td>\n",
              "    </tr>\n",
              "    <tr>\n",
              "      <th>1</th>\n",
              "      <td>13750</td>\n",
              "      <td>23.0</td>\n",
              "      <td>72937</td>\n",
              "      <td>Diesel</td>\n",
              "      <td>90</td>\n",
              "      <td>1</td>\n",
              "      <td>0</td>\n",
              "      <td>2000.0</td>\n",
              "      <td>3</td>\n",
              "      <td>1165.0</td>\n",
              "    </tr>\n",
              "    <tr>\n",
              "      <th>2</th>\n",
              "      <td>13950</td>\n",
              "      <td>24.0</td>\n",
              "      <td>41711</td>\n",
              "      <td>Diesel</td>\n",
              "      <td>90</td>\n",
              "      <td>1</td>\n",
              "      <td>0</td>\n",
              "      <td>2000.0</td>\n",
              "      <td>3</td>\n",
              "      <td>1165.0</td>\n",
              "    </tr>\n",
              "    <tr>\n",
              "      <th>3</th>\n",
              "      <td>14950</td>\n",
              "      <td>26.0</td>\n",
              "      <td>48000</td>\n",
              "      <td>Diesel</td>\n",
              "      <td>90</td>\n",
              "      <td>0</td>\n",
              "      <td>0</td>\n",
              "      <td>2000.0</td>\n",
              "      <td>3</td>\n",
              "      <td>1165.0</td>\n",
              "    </tr>\n",
              "    <tr>\n",
              "      <th>4</th>\n",
              "      <td>13750</td>\n",
              "      <td>30.0</td>\n",
              "      <td>38500</td>\n",
              "      <td>Diesel</td>\n",
              "      <td>90</td>\n",
              "      <td>0</td>\n",
              "      <td>0</td>\n",
              "      <td>2000.0</td>\n",
              "      <td>3</td>\n",
              "      <td>1170.0</td>\n",
              "    </tr>\n",
              "    <tr>\n",
              "      <th>...</th>\n",
              "      <td>...</td>\n",
              "      <td>...</td>\n",
              "      <td>...</td>\n",
              "      <td>...</td>\n",
              "      <td>...</td>\n",
              "      <td>...</td>\n",
              "      <td>...</td>\n",
              "      <td>...</td>\n",
              "      <td>...</td>\n",
              "      <td>...</td>\n",
              "    </tr>\n",
              "    <tr>\n",
              "      <th>1431</th>\n",
              "      <td>7500</td>\n",
              "      <td>69.0</td>\n",
              "      <td>20544</td>\n",
              "      <td>Petrol</td>\n",
              "      <td>86</td>\n",
              "      <td>1</td>\n",
              "      <td>0</td>\n",
              "      <td>1300.0</td>\n",
              "      <td>3</td>\n",
              "      <td>1025.0</td>\n",
              "    </tr>\n",
              "    <tr>\n",
              "      <th>1432</th>\n",
              "      <td>10845</td>\n",
              "      <td>72.0</td>\n",
              "      <td>19000</td>\n",
              "      <td>Petrol</td>\n",
              "      <td>86</td>\n",
              "      <td>0</td>\n",
              "      <td>0</td>\n",
              "      <td>1300.0</td>\n",
              "      <td>3</td>\n",
              "      <td>1015.0</td>\n",
              "    </tr>\n",
              "    <tr>\n",
              "      <th>1433</th>\n",
              "      <td>8500</td>\n",
              "      <td>71.0</td>\n",
              "      <td>17016</td>\n",
              "      <td>Petrol</td>\n",
              "      <td>86</td>\n",
              "      <td>0</td>\n",
              "      <td>0</td>\n",
              "      <td>1300.0</td>\n",
              "      <td>3</td>\n",
              "      <td>1015.0</td>\n",
              "    </tr>\n",
              "    <tr>\n",
              "      <th>1434</th>\n",
              "      <td>7250</td>\n",
              "      <td>70.0</td>\n",
              "      <td>16916</td>\n",
              "      <td>Petrol</td>\n",
              "      <td>86</td>\n",
              "      <td>1</td>\n",
              "      <td>0</td>\n",
              "      <td>1300.0</td>\n",
              "      <td>3</td>\n",
              "      <td>1015.0</td>\n",
              "    </tr>\n",
              "    <tr>\n",
              "      <th>1435</th>\n",
              "      <td>6950</td>\n",
              "      <td>76.0</td>\n",
              "      <td>1</td>\n",
              "      <td>Petrol</td>\n",
              "      <td>110</td>\n",
              "      <td>0</td>\n",
              "      <td>0</td>\n",
              "      <td>1600.0</td>\n",
              "      <td>5</td>\n",
              "      <td>1114.0</td>\n",
              "    </tr>\n",
              "  </tbody>\n",
              "</table>\n",
              "<p>1436 rows × 10 columns</p>\n",
              "</div>\n",
              "    <div class=\"colab-df-buttons\">\n",
              "\n",
              "  <div class=\"colab-df-container\">\n",
              "    <button class=\"colab-df-convert\" onclick=\"convertToInteractive('df-29811acf-fa72-4b8d-ae1c-7ff2acff5d56')\"\n",
              "            title=\"Convert this dataframe to an interactive table.\"\n",
              "            style=\"display:none;\">\n",
              "\n",
              "  <svg xmlns=\"http://www.w3.org/2000/svg\" height=\"24px\" viewBox=\"0 -960 960 960\">\n",
              "    <path d=\"M120-120v-720h720v720H120Zm60-500h600v-160H180v160Zm220 220h160v-160H400v160Zm0 220h160v-160H400v160ZM180-400h160v-160H180v160Zm440 0h160v-160H620v160ZM180-180h160v-160H180v160Zm440 0h160v-160H620v160Z\"/>\n",
              "  </svg>\n",
              "    </button>\n",
              "\n",
              "  <style>\n",
              "    .colab-df-container {\n",
              "      display:flex;\n",
              "      gap: 12px;\n",
              "    }\n",
              "\n",
              "    .colab-df-convert {\n",
              "      background-color: #E8F0FE;\n",
              "      border: none;\n",
              "      border-radius: 50%;\n",
              "      cursor: pointer;\n",
              "      display: none;\n",
              "      fill: #1967D2;\n",
              "      height: 32px;\n",
              "      padding: 0 0 0 0;\n",
              "      width: 32px;\n",
              "    }\n",
              "\n",
              "    .colab-df-convert:hover {\n",
              "      background-color: #E2EBFA;\n",
              "      box-shadow: 0px 1px 2px rgba(60, 64, 67, 0.3), 0px 1px 3px 1px rgba(60, 64, 67, 0.15);\n",
              "      fill: #174EA6;\n",
              "    }\n",
              "\n",
              "    .colab-df-buttons div {\n",
              "      margin-bottom: 4px;\n",
              "    }\n",
              "\n",
              "    [theme=dark] .colab-df-convert {\n",
              "      background-color: #3B4455;\n",
              "      fill: #D2E3FC;\n",
              "    }\n",
              "\n",
              "    [theme=dark] .colab-df-convert:hover {\n",
              "      background-color: #434B5C;\n",
              "      box-shadow: 0px 1px 3px 1px rgba(0, 0, 0, 0.15);\n",
              "      filter: drop-shadow(0px 1px 2px rgba(0, 0, 0, 0.3));\n",
              "      fill: #FFFFFF;\n",
              "    }\n",
              "  </style>\n",
              "\n",
              "    <script>\n",
              "      const buttonEl =\n",
              "        document.querySelector('#df-29811acf-fa72-4b8d-ae1c-7ff2acff5d56 button.colab-df-convert');\n",
              "      buttonEl.style.display =\n",
              "        google.colab.kernel.accessAllowed ? 'block' : 'none';\n",
              "\n",
              "      async function convertToInteractive(key) {\n",
              "        const element = document.querySelector('#df-29811acf-fa72-4b8d-ae1c-7ff2acff5d56');\n",
              "        const dataTable =\n",
              "          await google.colab.kernel.invokeFunction('convertToInteractive',\n",
              "                                                    [key], {});\n",
              "        if (!dataTable) return;\n",
              "\n",
              "        const docLinkHtml = 'Like what you see? Visit the ' +\n",
              "          '<a target=\"_blank\" href=https://colab.research.google.com/notebooks/data_table.ipynb>data table notebook</a>'\n",
              "          + ' to learn more about interactive tables.';\n",
              "        element.innerHTML = '';\n",
              "        dataTable['output_type'] = 'display_data';\n",
              "        await google.colab.output.renderOutput(dataTable, element);\n",
              "        const docLink = document.createElement('div');\n",
              "        docLink.innerHTML = docLinkHtml;\n",
              "        element.appendChild(docLink);\n",
              "      }\n",
              "    </script>\n",
              "  </div>\n",
              "\n",
              "\n",
              "<div id=\"df-a93dcb99-83ce-4080-a75b-e5fec93cec0d\">\n",
              "  <button class=\"colab-df-quickchart\" onclick=\"quickchart('df-a93dcb99-83ce-4080-a75b-e5fec93cec0d')\"\n",
              "            title=\"Suggest charts\"\n",
              "            style=\"display:none;\">\n",
              "\n",
              "<svg xmlns=\"http://www.w3.org/2000/svg\" height=\"24px\"viewBox=\"0 0 24 24\"\n",
              "     width=\"24px\">\n",
              "    <g>\n",
              "        <path d=\"M19 3H5c-1.1 0-2 .9-2 2v14c0 1.1.9 2 2 2h14c1.1 0 2-.9 2-2V5c0-1.1-.9-2-2-2zM9 17H7v-7h2v7zm4 0h-2V7h2v10zm4 0h-2v-4h2v4z\"/>\n",
              "    </g>\n",
              "</svg>\n",
              "  </button>\n",
              "\n",
              "<style>\n",
              "  .colab-df-quickchart {\n",
              "      --bg-color: #E8F0FE;\n",
              "      --fill-color: #1967D2;\n",
              "      --hover-bg-color: #E2EBFA;\n",
              "      --hover-fill-color: #174EA6;\n",
              "      --disabled-fill-color: #AAA;\n",
              "      --disabled-bg-color: #DDD;\n",
              "  }\n",
              "\n",
              "  [theme=dark] .colab-df-quickchart {\n",
              "      --bg-color: #3B4455;\n",
              "      --fill-color: #D2E3FC;\n",
              "      --hover-bg-color: #434B5C;\n",
              "      --hover-fill-color: #FFFFFF;\n",
              "      --disabled-bg-color: #3B4455;\n",
              "      --disabled-fill-color: #666;\n",
              "  }\n",
              "\n",
              "  .colab-df-quickchart {\n",
              "    background-color: var(--bg-color);\n",
              "    border: none;\n",
              "    border-radius: 50%;\n",
              "    cursor: pointer;\n",
              "    display: none;\n",
              "    fill: var(--fill-color);\n",
              "    height: 32px;\n",
              "    padding: 0;\n",
              "    width: 32px;\n",
              "  }\n",
              "\n",
              "  .colab-df-quickchart:hover {\n",
              "    background-color: var(--hover-bg-color);\n",
              "    box-shadow: 0 1px 2px rgba(60, 64, 67, 0.3), 0 1px 3px 1px rgba(60, 64, 67, 0.15);\n",
              "    fill: var(--button-hover-fill-color);\n",
              "  }\n",
              "\n",
              "  .colab-df-quickchart-complete:disabled,\n",
              "  .colab-df-quickchart-complete:disabled:hover {\n",
              "    background-color: var(--disabled-bg-color);\n",
              "    fill: var(--disabled-fill-color);\n",
              "    box-shadow: none;\n",
              "  }\n",
              "\n",
              "  .colab-df-spinner {\n",
              "    border: 2px solid var(--fill-color);\n",
              "    border-color: transparent;\n",
              "    border-bottom-color: var(--fill-color);\n",
              "    animation:\n",
              "      spin 1s steps(1) infinite;\n",
              "  }\n",
              "\n",
              "  @keyframes spin {\n",
              "    0% {\n",
              "      border-color: transparent;\n",
              "      border-bottom-color: var(--fill-color);\n",
              "      border-left-color: var(--fill-color);\n",
              "    }\n",
              "    20% {\n",
              "      border-color: transparent;\n",
              "      border-left-color: var(--fill-color);\n",
              "      border-top-color: var(--fill-color);\n",
              "    }\n",
              "    30% {\n",
              "      border-color: transparent;\n",
              "      border-left-color: var(--fill-color);\n",
              "      border-top-color: var(--fill-color);\n",
              "      border-right-color: var(--fill-color);\n",
              "    }\n",
              "    40% {\n",
              "      border-color: transparent;\n",
              "      border-right-color: var(--fill-color);\n",
              "      border-top-color: var(--fill-color);\n",
              "    }\n",
              "    60% {\n",
              "      border-color: transparent;\n",
              "      border-right-color: var(--fill-color);\n",
              "    }\n",
              "    80% {\n",
              "      border-color: transparent;\n",
              "      border-right-color: var(--fill-color);\n",
              "      border-bottom-color: var(--fill-color);\n",
              "    }\n",
              "    90% {\n",
              "      border-color: transparent;\n",
              "      border-bottom-color: var(--fill-color);\n",
              "    }\n",
              "  }\n",
              "</style>\n",
              "\n",
              "  <script>\n",
              "    async function quickchart(key) {\n",
              "      const quickchartButtonEl =\n",
              "        document.querySelector('#' + key + ' button');\n",
              "      quickchartButtonEl.disabled = true;  // To prevent multiple clicks.\n",
              "      quickchartButtonEl.classList.add('colab-df-spinner');\n",
              "      try {\n",
              "        const charts = await google.colab.kernel.invokeFunction(\n",
              "            'suggestCharts', [key], {});\n",
              "      } catch (error) {\n",
              "        console.error('Error during call to suggestCharts:', error);\n",
              "      }\n",
              "      quickchartButtonEl.classList.remove('colab-df-spinner');\n",
              "      quickchartButtonEl.classList.add('colab-df-quickchart-complete');\n",
              "    }\n",
              "    (() => {\n",
              "      let quickchartButtonEl =\n",
              "        document.querySelector('#df-a93dcb99-83ce-4080-a75b-e5fec93cec0d button');\n",
              "      quickchartButtonEl.style.display =\n",
              "        google.colab.kernel.accessAllowed ? 'block' : 'none';\n",
              "    })();\n",
              "  </script>\n",
              "</div>\n",
              "\n",
              "  <div id=\"id_35d43de5-3638-4c63-a25f-e0112763f6ee\">\n",
              "    <style>\n",
              "      .colab-df-generate {\n",
              "        background-color: #E8F0FE;\n",
              "        border: none;\n",
              "        border-radius: 50%;\n",
              "        cursor: pointer;\n",
              "        display: none;\n",
              "        fill: #1967D2;\n",
              "        height: 32px;\n",
              "        padding: 0 0 0 0;\n",
              "        width: 32px;\n",
              "      }\n",
              "\n",
              "      .colab-df-generate:hover {\n",
              "        background-color: #E2EBFA;\n",
              "        box-shadow: 0px 1px 2px rgba(60, 64, 67, 0.3), 0px 1px 3px 1px rgba(60, 64, 67, 0.15);\n",
              "        fill: #174EA6;\n",
              "      }\n",
              "\n",
              "      [theme=dark] .colab-df-generate {\n",
              "        background-color: #3B4455;\n",
              "        fill: #D2E3FC;\n",
              "      }\n",
              "\n",
              "      [theme=dark] .colab-df-generate:hover {\n",
              "        background-color: #434B5C;\n",
              "        box-shadow: 0px 1px 3px 1px rgba(0, 0, 0, 0.15);\n",
              "        filter: drop-shadow(0px 1px 2px rgba(0, 0, 0, 0.3));\n",
              "        fill: #FFFFFF;\n",
              "      }\n",
              "    </style>\n",
              "    <button class=\"colab-df-generate\" onclick=\"generateWithVariable('data')\"\n",
              "            title=\"Generate code using this dataframe.\"\n",
              "            style=\"display:none;\">\n",
              "\n",
              "  <svg xmlns=\"http://www.w3.org/2000/svg\" height=\"24px\"viewBox=\"0 0 24 24\"\n",
              "       width=\"24px\">\n",
              "    <path d=\"M7,19H8.4L18.45,9,17,7.55,7,17.6ZM5,21V16.75L18.45,3.32a2,2,0,0,1,2.83,0l1.4,1.43a1.91,1.91,0,0,1,.58,1.4,1.91,1.91,0,0,1-.58,1.4L9.25,21ZM18.45,9,17,7.55Zm-12,3A5.31,5.31,0,0,0,4.9,8.1,5.31,5.31,0,0,0,1,6.5,5.31,5.31,0,0,0,4.9,4.9,5.31,5.31,0,0,0,6.5,1,5.31,5.31,0,0,0,8.1,4.9,5.31,5.31,0,0,0,12,6.5,5.46,5.46,0,0,0,6.5,12Z\"/>\n",
              "  </svg>\n",
              "    </button>\n",
              "    <script>\n",
              "      (() => {\n",
              "      const buttonEl =\n",
              "        document.querySelector('#id_35d43de5-3638-4c63-a25f-e0112763f6ee button.colab-df-generate');\n",
              "      buttonEl.style.display =\n",
              "        google.colab.kernel.accessAllowed ? 'block' : 'none';\n",
              "\n",
              "      buttonEl.onclick = () => {\n",
              "        google.colab.notebook.generateWithVariable('data');\n",
              "      }\n",
              "      })();\n",
              "    </script>\n",
              "  </div>\n",
              "\n",
              "    </div>\n",
              "  </div>\n"
            ],
            "application/vnd.google.colaboratory.intrinsic+json": {
              "type": "dataframe",
              "variable_name": "data",
              "summary": "{\n  \"name\": \"data\",\n  \"rows\": 1436,\n  \"fields\": [\n    {\n      \"column\": \"Price\",\n      \"properties\": {\n        \"dtype\": \"number\",\n        \"std\": 3626,\n        \"min\": 4350,\n        \"max\": 32500,\n        \"num_unique_values\": 236,\n        \"samples\": [\n          17795,\n          10350,\n          8995\n        ],\n        \"semantic_type\": \"\",\n        \"description\": \"\"\n      }\n    },\n    {\n      \"column\": \"Age\",\n      \"properties\": {\n        \"dtype\": \"number\",\n        \"std\": 18.58179609259971,\n        \"min\": 1.0,\n        \"max\": 80.0,\n        \"num_unique_values\": 77,\n        \"samples\": [\n          32.0,\n          39.0,\n          29.0\n        ],\n        \"semantic_type\": \"\",\n        \"description\": \"\"\n      }\n    },\n    {\n      \"column\": \"KM\",\n      \"properties\": {\n        \"dtype\": \"number\",\n        \"std\": 37506,\n        \"min\": 1,\n        \"max\": 243000,\n        \"num_unique_values\": 1263,\n        \"samples\": [\n          57829,\n          51000,\n          34882\n        ],\n        \"semantic_type\": \"\",\n        \"description\": \"\"\n      }\n    },\n    {\n      \"column\": \"FuelType\",\n      \"properties\": {\n        \"dtype\": \"category\",\n        \"num_unique_values\": 3,\n        \"samples\": [\n          \"Diesel\",\n          \"Petrol\",\n          \"CNG\"\n        ],\n        \"semantic_type\": \"\",\n        \"description\": \"\"\n      }\n    },\n    {\n      \"column\": \"HP\",\n      \"properties\": {\n        \"dtype\": \"number\",\n        \"std\": 14,\n        \"min\": 69,\n        \"max\": 192,\n        \"num_unique_values\": 12,\n        \"samples\": [\n          107,\n          72,\n          90\n        ],\n        \"semantic_type\": \"\",\n        \"description\": \"\"\n      }\n    },\n    {\n      \"column\": \"MetColor\",\n      \"properties\": {\n        \"dtype\": \"number\",\n        \"std\": 0,\n        \"min\": 0,\n        \"max\": 1,\n        \"num_unique_values\": 2,\n        \"samples\": [\n          0,\n          1\n        ],\n        \"semantic_type\": \"\",\n        \"description\": \"\"\n      }\n    },\n    {\n      \"column\": \"Automatic\",\n      \"properties\": {\n        \"dtype\": \"number\",\n        \"std\": 0,\n        \"min\": 0,\n        \"max\": 1,\n        \"num_unique_values\": 2,\n        \"samples\": [\n          1,\n          0\n        ],\n        \"semantic_type\": \"\",\n        \"description\": \"\"\n      }\n    },\n    {\n      \"column\": \"CC\",\n      \"properties\": {\n        \"dtype\": \"number\",\n        \"std\": 187.17822146039677,\n        \"min\": 1300.0,\n        \"max\": 2000.0,\n        \"num_unique_values\": 12,\n        \"samples\": [\n          1975.0,\n          1587.0\n        ],\n        \"semantic_type\": \"\",\n        \"description\": \"\"\n      }\n    },\n    {\n      \"column\": \"Doors\",\n      \"properties\": {\n        \"dtype\": \"number\",\n        \"std\": 0,\n        \"min\": 2,\n        \"max\": 5,\n        \"num_unique_values\": 4,\n        \"samples\": [\n          5,\n          2\n        ],\n        \"semantic_type\": \"\",\n        \"description\": \"\"\n      }\n    },\n    {\n      \"column\": \"Weight\",\n      \"properties\": {\n        \"dtype\": \"number\",\n        \"std\": 52.67247463457741,\n        \"min\": 1000.0,\n        \"max\": 1615.0,\n        \"num_unique_values\": 59,\n        \"samples\": [\n          1165.0,\n          1065.0\n        ],\n        \"semantic_type\": \"\",\n        \"description\": \"\"\n      }\n    }\n  ]\n}"
            }
          },
          "metadata": {},
          "execution_count": 108
        }
      ]
    },
    {
      "cell_type": "markdown",
      "source": [
        "### **DOMAIN ANALYSIS**"
      ],
      "metadata": {
        "id": "YLh54gvk7Kej"
      }
    },
    {
      "cell_type": "markdown",
      "source": [
        "- The dataset contains the features related to factors that decide the price of a car.\n",
        "\n",
        "The target variable is\n",
        "\n",
        "***1. Price:***  \n",
        "- The Price of the car in dollars,\n",
        "\n",
        "and the remaining nine independent features include:\n",
        "\n",
        "***2. Age:***\n",
        "  - The age of the car in months\n",
        "\n",
        "***3. KM***\n",
        "  - How many KMS did the car was used\n",
        "\n",
        "***4. FuelType:***\n",
        "  - Petrol/Diesel/CNG car\n",
        "\n",
        "***5. HP:***\n",
        "  - Horse power of the car\n",
        "\n",
        "***6. MetColor:***\n",
        "  - Whether car has metallic color or not\n",
        "\n",
        "***7. Automatic:***\n",
        "  - Whether car has automatic transmission or not\n",
        "\n",
        "***8. CC:***\n",
        "  - The engine size of the car\n",
        "\n",
        "***9. Doors:***\n",
        "  - The number of doors in the car\n",
        "\n",
        "***10. Weight:***\n",
        "  - The weight of the car\n"
      ],
      "metadata": {
        "id": "9Eq62uDE7Trg"
      }
    },
    {
      "cell_type": "markdown",
      "source": [
        "### **BASIC CHECKS:**"
      ],
      "metadata": {
        "id": "5FViiU2M80Ol"
      }
    },
    {
      "cell_type": "code",
      "source": [
        "# checking the no of rows and columns\n",
        "\n",
        "data.shape"
      ],
      "metadata": {
        "id": "Vdf47IkZ-ctU",
        "colab": {
          "base_uri": "https://localhost:8080/"
        },
        "outputId": "86f2fa78-860d-4bf3-8a31-fe814c03fde7"
      },
      "execution_count": 109,
      "outputs": [
        {
          "output_type": "execute_result",
          "data": {
            "text/plain": [
              "(1436, 10)"
            ]
          },
          "metadata": {},
          "execution_count": 109
        }
      ]
    },
    {
      "cell_type": "code",
      "source": [
        "# checking the last five rows\n",
        "\n",
        "data.tail()"
      ],
      "metadata": {
        "colab": {
          "base_uri": "https://localhost:8080/",
          "height": 206
        },
        "id": "6plBpMZMGjvV",
        "outputId": "04506ca3-473a-4371-ada7-06ff2f07d040"
      },
      "execution_count": null,
      "outputs": [
        {
          "output_type": "execute_result",
          "data": {
            "text/plain": [
              "      Price   Age     KM FuelType   HP  MetColor  Automatic      CC  Doors  \\\n",
              "1431   7500  69.0  20544   Petrol   86         1          0  1300.0      3   \n",
              "1432  10845  72.0  19000   Petrol   86         0          0  1300.0      3   \n",
              "1433   8500  71.0  17016   Petrol   86         0          0  1300.0      3   \n",
              "1434   7250  70.0  16916   Petrol   86         1          0  1300.0      3   \n",
              "1435   6950  76.0      1   Petrol  110         0          0  1600.0      5   \n",
              "\n",
              "      Weight  \n",
              "1431  1025.0  \n",
              "1432  1015.0  \n",
              "1433  1015.0  \n",
              "1434  1015.0  \n",
              "1435  1114.0  "
            ],
            "text/html": [
              "\n",
              "  <div id=\"df-9cbb9787-f170-4ff5-9ce1-90c72e889714\" class=\"colab-df-container\">\n",
              "    <div>\n",
              "<style scoped>\n",
              "    .dataframe tbody tr th:only-of-type {\n",
              "        vertical-align: middle;\n",
              "    }\n",
              "\n",
              "    .dataframe tbody tr th {\n",
              "        vertical-align: top;\n",
              "    }\n",
              "\n",
              "    .dataframe thead th {\n",
              "        text-align: right;\n",
              "    }\n",
              "</style>\n",
              "<table border=\"1\" class=\"dataframe\">\n",
              "  <thead>\n",
              "    <tr style=\"text-align: right;\">\n",
              "      <th></th>\n",
              "      <th>Price</th>\n",
              "      <th>Age</th>\n",
              "      <th>KM</th>\n",
              "      <th>FuelType</th>\n",
              "      <th>HP</th>\n",
              "      <th>MetColor</th>\n",
              "      <th>Automatic</th>\n",
              "      <th>CC</th>\n",
              "      <th>Doors</th>\n",
              "      <th>Weight</th>\n",
              "    </tr>\n",
              "  </thead>\n",
              "  <tbody>\n",
              "    <tr>\n",
              "      <th>1431</th>\n",
              "      <td>7500</td>\n",
              "      <td>69.0</td>\n",
              "      <td>20544</td>\n",
              "      <td>Petrol</td>\n",
              "      <td>86</td>\n",
              "      <td>1</td>\n",
              "      <td>0</td>\n",
              "      <td>1300.0</td>\n",
              "      <td>3</td>\n",
              "      <td>1025.0</td>\n",
              "    </tr>\n",
              "    <tr>\n",
              "      <th>1432</th>\n",
              "      <td>10845</td>\n",
              "      <td>72.0</td>\n",
              "      <td>19000</td>\n",
              "      <td>Petrol</td>\n",
              "      <td>86</td>\n",
              "      <td>0</td>\n",
              "      <td>0</td>\n",
              "      <td>1300.0</td>\n",
              "      <td>3</td>\n",
              "      <td>1015.0</td>\n",
              "    </tr>\n",
              "    <tr>\n",
              "      <th>1433</th>\n",
              "      <td>8500</td>\n",
              "      <td>71.0</td>\n",
              "      <td>17016</td>\n",
              "      <td>Petrol</td>\n",
              "      <td>86</td>\n",
              "      <td>0</td>\n",
              "      <td>0</td>\n",
              "      <td>1300.0</td>\n",
              "      <td>3</td>\n",
              "      <td>1015.0</td>\n",
              "    </tr>\n",
              "    <tr>\n",
              "      <th>1434</th>\n",
              "      <td>7250</td>\n",
              "      <td>70.0</td>\n",
              "      <td>16916</td>\n",
              "      <td>Petrol</td>\n",
              "      <td>86</td>\n",
              "      <td>1</td>\n",
              "      <td>0</td>\n",
              "      <td>1300.0</td>\n",
              "      <td>3</td>\n",
              "      <td>1015.0</td>\n",
              "    </tr>\n",
              "    <tr>\n",
              "      <th>1435</th>\n",
              "      <td>6950</td>\n",
              "      <td>76.0</td>\n",
              "      <td>1</td>\n",
              "      <td>Petrol</td>\n",
              "      <td>110</td>\n",
              "      <td>0</td>\n",
              "      <td>0</td>\n",
              "      <td>1600.0</td>\n",
              "      <td>5</td>\n",
              "      <td>1114.0</td>\n",
              "    </tr>\n",
              "  </tbody>\n",
              "</table>\n",
              "</div>\n",
              "    <div class=\"colab-df-buttons\">\n",
              "\n",
              "  <div class=\"colab-df-container\">\n",
              "    <button class=\"colab-df-convert\" onclick=\"convertToInteractive('df-9cbb9787-f170-4ff5-9ce1-90c72e889714')\"\n",
              "            title=\"Convert this dataframe to an interactive table.\"\n",
              "            style=\"display:none;\">\n",
              "\n",
              "  <svg xmlns=\"http://www.w3.org/2000/svg\" height=\"24px\" viewBox=\"0 -960 960 960\">\n",
              "    <path d=\"M120-120v-720h720v720H120Zm60-500h600v-160H180v160Zm220 220h160v-160H400v160Zm0 220h160v-160H400v160ZM180-400h160v-160H180v160Zm440 0h160v-160H620v160ZM180-180h160v-160H180v160Zm440 0h160v-160H620v160Z\"/>\n",
              "  </svg>\n",
              "    </button>\n",
              "\n",
              "  <style>\n",
              "    .colab-df-container {\n",
              "      display:flex;\n",
              "      gap: 12px;\n",
              "    }\n",
              "\n",
              "    .colab-df-convert {\n",
              "      background-color: #E8F0FE;\n",
              "      border: none;\n",
              "      border-radius: 50%;\n",
              "      cursor: pointer;\n",
              "      display: none;\n",
              "      fill: #1967D2;\n",
              "      height: 32px;\n",
              "      padding: 0 0 0 0;\n",
              "      width: 32px;\n",
              "    }\n",
              "\n",
              "    .colab-df-convert:hover {\n",
              "      background-color: #E2EBFA;\n",
              "      box-shadow: 0px 1px 2px rgba(60, 64, 67, 0.3), 0px 1px 3px 1px rgba(60, 64, 67, 0.15);\n",
              "      fill: #174EA6;\n",
              "    }\n",
              "\n",
              "    .colab-df-buttons div {\n",
              "      margin-bottom: 4px;\n",
              "    }\n",
              "\n",
              "    [theme=dark] .colab-df-convert {\n",
              "      background-color: #3B4455;\n",
              "      fill: #D2E3FC;\n",
              "    }\n",
              "\n",
              "    [theme=dark] .colab-df-convert:hover {\n",
              "      background-color: #434B5C;\n",
              "      box-shadow: 0px 1px 3px 1px rgba(0, 0, 0, 0.15);\n",
              "      filter: drop-shadow(0px 1px 2px rgba(0, 0, 0, 0.3));\n",
              "      fill: #FFFFFF;\n",
              "    }\n",
              "  </style>\n",
              "\n",
              "    <script>\n",
              "      const buttonEl =\n",
              "        document.querySelector('#df-9cbb9787-f170-4ff5-9ce1-90c72e889714 button.colab-df-convert');\n",
              "      buttonEl.style.display =\n",
              "        google.colab.kernel.accessAllowed ? 'block' : 'none';\n",
              "\n",
              "      async function convertToInteractive(key) {\n",
              "        const element = document.querySelector('#df-9cbb9787-f170-4ff5-9ce1-90c72e889714');\n",
              "        const dataTable =\n",
              "          await google.colab.kernel.invokeFunction('convertToInteractive',\n",
              "                                                    [key], {});\n",
              "        if (!dataTable) return;\n",
              "\n",
              "        const docLinkHtml = 'Like what you see? Visit the ' +\n",
              "          '<a target=\"_blank\" href=https://colab.research.google.com/notebooks/data_table.ipynb>data table notebook</a>'\n",
              "          + ' to learn more about interactive tables.';\n",
              "        element.innerHTML = '';\n",
              "        dataTable['output_type'] = 'display_data';\n",
              "        await google.colab.output.renderOutput(dataTable, element);\n",
              "        const docLink = document.createElement('div');\n",
              "        docLink.innerHTML = docLinkHtml;\n",
              "        element.appendChild(docLink);\n",
              "      }\n",
              "    </script>\n",
              "  </div>\n",
              "\n",
              "\n",
              "<div id=\"df-8d05e682-357c-4e12-a2ce-7dd98070f092\">\n",
              "  <button class=\"colab-df-quickchart\" onclick=\"quickchart('df-8d05e682-357c-4e12-a2ce-7dd98070f092')\"\n",
              "            title=\"Suggest charts\"\n",
              "            style=\"display:none;\">\n",
              "\n",
              "<svg xmlns=\"http://www.w3.org/2000/svg\" height=\"24px\"viewBox=\"0 0 24 24\"\n",
              "     width=\"24px\">\n",
              "    <g>\n",
              "        <path d=\"M19 3H5c-1.1 0-2 .9-2 2v14c0 1.1.9 2 2 2h14c1.1 0 2-.9 2-2V5c0-1.1-.9-2-2-2zM9 17H7v-7h2v7zm4 0h-2V7h2v10zm4 0h-2v-4h2v4z\"/>\n",
              "    </g>\n",
              "</svg>\n",
              "  </button>\n",
              "\n",
              "<style>\n",
              "  .colab-df-quickchart {\n",
              "      --bg-color: #E8F0FE;\n",
              "      --fill-color: #1967D2;\n",
              "      --hover-bg-color: #E2EBFA;\n",
              "      --hover-fill-color: #174EA6;\n",
              "      --disabled-fill-color: #AAA;\n",
              "      --disabled-bg-color: #DDD;\n",
              "  }\n",
              "\n",
              "  [theme=dark] .colab-df-quickchart {\n",
              "      --bg-color: #3B4455;\n",
              "      --fill-color: #D2E3FC;\n",
              "      --hover-bg-color: #434B5C;\n",
              "      --hover-fill-color: #FFFFFF;\n",
              "      --disabled-bg-color: #3B4455;\n",
              "      --disabled-fill-color: #666;\n",
              "  }\n",
              "\n",
              "  .colab-df-quickchart {\n",
              "    background-color: var(--bg-color);\n",
              "    border: none;\n",
              "    border-radius: 50%;\n",
              "    cursor: pointer;\n",
              "    display: none;\n",
              "    fill: var(--fill-color);\n",
              "    height: 32px;\n",
              "    padding: 0;\n",
              "    width: 32px;\n",
              "  }\n",
              "\n",
              "  .colab-df-quickchart:hover {\n",
              "    background-color: var(--hover-bg-color);\n",
              "    box-shadow: 0 1px 2px rgba(60, 64, 67, 0.3), 0 1px 3px 1px rgba(60, 64, 67, 0.15);\n",
              "    fill: var(--button-hover-fill-color);\n",
              "  }\n",
              "\n",
              "  .colab-df-quickchart-complete:disabled,\n",
              "  .colab-df-quickchart-complete:disabled:hover {\n",
              "    background-color: var(--disabled-bg-color);\n",
              "    fill: var(--disabled-fill-color);\n",
              "    box-shadow: none;\n",
              "  }\n",
              "\n",
              "  .colab-df-spinner {\n",
              "    border: 2px solid var(--fill-color);\n",
              "    border-color: transparent;\n",
              "    border-bottom-color: var(--fill-color);\n",
              "    animation:\n",
              "      spin 1s steps(1) infinite;\n",
              "  }\n",
              "\n",
              "  @keyframes spin {\n",
              "    0% {\n",
              "      border-color: transparent;\n",
              "      border-bottom-color: var(--fill-color);\n",
              "      border-left-color: var(--fill-color);\n",
              "    }\n",
              "    20% {\n",
              "      border-color: transparent;\n",
              "      border-left-color: var(--fill-color);\n",
              "      border-top-color: var(--fill-color);\n",
              "    }\n",
              "    30% {\n",
              "      border-color: transparent;\n",
              "      border-left-color: var(--fill-color);\n",
              "      border-top-color: var(--fill-color);\n",
              "      border-right-color: var(--fill-color);\n",
              "    }\n",
              "    40% {\n",
              "      border-color: transparent;\n",
              "      border-right-color: var(--fill-color);\n",
              "      border-top-color: var(--fill-color);\n",
              "    }\n",
              "    60% {\n",
              "      border-color: transparent;\n",
              "      border-right-color: var(--fill-color);\n",
              "    }\n",
              "    80% {\n",
              "      border-color: transparent;\n",
              "      border-right-color: var(--fill-color);\n",
              "      border-bottom-color: var(--fill-color);\n",
              "    }\n",
              "    90% {\n",
              "      border-color: transparent;\n",
              "      border-bottom-color: var(--fill-color);\n",
              "    }\n",
              "  }\n",
              "</style>\n",
              "\n",
              "  <script>\n",
              "    async function quickchart(key) {\n",
              "      const quickchartButtonEl =\n",
              "        document.querySelector('#' + key + ' button');\n",
              "      quickchartButtonEl.disabled = true;  // To prevent multiple clicks.\n",
              "      quickchartButtonEl.classList.add('colab-df-spinner');\n",
              "      try {\n",
              "        const charts = await google.colab.kernel.invokeFunction(\n",
              "            'suggestCharts', [key], {});\n",
              "      } catch (error) {\n",
              "        console.error('Error during call to suggestCharts:', error);\n",
              "      }\n",
              "      quickchartButtonEl.classList.remove('colab-df-spinner');\n",
              "      quickchartButtonEl.classList.add('colab-df-quickchart-complete');\n",
              "    }\n",
              "    (() => {\n",
              "      let quickchartButtonEl =\n",
              "        document.querySelector('#df-8d05e682-357c-4e12-a2ce-7dd98070f092 button');\n",
              "      quickchartButtonEl.style.display =\n",
              "        google.colab.kernel.accessAllowed ? 'block' : 'none';\n",
              "    })();\n",
              "  </script>\n",
              "</div>\n",
              "\n",
              "    </div>\n",
              "  </div>\n"
            ],
            "application/vnd.google.colaboratory.intrinsic+json": {
              "type": "dataframe",
              "summary": "{\n  \"name\": \"data\",\n  \"rows\": 5,\n  \"fields\": [\n    {\n      \"column\": \"Price\",\n      \"properties\": {\n        \"dtype\": \"number\",\n        \"std\": 1584,\n        \"min\": 6950,\n        \"max\": 10845,\n        \"num_unique_values\": 5,\n        \"samples\": [\n          10845,\n          6950,\n          8500\n        ],\n        \"semantic_type\": \"\",\n        \"description\": \"\"\n      }\n    },\n    {\n      \"column\": \"Age\",\n      \"properties\": {\n        \"dtype\": \"number\",\n        \"std\": 2.701851217221259,\n        \"min\": 69.0,\n        \"max\": 76.0,\n        \"num_unique_values\": 5,\n        \"samples\": [\n          72.0,\n          76.0,\n          71.0\n        ],\n        \"semantic_type\": \"\",\n        \"description\": \"\"\n      }\n    },\n    {\n      \"column\": \"KM\",\n      \"properties\": {\n        \"dtype\": \"number\",\n        \"std\": 8351,\n        \"min\": 1,\n        \"max\": 20544,\n        \"num_unique_values\": 5,\n        \"samples\": [\n          19000,\n          1,\n          17016\n        ],\n        \"semantic_type\": \"\",\n        \"description\": \"\"\n      }\n    },\n    {\n      \"column\": \"FuelType\",\n      \"properties\": {\n        \"dtype\": \"category\",\n        \"num_unique_values\": 1,\n        \"samples\": [\n          \"Petrol\"\n        ],\n        \"semantic_type\": \"\",\n        \"description\": \"\"\n      }\n    },\n    {\n      \"column\": \"HP\",\n      \"properties\": {\n        \"dtype\": \"number\",\n        \"std\": 10,\n        \"min\": 86,\n        \"max\": 110,\n        \"num_unique_values\": 2,\n        \"samples\": [\n          110\n        ],\n        \"semantic_type\": \"\",\n        \"description\": \"\"\n      }\n    },\n    {\n      \"column\": \"MetColor\",\n      \"properties\": {\n        \"dtype\": \"number\",\n        \"std\": 0,\n        \"min\": 0,\n        \"max\": 1,\n        \"num_unique_values\": 2,\n        \"samples\": [\n          0\n        ],\n        \"semantic_type\": \"\",\n        \"description\": \"\"\n      }\n    },\n    {\n      \"column\": \"Automatic\",\n      \"properties\": {\n        \"dtype\": \"number\",\n        \"std\": 0,\n        \"min\": 0,\n        \"max\": 0,\n        \"num_unique_values\": 1,\n        \"samples\": [\n          0\n        ],\n        \"semantic_type\": \"\",\n        \"description\": \"\"\n      }\n    },\n    {\n      \"column\": \"CC\",\n      \"properties\": {\n        \"dtype\": \"number\",\n        \"std\": 134.16407864998737,\n        \"min\": 1300.0,\n        \"max\": 1600.0,\n        \"num_unique_values\": 2,\n        \"samples\": [\n          1600.0\n        ],\n        \"semantic_type\": \"\",\n        \"description\": \"\"\n      }\n    },\n    {\n      \"column\": \"Doors\",\n      \"properties\": {\n        \"dtype\": \"number\",\n        \"std\": 0,\n        \"min\": 3,\n        \"max\": 5,\n        \"num_unique_values\": 2,\n        \"samples\": [\n          5\n        ],\n        \"semantic_type\": \"\",\n        \"description\": \"\"\n      }\n    },\n    {\n      \"column\": \"Weight\",\n      \"properties\": {\n        \"dtype\": \"number\",\n        \"std\": 43.37280253799609,\n        \"min\": 1015.0,\n        \"max\": 1114.0,\n        \"num_unique_values\": 3,\n        \"samples\": [\n          1025.0\n        ],\n        \"semantic_type\": \"\",\n        \"description\": \"\"\n      }\n    }\n  ]\n}"
            }
          },
          "metadata": {},
          "execution_count": 5
        }
      ]
    },
    {
      "cell_type": "code",
      "source": [
        "# checking the datatypes\n",
        "\n",
        "data.dtypes"
      ],
      "metadata": {
        "colab": {
          "base_uri": "https://localhost:8080/"
        },
        "id": "q1VZIqcLGoEa",
        "outputId": "88c3ae63-351f-49cd-d4a2-1a3f7a138e88"
      },
      "execution_count": null,
      "outputs": [
        {
          "output_type": "execute_result",
          "data": {
            "text/plain": [
              "Price          int64\n",
              "Age          float64\n",
              "KM             int64\n",
              "FuelType      object\n",
              "HP             int64\n",
              "MetColor       int64\n",
              "Automatic      int64\n",
              "CC           float64\n",
              "Doors          int64\n",
              "Weight       float64\n",
              "dtype: object"
            ]
          },
          "metadata": {},
          "execution_count": 7
        }
      ]
    },
    {
      "cell_type": "markdown",
      "source": [
        "##### Insights:\n",
        "- all are numerical columns with int64 and float64 datatypes except the FuelType column."
      ],
      "metadata": {
        "id": "NU1NpV-yHM0w"
      }
    },
    {
      "cell_type": "code",
      "source": [
        "data.info()"
      ],
      "metadata": {
        "colab": {
          "base_uri": "https://localhost:8080/"
        },
        "id": "zlE6az-RH1-x",
        "outputId": "f8ffc491-0b36-4acb-ce3b-17dc4c581540"
      },
      "execution_count": null,
      "outputs": [
        {
          "output_type": "stream",
          "name": "stdout",
          "text": [
            "<class 'pandas.core.frame.DataFrame'>\n",
            "RangeIndex: 1436 entries, 0 to 1435\n",
            "Data columns (total 10 columns):\n",
            " #   Column     Non-Null Count  Dtype  \n",
            "---  ------     --------------  -----  \n",
            " 0   Price      1436 non-null   int64  \n",
            " 1   Age        1434 non-null   float64\n",
            " 2   KM         1436 non-null   int64  \n",
            " 3   FuelType   1432 non-null   object \n",
            " 4   HP         1436 non-null   int64  \n",
            " 5   MetColor   1436 non-null   int64  \n",
            " 6   Automatic  1436 non-null   int64  \n",
            " 7   CC         1434 non-null   float64\n",
            " 8   Doors      1436 non-null   int64  \n",
            " 9   Weight     1434 non-null   float64\n",
            "dtypes: float64(3), int64(6), object(1)\n",
            "memory usage: 112.3+ KB\n"
          ]
        }
      ]
    },
    {
      "cell_type": "markdown",
      "source": [
        "##### Insights:\n",
        "- There are certain features with null values such as Age, FuelType, CC and Weight."
      ],
      "metadata": {
        "id": "l5F-3j-1H7NS"
      }
    },
    {
      "cell_type": "code",
      "source": [
        "data.describe().T.sort_values('std', ascending = False).style.background_gradient(cmap= \"PuBuGn\")"
      ],
      "metadata": {
        "colab": {
          "base_uri": "https://localhost:8080/",
          "height": 331
        },
        "id": "QBU-Da_FIsI3",
        "outputId": "57bcb18a-2907-4c1a-f01c-09e128733c73"
      },
      "execution_count": null,
      "outputs": [
        {
          "output_type": "execute_result",
          "data": {
            "text/plain": [
              "<pandas.io.formats.style.Styler at 0x79856d414d90>"
            ],
            "text/html": [
              "<style type=\"text/css\">\n",
              "#T_02d02_row0_col0, #T_02d02_row0_col1, #T_02d02_row0_col2, #T_02d02_row0_col4, #T_02d02_row0_col5, #T_02d02_row0_col6, #T_02d02_row0_col7, #T_02d02_row1_col0, #T_02d02_row1_col3, #T_02d02_row5_col0, #T_02d02_row6_col0, #T_02d02_row7_col0, #T_02d02_row8_col0 {\n",
              "  background-color: #014636;\n",
              "  color: #f1f1f1;\n",
              "}\n",
              "#T_02d02_row0_col3, #T_02d02_row2_col0, #T_02d02_row3_col0, #T_02d02_row3_col2, #T_02d02_row4_col0, #T_02d02_row4_col1, #T_02d02_row4_col2, #T_02d02_row4_col3, #T_02d02_row4_col4, #T_02d02_row4_col5, #T_02d02_row4_col6, #T_02d02_row4_col7, #T_02d02_row5_col1, #T_02d02_row5_col2, #T_02d02_row5_col4, #T_02d02_row5_col5, #T_02d02_row5_col6, #T_02d02_row5_col7, #T_02d02_row6_col1, #T_02d02_row6_col2, #T_02d02_row6_col3, #T_02d02_row6_col4, #T_02d02_row6_col5, #T_02d02_row6_col6, #T_02d02_row6_col7, #T_02d02_row7_col1, #T_02d02_row7_col2, #T_02d02_row7_col3, #T_02d02_row7_col4, #T_02d02_row7_col5, #T_02d02_row7_col6, #T_02d02_row7_col7, #T_02d02_row8_col1, #T_02d02_row8_col2, #T_02d02_row8_col3, #T_02d02_row8_col4, #T_02d02_row8_col5, #T_02d02_row8_col6, #T_02d02_row8_col7 {\n",
              "  background-color: #fff7fb;\n",
              "  color: #000000;\n",
              "}\n",
              "#T_02d02_row1_col1 {\n",
              "  background-color: #e5deed;\n",
              "  color: #000000;\n",
              "}\n",
              "#T_02d02_row1_col2 {\n",
              "  background-color: #f1e7f3;\n",
              "  color: #000000;\n",
              "}\n",
              "#T_02d02_row1_col4 {\n",
              "  background-color: #dcd8ea;\n",
              "  color: #000000;\n",
              "}\n",
              "#T_02d02_row1_col5 {\n",
              "  background-color: #e6deee;\n",
              "  color: #000000;\n",
              "}\n",
              "#T_02d02_row1_col6 {\n",
              "  background-color: #e9e0ef;\n",
              "  color: #000000;\n",
              "}\n",
              "#T_02d02_row1_col7 {\n",
              "  background-color: #eae1ef;\n",
              "  color: #000000;\n",
              "}\n",
              "#T_02d02_row2_col1 {\n",
              "  background-color: #fcf4f9;\n",
              "  color: #000000;\n",
              "}\n",
              "#T_02d02_row2_col2, #T_02d02_row3_col7 {\n",
              "  background-color: #fef6fb;\n",
              "  color: #000000;\n",
              "}\n",
              "#T_02d02_row2_col3 {\n",
              "  background-color: #c0c9e2;\n",
              "  color: #000000;\n",
              "}\n",
              "#T_02d02_row2_col4 {\n",
              "  background-color: #faf2f8;\n",
              "  color: #000000;\n",
              "}\n",
              "#T_02d02_row2_col5, #T_02d02_row3_col4 {\n",
              "  background-color: #fbf3f9;\n",
              "  color: #000000;\n",
              "}\n",
              "#T_02d02_row2_col6, #T_02d02_row3_col1, #T_02d02_row3_col5, #T_02d02_row5_col3 {\n",
              "  background-color: #fdf4fa;\n",
              "  color: #000000;\n",
              "}\n",
              "#T_02d02_row2_col7 {\n",
              "  background-color: #fef6fa;\n",
              "  color: #000000;\n",
              "}\n",
              "#T_02d02_row3_col3 {\n",
              "  background-color: #d5d4e8;\n",
              "  color: #000000;\n",
              "}\n",
              "#T_02d02_row3_col6 {\n",
              "  background-color: #fdf5fa;\n",
              "  color: #000000;\n",
              "}\n",
              "</style>\n",
              "<table id=\"T_02d02\" class=\"dataframe\">\n",
              "  <thead>\n",
              "    <tr>\n",
              "      <th class=\"blank level0\" >&nbsp;</th>\n",
              "      <th id=\"T_02d02_level0_col0\" class=\"col_heading level0 col0\" >count</th>\n",
              "      <th id=\"T_02d02_level0_col1\" class=\"col_heading level0 col1\" >mean</th>\n",
              "      <th id=\"T_02d02_level0_col2\" class=\"col_heading level0 col2\" >std</th>\n",
              "      <th id=\"T_02d02_level0_col3\" class=\"col_heading level0 col3\" >min</th>\n",
              "      <th id=\"T_02d02_level0_col4\" class=\"col_heading level0 col4\" >25%</th>\n",
              "      <th id=\"T_02d02_level0_col5\" class=\"col_heading level0 col5\" >50%</th>\n",
              "      <th id=\"T_02d02_level0_col6\" class=\"col_heading level0 col6\" >75%</th>\n",
              "      <th id=\"T_02d02_level0_col7\" class=\"col_heading level0 col7\" >max</th>\n",
              "    </tr>\n",
              "  </thead>\n",
              "  <tbody>\n",
              "    <tr>\n",
              "      <th id=\"T_02d02_level0_row0\" class=\"row_heading level0 row0\" >KM</th>\n",
              "      <td id=\"T_02d02_row0_col0\" class=\"data row0 col0\" >1436.000000</td>\n",
              "      <td id=\"T_02d02_row0_col1\" class=\"data row0 col1\" >68533.259749</td>\n",
              "      <td id=\"T_02d02_row0_col2\" class=\"data row0 col2\" >37506.448872</td>\n",
              "      <td id=\"T_02d02_row0_col3\" class=\"data row0 col3\" >1.000000</td>\n",
              "      <td id=\"T_02d02_row0_col4\" class=\"data row0 col4\" >43000.000000</td>\n",
              "      <td id=\"T_02d02_row0_col5\" class=\"data row0 col5\" >63389.500000</td>\n",
              "      <td id=\"T_02d02_row0_col6\" class=\"data row0 col6\" >87020.750000</td>\n",
              "      <td id=\"T_02d02_row0_col7\" class=\"data row0 col7\" >243000.000000</td>\n",
              "    </tr>\n",
              "    <tr>\n",
              "      <th id=\"T_02d02_level0_row1\" class=\"row_heading level0 row1\" >Price</th>\n",
              "      <td id=\"T_02d02_row1_col0\" class=\"data row1 col0\" >1436.000000</td>\n",
              "      <td id=\"T_02d02_row1_col1\" class=\"data row1 col1\" >10730.824513</td>\n",
              "      <td id=\"T_02d02_row1_col2\" class=\"data row1 col2\" >3626.964585</td>\n",
              "      <td id=\"T_02d02_row1_col3\" class=\"data row1 col3\" >4350.000000</td>\n",
              "      <td id=\"T_02d02_row1_col4\" class=\"data row1 col4\" >8450.000000</td>\n",
              "      <td id=\"T_02d02_row1_col5\" class=\"data row1 col5\" >9900.000000</td>\n",
              "      <td id=\"T_02d02_row1_col6\" class=\"data row1 col6\" >11950.000000</td>\n",
              "      <td id=\"T_02d02_row1_col7\" class=\"data row1 col7\" >32500.000000</td>\n",
              "    </tr>\n",
              "    <tr>\n",
              "      <th id=\"T_02d02_level0_row2\" class=\"row_heading level0 row2\" >CC</th>\n",
              "      <td id=\"T_02d02_row2_col0\" class=\"data row2 col0\" >1434.000000</td>\n",
              "      <td id=\"T_02d02_row2_col1\" class=\"data row2 col1\" >1566.990934</td>\n",
              "      <td id=\"T_02d02_row2_col2\" class=\"data row2 col2\" >187.178221</td>\n",
              "      <td id=\"T_02d02_row2_col3\" class=\"data row2 col3\" >1300.000000</td>\n",
              "      <td id=\"T_02d02_row2_col4\" class=\"data row2 col4\" >1400.000000</td>\n",
              "      <td id=\"T_02d02_row2_col5\" class=\"data row2 col5\" >1600.000000</td>\n",
              "      <td id=\"T_02d02_row2_col6\" class=\"data row2 col6\" >1600.000000</td>\n",
              "      <td id=\"T_02d02_row2_col7\" class=\"data row2 col7\" >2000.000000</td>\n",
              "    </tr>\n",
              "    <tr>\n",
              "      <th id=\"T_02d02_level0_row3\" class=\"row_heading level0 row3\" >Weight</th>\n",
              "      <td id=\"T_02d02_row3_col0\" class=\"data row3 col0\" >1434.000000</td>\n",
              "      <td id=\"T_02d02_row3_col1\" class=\"data row3 col1\" >1072.487448</td>\n",
              "      <td id=\"T_02d02_row3_col2\" class=\"data row3 col2\" >52.672475</td>\n",
              "      <td id=\"T_02d02_row3_col3\" class=\"data row3 col3\" >1000.000000</td>\n",
              "      <td id=\"T_02d02_row3_col4\" class=\"data row3 col4\" >1040.000000</td>\n",
              "      <td id=\"T_02d02_row3_col5\" class=\"data row3 col5\" >1070.000000</td>\n",
              "      <td id=\"T_02d02_row3_col6\" class=\"data row3 col6\" >1085.000000</td>\n",
              "      <td id=\"T_02d02_row3_col7\" class=\"data row3 col7\" >1615.000000</td>\n",
              "    </tr>\n",
              "    <tr>\n",
              "      <th id=\"T_02d02_level0_row4\" class=\"row_heading level0 row4\" >Age</th>\n",
              "      <td id=\"T_02d02_row4_col0\" class=\"data row4 col0\" >1434.000000</td>\n",
              "      <td id=\"T_02d02_row4_col1\" class=\"data row4 col1\" >55.986750</td>\n",
              "      <td id=\"T_02d02_row4_col2\" class=\"data row4 col2\" >18.581796</td>\n",
              "      <td id=\"T_02d02_row4_col3\" class=\"data row4 col3\" >1.000000</td>\n",
              "      <td id=\"T_02d02_row4_col4\" class=\"data row4 col4\" >44.000000</td>\n",
              "      <td id=\"T_02d02_row4_col5\" class=\"data row4 col5\" >61.000000</td>\n",
              "      <td id=\"T_02d02_row4_col6\" class=\"data row4 col6\" >70.000000</td>\n",
              "      <td id=\"T_02d02_row4_col7\" class=\"data row4 col7\" >80.000000</td>\n",
              "    </tr>\n",
              "    <tr>\n",
              "      <th id=\"T_02d02_level0_row5\" class=\"row_heading level0 row5\" >HP</th>\n",
              "      <td id=\"T_02d02_row5_col0\" class=\"data row5 col0\" >1436.000000</td>\n",
              "      <td id=\"T_02d02_row5_col1\" class=\"data row5 col1\" >101.502089</td>\n",
              "      <td id=\"T_02d02_row5_col2\" class=\"data row5 col2\" >14.981080</td>\n",
              "      <td id=\"T_02d02_row5_col3\" class=\"data row5 col3\" >69.000000</td>\n",
              "      <td id=\"T_02d02_row5_col4\" class=\"data row5 col4\" >90.000000</td>\n",
              "      <td id=\"T_02d02_row5_col5\" class=\"data row5 col5\" >110.000000</td>\n",
              "      <td id=\"T_02d02_row5_col6\" class=\"data row5 col6\" >110.000000</td>\n",
              "      <td id=\"T_02d02_row5_col7\" class=\"data row5 col7\" >192.000000</td>\n",
              "    </tr>\n",
              "    <tr>\n",
              "      <th id=\"T_02d02_level0_row6\" class=\"row_heading level0 row6\" >Doors</th>\n",
              "      <td id=\"T_02d02_row6_col0\" class=\"data row6 col0\" >1436.000000</td>\n",
              "      <td id=\"T_02d02_row6_col1\" class=\"data row6 col1\" >4.033426</td>\n",
              "      <td id=\"T_02d02_row6_col2\" class=\"data row6 col2\" >0.952677</td>\n",
              "      <td id=\"T_02d02_row6_col3\" class=\"data row6 col3\" >2.000000</td>\n",
              "      <td id=\"T_02d02_row6_col4\" class=\"data row6 col4\" >3.000000</td>\n",
              "      <td id=\"T_02d02_row6_col5\" class=\"data row6 col5\" >4.000000</td>\n",
              "      <td id=\"T_02d02_row6_col6\" class=\"data row6 col6\" >5.000000</td>\n",
              "      <td id=\"T_02d02_row6_col7\" class=\"data row6 col7\" >5.000000</td>\n",
              "    </tr>\n",
              "    <tr>\n",
              "      <th id=\"T_02d02_level0_row7\" class=\"row_heading level0 row7\" >MetColor</th>\n",
              "      <td id=\"T_02d02_row7_col0\" class=\"data row7 col0\" >1436.000000</td>\n",
              "      <td id=\"T_02d02_row7_col1\" class=\"data row7 col1\" >0.674791</td>\n",
              "      <td id=\"T_02d02_row7_col2\" class=\"data row7 col2\" >0.468616</td>\n",
              "      <td id=\"T_02d02_row7_col3\" class=\"data row7 col3\" >0.000000</td>\n",
              "      <td id=\"T_02d02_row7_col4\" class=\"data row7 col4\" >0.000000</td>\n",
              "      <td id=\"T_02d02_row7_col5\" class=\"data row7 col5\" >1.000000</td>\n",
              "      <td id=\"T_02d02_row7_col6\" class=\"data row7 col6\" >1.000000</td>\n",
              "      <td id=\"T_02d02_row7_col7\" class=\"data row7 col7\" >1.000000</td>\n",
              "    </tr>\n",
              "    <tr>\n",
              "      <th id=\"T_02d02_level0_row8\" class=\"row_heading level0 row8\" >Automatic</th>\n",
              "      <td id=\"T_02d02_row8_col0\" class=\"data row8 col0\" >1436.000000</td>\n",
              "      <td id=\"T_02d02_row8_col1\" class=\"data row8 col1\" >0.055710</td>\n",
              "      <td id=\"T_02d02_row8_col2\" class=\"data row8 col2\" >0.229441</td>\n",
              "      <td id=\"T_02d02_row8_col3\" class=\"data row8 col3\" >0.000000</td>\n",
              "      <td id=\"T_02d02_row8_col4\" class=\"data row8 col4\" >0.000000</td>\n",
              "      <td id=\"T_02d02_row8_col5\" class=\"data row8 col5\" >0.000000</td>\n",
              "      <td id=\"T_02d02_row8_col6\" class=\"data row8 col6\" >0.000000</td>\n",
              "      <td id=\"T_02d02_row8_col7\" class=\"data row8 col7\" >1.000000</td>\n",
              "    </tr>\n",
              "  </tbody>\n",
              "</table>\n"
            ]
          },
          "metadata": {},
          "execution_count": 4
        }
      ]
    },
    {
      "cell_type": "code",
      "source": [
        "data.describe(include= 'object').T"
      ],
      "metadata": {
        "colab": {
          "base_uri": "https://localhost:8080/",
          "height": 81
        },
        "id": "jEAf1ArAJDsK",
        "outputId": "33e1494b-6a46-436c-c264-430f28afb3dd"
      },
      "execution_count": null,
      "outputs": [
        {
          "output_type": "execute_result",
          "data": {
            "text/plain": [
              "         count unique     top  freq\n",
              "FuelType  1432      3  Petrol  1260"
            ],
            "text/html": [
              "\n",
              "  <div id=\"df-f1a0268e-9b3b-4505-bfc1-52b9f5a2c569\" class=\"colab-df-container\">\n",
              "    <div>\n",
              "<style scoped>\n",
              "    .dataframe tbody tr th:only-of-type {\n",
              "        vertical-align: middle;\n",
              "    }\n",
              "\n",
              "    .dataframe tbody tr th {\n",
              "        vertical-align: top;\n",
              "    }\n",
              "\n",
              "    .dataframe thead th {\n",
              "        text-align: right;\n",
              "    }\n",
              "</style>\n",
              "<table border=\"1\" class=\"dataframe\">\n",
              "  <thead>\n",
              "    <tr style=\"text-align: right;\">\n",
              "      <th></th>\n",
              "      <th>count</th>\n",
              "      <th>unique</th>\n",
              "      <th>top</th>\n",
              "      <th>freq</th>\n",
              "    </tr>\n",
              "  </thead>\n",
              "  <tbody>\n",
              "    <tr>\n",
              "      <th>FuelType</th>\n",
              "      <td>1432</td>\n",
              "      <td>3</td>\n",
              "      <td>Petrol</td>\n",
              "      <td>1260</td>\n",
              "    </tr>\n",
              "  </tbody>\n",
              "</table>\n",
              "</div>\n",
              "    <div class=\"colab-df-buttons\">\n",
              "\n",
              "  <div class=\"colab-df-container\">\n",
              "    <button class=\"colab-df-convert\" onclick=\"convertToInteractive('df-f1a0268e-9b3b-4505-bfc1-52b9f5a2c569')\"\n",
              "            title=\"Convert this dataframe to an interactive table.\"\n",
              "            style=\"display:none;\">\n",
              "\n",
              "  <svg xmlns=\"http://www.w3.org/2000/svg\" height=\"24px\" viewBox=\"0 -960 960 960\">\n",
              "    <path d=\"M120-120v-720h720v720H120Zm60-500h600v-160H180v160Zm220 220h160v-160H400v160Zm0 220h160v-160H400v160ZM180-400h160v-160H180v160Zm440 0h160v-160H620v160ZM180-180h160v-160H180v160Zm440 0h160v-160H620v160Z\"/>\n",
              "  </svg>\n",
              "    </button>\n",
              "\n",
              "  <style>\n",
              "    .colab-df-container {\n",
              "      display:flex;\n",
              "      gap: 12px;\n",
              "    }\n",
              "\n",
              "    .colab-df-convert {\n",
              "      background-color: #E8F0FE;\n",
              "      border: none;\n",
              "      border-radius: 50%;\n",
              "      cursor: pointer;\n",
              "      display: none;\n",
              "      fill: #1967D2;\n",
              "      height: 32px;\n",
              "      padding: 0 0 0 0;\n",
              "      width: 32px;\n",
              "    }\n",
              "\n",
              "    .colab-df-convert:hover {\n",
              "      background-color: #E2EBFA;\n",
              "      box-shadow: 0px 1px 2px rgba(60, 64, 67, 0.3), 0px 1px 3px 1px rgba(60, 64, 67, 0.15);\n",
              "      fill: #174EA6;\n",
              "    }\n",
              "\n",
              "    .colab-df-buttons div {\n",
              "      margin-bottom: 4px;\n",
              "    }\n",
              "\n",
              "    [theme=dark] .colab-df-convert {\n",
              "      background-color: #3B4455;\n",
              "      fill: #D2E3FC;\n",
              "    }\n",
              "\n",
              "    [theme=dark] .colab-df-convert:hover {\n",
              "      background-color: #434B5C;\n",
              "      box-shadow: 0px 1px 3px 1px rgba(0, 0, 0, 0.15);\n",
              "      filter: drop-shadow(0px 1px 2px rgba(0, 0, 0, 0.3));\n",
              "      fill: #FFFFFF;\n",
              "    }\n",
              "  </style>\n",
              "\n",
              "    <script>\n",
              "      const buttonEl =\n",
              "        document.querySelector('#df-f1a0268e-9b3b-4505-bfc1-52b9f5a2c569 button.colab-df-convert');\n",
              "      buttonEl.style.display =\n",
              "        google.colab.kernel.accessAllowed ? 'block' : 'none';\n",
              "\n",
              "      async function convertToInteractive(key) {\n",
              "        const element = document.querySelector('#df-f1a0268e-9b3b-4505-bfc1-52b9f5a2c569');\n",
              "        const dataTable =\n",
              "          await google.colab.kernel.invokeFunction('convertToInteractive',\n",
              "                                                    [key], {});\n",
              "        if (!dataTable) return;\n",
              "\n",
              "        const docLinkHtml = 'Like what you see? Visit the ' +\n",
              "          '<a target=\"_blank\" href=https://colab.research.google.com/notebooks/data_table.ipynb>data table notebook</a>'\n",
              "          + ' to learn more about interactive tables.';\n",
              "        element.innerHTML = '';\n",
              "        dataTable['output_type'] = 'display_data';\n",
              "        await google.colab.output.renderOutput(dataTable, element);\n",
              "        const docLink = document.createElement('div');\n",
              "        docLink.innerHTML = docLinkHtml;\n",
              "        element.appendChild(docLink);\n",
              "      }\n",
              "    </script>\n",
              "  </div>\n",
              "\n",
              "\n",
              "    </div>\n",
              "  </div>\n"
            ],
            "application/vnd.google.colaboratory.intrinsic+json": {
              "type": "dataframe",
              "summary": "{\n  \"name\": \"data\",\n  \"rows\": 1,\n  \"fields\": [\n    {\n      \"column\": \"count\",\n      \"properties\": {\n        \"dtype\": \"date\",\n        \"min\": \"1432\",\n        \"max\": \"1432\",\n        \"num_unique_values\": 1,\n        \"samples\": [\n          \"1432\"\n        ],\n        \"semantic_type\": \"\",\n        \"description\": \"\"\n      }\n    },\n    {\n      \"column\": \"unique\",\n      \"properties\": {\n        \"dtype\": \"date\",\n        \"min\": 3,\n        \"max\": 3,\n        \"num_unique_values\": 1,\n        \"samples\": [\n          3\n        ],\n        \"semantic_type\": \"\",\n        \"description\": \"\"\n      }\n    },\n    {\n      \"column\": \"top\",\n      \"properties\": {\n        \"dtype\": \"string\",\n        \"num_unique_values\": 1,\n        \"samples\": [\n          \"Petrol\"\n        ],\n        \"semantic_type\": \"\",\n        \"description\": \"\"\n      }\n    },\n    {\n      \"column\": \"freq\",\n      \"properties\": {\n        \"dtype\": \"date\",\n        \"min\": \"1260\",\n        \"max\": \"1260\",\n        \"num_unique_values\": 1,\n        \"samples\": [\n          \"1260\"\n        ],\n        \"semantic_type\": \"\",\n        \"description\": \"\"\n      }\n    }\n  ]\n}"
            }
          },
          "metadata": {},
          "execution_count": 15
        }
      ]
    },
    {
      "cell_type": "markdown",
      "source": [
        "##### Insights:\n",
        "\n",
        "1. **KM (Kilometers)**:\n",
        "   - The ***average mileage*** of the cars in the dataset is approximately ***68,533 kilometers***, with a standard deviation of about 37,506 kilometers.\n",
        "   - The mileage ranges from 1 kilometer to 243,000 kilometers.\n",
        "   - 75% of the cars have a mileage of 87,021 kilometers or less.\n",
        "\n",
        "2. **Price**:\n",
        "   - The ***average price*** of the cars is around **10,731 dollars**, with a standard deviation of approximately $3,627.\n",
        "   - Prices range from 4,350 to 32,500 dollars.\n",
        "   - 75% of the cars are priced at 11,950 dollars or less.\n",
        "\n",
        "3. **CC (Engine Capacity)**:\n",
        "   - The ***average engine capacity*** is approximately ***1567 cc***, with a standard deviation of around 187 cc.\n",
        "   - Engine capacities range from 1300 cc to 2000 cc.\n",
        "\n",
        "4. **Weight**:\n",
        "   - The ***average weight*** of the cars is about ***1072 kilograms***, with a standard deviation of roughly 53 kilograms.\n",
        "   - Weights range from 1000 kilograms to 1615 kilograms.\n",
        "\n",
        "5. **Age**:\n",
        "   - The ***average age*** of the cars is approximately ***56 months***, with a standard deviation of about 18.6 months.\n",
        "   - The age of cars in the dataset ranges from 1 month to 80 months.\n",
        "   - 75% of the cars are 70 months old or less(less than 6 years).\n",
        "\n",
        "6. **HP (Horsepower)**:\n",
        "   - The ***average horsepower*** of the cars is around ***102 HP***, with a standard deviation of approximately 15 HP.\n",
        "   - Horsepower ranges from 69 HP to 192 HP.\n",
        "\n",
        "7. **Doors**:\n",
        "   - On average, the cars have around 4 doors, with a standard deviation of about 1 door.\n",
        "   - The number of doors ranges from 2 to 5.\n",
        "\n",
        "8. **MetColor (Metallic Color)**:\n",
        "   - About ***67.5% of the cars*** in the dataset have a metallic color, while the remaining 32.5% do not.\n",
        "\n",
        "9. **Automatic**:\n",
        "   - Only about 5.6% of the cars are automatic transmission, while the ***majority (94.4%) have manual transmission.***"
      ],
      "metadata": {
        "id": "7-xoHYDrJ5jt"
      }
    },
    {
      "cell_type": "code",
      "source": [
        "# no of unique elements in each of the column\n",
        "data.nunique().to_frame().T.style.background_gradient(cmap= \"PuBuGn\")"
      ],
      "metadata": {
        "colab": {
          "base_uri": "https://localhost:8080/",
          "height": 81
        },
        "id": "o-E5Gf_rM6na",
        "outputId": "dc3ce955-c8a9-4d85-c4bc-94c9887b1abd"
      },
      "execution_count": null,
      "outputs": [
        {
          "output_type": "execute_result",
          "data": {
            "text/plain": [
              "<pandas.io.formats.style.Styler at 0x7a6515e85c00>"
            ],
            "text/html": [
              "<style type=\"text/css\">\n",
              "#T_82f59_row0_col0, #T_82f59_row0_col1, #T_82f59_row0_col2, #T_82f59_row0_col3, #T_82f59_row0_col4, #T_82f59_row0_col5, #T_82f59_row0_col6, #T_82f59_row0_col7, #T_82f59_row0_col8, #T_82f59_row0_col9 {\n",
              "  background-color: #fff7fb;\n",
              "  color: #000000;\n",
              "}\n",
              "</style>\n",
              "<table id=\"T_82f59\" class=\"dataframe\">\n",
              "  <thead>\n",
              "    <tr>\n",
              "      <th class=\"blank level0\" >&nbsp;</th>\n",
              "      <th id=\"T_82f59_level0_col0\" class=\"col_heading level0 col0\" >Price</th>\n",
              "      <th id=\"T_82f59_level0_col1\" class=\"col_heading level0 col1\" >Age</th>\n",
              "      <th id=\"T_82f59_level0_col2\" class=\"col_heading level0 col2\" >KM</th>\n",
              "      <th id=\"T_82f59_level0_col3\" class=\"col_heading level0 col3\" >FuelType</th>\n",
              "      <th id=\"T_82f59_level0_col4\" class=\"col_heading level0 col4\" >HP</th>\n",
              "      <th id=\"T_82f59_level0_col5\" class=\"col_heading level0 col5\" >MetColor</th>\n",
              "      <th id=\"T_82f59_level0_col6\" class=\"col_heading level0 col6\" >Automatic</th>\n",
              "      <th id=\"T_82f59_level0_col7\" class=\"col_heading level0 col7\" >CC</th>\n",
              "      <th id=\"T_82f59_level0_col8\" class=\"col_heading level0 col8\" >Doors</th>\n",
              "      <th id=\"T_82f59_level0_col9\" class=\"col_heading level0 col9\" >Weight</th>\n",
              "    </tr>\n",
              "  </thead>\n",
              "  <tbody>\n",
              "    <tr>\n",
              "      <th id=\"T_82f59_level0_row0\" class=\"row_heading level0 row0\" >0</th>\n",
              "      <td id=\"T_82f59_row0_col0\" class=\"data row0 col0\" >236</td>\n",
              "      <td id=\"T_82f59_row0_col1\" class=\"data row0 col1\" >77</td>\n",
              "      <td id=\"T_82f59_row0_col2\" class=\"data row0 col2\" >1263</td>\n",
              "      <td id=\"T_82f59_row0_col3\" class=\"data row0 col3\" >3</td>\n",
              "      <td id=\"T_82f59_row0_col4\" class=\"data row0 col4\" >12</td>\n",
              "      <td id=\"T_82f59_row0_col5\" class=\"data row0 col5\" >2</td>\n",
              "      <td id=\"T_82f59_row0_col6\" class=\"data row0 col6\" >2</td>\n",
              "      <td id=\"T_82f59_row0_col7\" class=\"data row0 col7\" >12</td>\n",
              "      <td id=\"T_82f59_row0_col8\" class=\"data row0 col8\" >4</td>\n",
              "      <td id=\"T_82f59_row0_col9\" class=\"data row0 col9\" >59</td>\n",
              "    </tr>\n",
              "  </tbody>\n",
              "</table>\n"
            ]
          },
          "metadata": {},
          "execution_count": 51
        }
      ]
    },
    {
      "cell_type": "markdown",
      "source": [
        "##### Insights:\n",
        "- From the above check, it is clear that there are certain features which have ***less than 20 unique values*** such as FuelType, MetColor, Automatic, CC and Doors.\n",
        "- The above mentioned are the categorical features and the rest are continuous features.\n",
        "\n",
        "**TARGET VARIABLE**: \"Price\"\n",
        "\n",
        "**NUMERICAL**\n",
        "- **Continuous features**: \"Age\", \"KM\", \"Weight\"\n",
        "- **discrete features**: \"HP\", \"CC\", \"Doors\"\n",
        "\n",
        "**CATEGORICAL**\n",
        "- **binary features**: \"MetColor\", \"Automatic\".\n",
        "- **nominal features**: \"FuelType\""
      ],
      "metadata": {
        "id": "sjpYg5aGNLlI"
      }
    },
    {
      "cell_type": "code",
      "source": [
        "# Unique categories of all the categorical features\n",
        "\n",
        "categorical_features= [\"HP\", \"CC\", \"Doors\",\"MetColor\", \"Automatic\",\"FuelType\"]\n",
        "\n",
        "for column in categorical_features:\n",
        "  values= data[column].value_counts(normalize= True).reset_index()\n",
        "  values.columns= [column, 'value_counts']\n",
        "\n",
        "  # Adding color to the df\n",
        "  styled_df= values.style.background_gradient(cmap= \"PuBuGn\")\n",
        "  display(styled_df)\n",
        "  print(\"\\n\")"
      ],
      "metadata": {
        "colab": {
          "base_uri": "https://localhost:8080/",
          "height": 1000
        },
        "id": "m3int3gMOuko",
        "outputId": "95a1a581-8ce5-4e0b-fecc-b40d7437daa5"
      },
      "execution_count": null,
      "outputs": [
        {
          "output_type": "display_data",
          "data": {
            "text/plain": [
              "<pandas.io.formats.style.Styler at 0x79852ea112d0>"
            ],
            "text/html": [
              "<style type=\"text/css\">\n",
              "#T_161a7_row0_col0 {\n",
              "  background-color: #b4c4df;\n",
              "  color: #000000;\n",
              "}\n",
              "#T_161a7_row0_col1, #T_161a7_row7_col0 {\n",
              "  background-color: #014636;\n",
              "  color: #f1f1f1;\n",
              "}\n",
              "#T_161a7_row1_col0 {\n",
              "  background-color: #e9e0ef;\n",
              "  color: #000000;\n",
              "}\n",
              "#T_161a7_row1_col1 {\n",
              "  background-color: #c0c9e2;\n",
              "  color: #000000;\n",
              "}\n",
              "#T_161a7_row2_col0 {\n",
              "  background-color: #d5d4e8;\n",
              "  color: #000000;\n",
              "}\n",
              "#T_161a7_row2_col1 {\n",
              "  background-color: #dcd8ea;\n",
              "  color: #000000;\n",
              "}\n",
              "#T_161a7_row3_col0, #T_161a7_row6_col1 {\n",
              "  background-color: #fbf3f9;\n",
              "  color: #000000;\n",
              "}\n",
              "#T_161a7_row3_col1 {\n",
              "  background-color: #f2e9f3;\n",
              "  color: #000000;\n",
              "}\n",
              "#T_161a7_row4_col0 {\n",
              "  background-color: #e2dced;\n",
              "  color: #000000;\n",
              "}\n",
              "#T_161a7_row4_col1, #T_161a7_row5_col1 {\n",
              "  background-color: #f9f0f8;\n",
              "  color: #000000;\n",
              "}\n",
              "#T_161a7_row5_col0, #T_161a7_row9_col1, #T_161a7_row10_col1, #T_161a7_row11_col1 {\n",
              "  background-color: #fff7fb;\n",
              "  color: #000000;\n",
              "}\n",
              "#T_161a7_row6_col0 {\n",
              "  background-color: #bcc7e1;\n",
              "  color: #000000;\n",
              "}\n",
              "#T_161a7_row7_col1 {\n",
              "  background-color: #fdf5fa;\n",
              "  color: #000000;\n",
              "}\n",
              "#T_161a7_row8_col0 {\n",
              "  background-color: #a3bcda;\n",
              "  color: #000000;\n",
              "}\n",
              "#T_161a7_row8_col1 {\n",
              "  background-color: #fef6fa;\n",
              "  color: #000000;\n",
              "}\n",
              "#T_161a7_row9_col0 {\n",
              "  background-color: #d3d3e7;\n",
              "  color: #000000;\n",
              "}\n",
              "#T_161a7_row10_col0 {\n",
              "  background-color: #fdf4fa;\n",
              "  color: #000000;\n",
              "}\n",
              "#T_161a7_row11_col0 {\n",
              "  background-color: #faf2f8;\n",
              "  color: #000000;\n",
              "}\n",
              "</style>\n",
              "<table id=\"T_161a7\" class=\"dataframe\">\n",
              "  <thead>\n",
              "    <tr>\n",
              "      <th class=\"blank level0\" >&nbsp;</th>\n",
              "      <th id=\"T_161a7_level0_col0\" class=\"col_heading level0 col0\" >HP</th>\n",
              "      <th id=\"T_161a7_level0_col1\" class=\"col_heading level0 col1\" >value_counts</th>\n",
              "    </tr>\n",
              "  </thead>\n",
              "  <tbody>\n",
              "    <tr>\n",
              "      <th id=\"T_161a7_level0_row0\" class=\"row_heading level0 row0\" >0</th>\n",
              "      <td id=\"T_161a7_row0_col0\" class=\"data row0 col0\" >110</td>\n",
              "      <td id=\"T_161a7_row0_col1\" class=\"data row0 col1\" >0.581476</td>\n",
              "    </tr>\n",
              "    <tr>\n",
              "      <th id=\"T_161a7_level0_row1\" class=\"row_heading level0 row1\" >1</th>\n",
              "      <td id=\"T_161a7_row1_col0\" class=\"data row1 col0\" >86</td>\n",
              "      <td id=\"T_161a7_row1_col1\" class=\"data row1 col1\" >0.173398</td>\n",
              "    </tr>\n",
              "    <tr>\n",
              "      <th id=\"T_161a7_level0_row2\" class=\"row_heading level0 row2\" >2</th>\n",
              "      <td id=\"T_161a7_row2_col0\" class=\"data row2 col0\" >97</td>\n",
              "      <td id=\"T_161a7_row2_col1\" class=\"data row2 col1\" >0.114206</td>\n",
              "    </tr>\n",
              "    <tr>\n",
              "      <th id=\"T_161a7_level0_row3\" class=\"row_heading level0 row3\" >3</th>\n",
              "      <td id=\"T_161a7_row3_col0\" class=\"data row3 col0\" >72</td>\n",
              "      <td id=\"T_161a7_row3_col1\" class=\"data row3 col1\" >0.050836</td>\n",
              "    </tr>\n",
              "    <tr>\n",
              "      <th id=\"T_161a7_level0_row4\" class=\"row_heading level0 row4\" >4</th>\n",
              "      <td id=\"T_161a7_row4_col0\" class=\"data row4 col0\" >90</td>\n",
              "      <td id=\"T_161a7_row4_col1\" class=\"data row4 col1\" >0.025070</td>\n",
              "    </tr>\n",
              "    <tr>\n",
              "      <th id=\"T_161a7_level0_row5\" class=\"row_heading level0 row5\" >5</th>\n",
              "      <td id=\"T_161a7_row5_col0\" class=\"data row5 col0\" >69</td>\n",
              "      <td id=\"T_161a7_row5_col1\" class=\"data row5 col1\" >0.023677</td>\n",
              "    </tr>\n",
              "    <tr>\n",
              "      <th id=\"T_161a7_level0_row6\" class=\"row_heading level0 row6\" >6</th>\n",
              "      <td id=\"T_161a7_row6_col0\" class=\"data row6 col0\" >107</td>\n",
              "      <td id=\"T_161a7_row6_col1\" class=\"data row6 col1\" >0.014624</td>\n",
              "    </tr>\n",
              "    <tr>\n",
              "      <th id=\"T_161a7_level0_row7\" class=\"row_heading level0 row7\" >7</th>\n",
              "      <td id=\"T_161a7_row7_col0\" class=\"data row7 col0\" >192</td>\n",
              "      <td id=\"T_161a7_row7_col1\" class=\"data row7 col1\" >0.007660</td>\n",
              "    </tr>\n",
              "    <tr>\n",
              "      <th id=\"T_161a7_level0_row8\" class=\"row_heading level0 row8\" >8</th>\n",
              "      <td id=\"T_161a7_row8_col0\" class=\"data row8 col0\" >116</td>\n",
              "      <td id=\"T_161a7_row8_col1\" class=\"data row8 col1\" >0.006267</td>\n",
              "    </tr>\n",
              "    <tr>\n",
              "      <th id=\"T_161a7_level0_row9\" class=\"row_heading level0 row9\" >9</th>\n",
              "      <td id=\"T_161a7_row9_col0\" class=\"data row9 col0\" >98</td>\n",
              "      <td id=\"T_161a7_row9_col1\" class=\"data row9 col1\" >0.001393</td>\n",
              "    </tr>\n",
              "    <tr>\n",
              "      <th id=\"T_161a7_level0_row10\" class=\"row_heading level0 row10\" >10</th>\n",
              "      <td id=\"T_161a7_row10_col0\" class=\"data row10 col0\" >71</td>\n",
              "      <td id=\"T_161a7_row10_col1\" class=\"data row10 col1\" >0.000696</td>\n",
              "    </tr>\n",
              "    <tr>\n",
              "      <th id=\"T_161a7_level0_row11\" class=\"row_heading level0 row11\" >11</th>\n",
              "      <td id=\"T_161a7_row11_col0\" class=\"data row11 col0\" >73</td>\n",
              "      <td id=\"T_161a7_row11_col1\" class=\"data row11 col1\" >0.000696</td>\n",
              "    </tr>\n",
              "  </tbody>\n",
              "</table>\n"
            ]
          },
          "metadata": {}
        },
        {
          "output_type": "stream",
          "name": "stdout",
          "text": [
            "\n",
            "\n"
          ]
        },
        {
          "output_type": "display_data",
          "data": {
            "text/plain": [
              "<pandas.io.formats.style.Styler at 0x79852eb7bc40>"
            ],
            "text/html": [
              "<style type=\"text/css\">\n",
              "#T_07770_row0_col0 {\n",
              "  background-color: #8cb5d6;\n",
              "  color: #000000;\n",
              "}\n",
              "#T_07770_row0_col1, #T_07770_row3_col0 {\n",
              "  background-color: #014636;\n",
              "  color: #f1f1f1;\n",
              "}\n",
              "#T_07770_row1_col0, #T_07770_row6_col1, #T_07770_row7_col1, #T_07770_row8_col1, #T_07770_row9_col1, #T_07770_row10_col1, #T_07770_row11_col1 {\n",
              "  background-color: #fff7fb;\n",
              "  color: #000000;\n",
              "}\n",
              "#T_07770_row1_col1 {\n",
              "  background-color: #c2cbe2;\n",
              "  color: #000000;\n",
              "}\n",
              "#T_07770_row2_col0 {\n",
              "  background-color: #e8e0ef;\n",
              "  color: #000000;\n",
              "}\n",
              "#T_07770_row2_col1 {\n",
              "  background-color: #ddd9eb;\n",
              "  color: #000000;\n",
              "}\n",
              "#T_07770_row3_col1, #T_07770_row9_col0 {\n",
              "  background-color: #e9e0ef;\n",
              "  color: #000000;\n",
              "}\n",
              "#T_07770_row4_col0 {\n",
              "  background-color: #016f5f;\n",
              "  color: #f1f1f1;\n",
              "}\n",
              "#T_07770_row4_col1 {\n",
              "  background-color: #faf2f8;\n",
              "  color: #000000;\n",
              "}\n",
              "#T_07770_row5_col0 {\n",
              "  background-color: #11859a;\n",
              "  color: #f1f1f1;\n",
              "}\n",
              "#T_07770_row5_col1 {\n",
              "  background-color: #fdf5fa;\n",
              "  color: #000000;\n",
              "}\n",
              "#T_07770_row6_col0 {\n",
              "  background-color: #8eb5d6;\n",
              "  color: #000000;\n",
              "}\n",
              "#T_07770_row7_col0 {\n",
              "  background-color: #95b8d8;\n",
              "  color: #000000;\n",
              "}\n",
              "#T_07770_row8_col0 {\n",
              "  background-color: #014737;\n",
              "  color: #f1f1f1;\n",
              "}\n",
              "#T_07770_row10_col0 {\n",
              "  background-color: #f8f0f7;\n",
              "  color: #000000;\n",
              "}\n",
              "#T_07770_row11_col0 {\n",
              "  background-color: #015140;\n",
              "  color: #f1f1f1;\n",
              "}\n",
              "</style>\n",
              "<table id=\"T_07770\" class=\"dataframe\">\n",
              "  <thead>\n",
              "    <tr>\n",
              "      <th class=\"blank level0\" >&nbsp;</th>\n",
              "      <th id=\"T_07770_level0_col0\" class=\"col_heading level0 col0\" >CC</th>\n",
              "      <th id=\"T_07770_level0_col1\" class=\"col_heading level0 col1\" >value_counts</th>\n",
              "    </tr>\n",
              "  </thead>\n",
              "  <tbody>\n",
              "    <tr>\n",
              "      <th id=\"T_07770_level0_row0\" class=\"row_heading level0 row0\" >0</th>\n",
              "      <td id=\"T_07770_row0_col0\" class=\"data row0 col0\" >1600.000000</td>\n",
              "      <td id=\"T_07770_row0_col1\" class=\"data row0 col1\" >0.589261</td>\n",
              "    </tr>\n",
              "    <tr>\n",
              "      <th id=\"T_07770_level0_row1\" class=\"row_heading level0 row1\" >1</th>\n",
              "      <td id=\"T_07770_row1_col0\" class=\"data row1 col0\" >1300.000000</td>\n",
              "      <td id=\"T_07770_row1_col1\" class=\"data row1 col1\" >0.172245</td>\n",
              "    </tr>\n",
              "    <tr>\n",
              "      <th id=\"T_07770_level0_row2\" class=\"row_heading level0 row2\" >2</th>\n",
              "      <td id=\"T_07770_row2_col0\" class=\"data row2 col0\" >1400.000000</td>\n",
              "      <td id=\"T_07770_row2_col1\" class=\"data row2 col1\" >0.114365</td>\n",
              "    </tr>\n",
              "    <tr>\n",
              "      <th id=\"T_07770_level0_row3\" class=\"row_heading level0 row3\" >3</th>\n",
              "      <td id=\"T_07770_row3_col0\" class=\"data row3 col0\" >2000.000000</td>\n",
              "      <td id=\"T_07770_row3_col1\" class=\"data row3 col1\" >0.082985</td>\n",
              "    </tr>\n",
              "    <tr>\n",
              "      <th id=\"T_07770_level0_row4\" class=\"row_heading level0 row4\" >4</th>\n",
              "      <td id=\"T_07770_row4_col0\" class=\"data row4 col0\" >1900.000000</td>\n",
              "      <td id=\"T_07770_row4_col1\" class=\"data row4 col1\" >0.020921</td>\n",
              "    </tr>\n",
              "    <tr>\n",
              "      <th id=\"T_07770_level0_row5\" class=\"row_heading level0 row5\" >5</th>\n",
              "      <td id=\"T_07770_row5_col0\" class=\"data row5 col0\" >1800.000000</td>\n",
              "      <td id=\"T_07770_row5_col1\" class=\"data row5 col1\" >0.009763</td>\n",
              "    </tr>\n",
              "    <tr>\n",
              "      <th id=\"T_07770_level0_row6\" class=\"row_heading level0 row6\" >6</th>\n",
              "      <td id=\"T_07770_row6_col0\" class=\"data row6 col0\" >1598.000000</td>\n",
              "      <td id=\"T_07770_row6_col1\" class=\"data row6 col1\" >0.002789</td>\n",
              "    </tr>\n",
              "    <tr>\n",
              "      <th id=\"T_07770_level0_row7\" class=\"row_heading level0 row7\" >7</th>\n",
              "      <td id=\"T_07770_row7_col0\" class=\"data row7 col0\" >1587.000000</td>\n",
              "      <td id=\"T_07770_row7_col1\" class=\"data row7 col1\" >0.002789</td>\n",
              "    </tr>\n",
              "    <tr>\n",
              "      <th id=\"T_07770_level0_row8\" class=\"row_heading level0 row8\" >8</th>\n",
              "      <td id=\"T_07770_row8_col0\" class=\"data row8 col0\" >1995.000000</td>\n",
              "      <td id=\"T_07770_row8_col1\" class=\"data row8 col1\" >0.001395</td>\n",
              "    </tr>\n",
              "    <tr>\n",
              "      <th id=\"T_07770_level0_row9\" class=\"row_heading level0 row9\" >9</th>\n",
              "      <td id=\"T_07770_row9_col0\" class=\"data row9 col0\" >1398.000000</td>\n",
              "      <td id=\"T_07770_row9_col1\" class=\"data row9 col1\" >0.001395</td>\n",
              "    </tr>\n",
              "    <tr>\n",
              "      <th id=\"T_07770_level0_row10\" class=\"row_heading level0 row10\" >10</th>\n",
              "      <td id=\"T_07770_row10_col0\" class=\"data row10 col0\" >1332.000000</td>\n",
              "      <td id=\"T_07770_row10_col1\" class=\"data row10 col1\" >0.001395</td>\n",
              "    </tr>\n",
              "    <tr>\n",
              "      <th id=\"T_07770_level0_row11\" class=\"row_heading level0 row11\" >11</th>\n",
              "      <td id=\"T_07770_row11_col0\" class=\"data row11 col0\" >1975.000000</td>\n",
              "      <td id=\"T_07770_row11_col1\" class=\"data row11 col1\" >0.000697</td>\n",
              "    </tr>\n",
              "  </tbody>\n",
              "</table>\n"
            ]
          },
          "metadata": {}
        },
        {
          "output_type": "stream",
          "name": "stdout",
          "text": [
            "\n",
            "\n"
          ]
        },
        {
          "output_type": "display_data",
          "data": {
            "text/plain": [
              "<pandas.io.formats.style.Styler at 0x79852ea112d0>"
            ],
            "text/html": [
              "<style type=\"text/css\">\n",
              "#T_4ac07_row0_col0, #T_4ac07_row0_col1 {\n",
              "  background-color: #014636;\n",
              "  color: #f1f1f1;\n",
              "}\n",
              "#T_4ac07_row1_col0 {\n",
              "  background-color: #b4c4df;\n",
              "  color: #000000;\n",
              "}\n",
              "#T_4ac07_row1_col1 {\n",
              "  background-color: #015d4b;\n",
              "  color: #f1f1f1;\n",
              "}\n",
              "#T_4ac07_row2_col0 {\n",
              "  background-color: #258bae;\n",
              "  color: #f1f1f1;\n",
              "}\n",
              "#T_4ac07_row2_col1 {\n",
              "  background-color: #dbd8ea;\n",
              "  color: #000000;\n",
              "}\n",
              "#T_4ac07_row3_col0, #T_4ac07_row3_col1 {\n",
              "  background-color: #fff7fb;\n",
              "  color: #000000;\n",
              "}\n",
              "</style>\n",
              "<table id=\"T_4ac07\" class=\"dataframe\">\n",
              "  <thead>\n",
              "    <tr>\n",
              "      <th class=\"blank level0\" >&nbsp;</th>\n",
              "      <th id=\"T_4ac07_level0_col0\" class=\"col_heading level0 col0\" >Doors</th>\n",
              "      <th id=\"T_4ac07_level0_col1\" class=\"col_heading level0 col1\" >value_counts</th>\n",
              "    </tr>\n",
              "  </thead>\n",
              "  <tbody>\n",
              "    <tr>\n",
              "      <th id=\"T_4ac07_level0_row0\" class=\"row_heading level0 row0\" >0</th>\n",
              "      <td id=\"T_4ac07_row0_col0\" class=\"data row0 col0\" >5</td>\n",
              "      <td id=\"T_4ac07_row0_col1\" class=\"data row0 col1\" >0.469359</td>\n",
              "    </tr>\n",
              "    <tr>\n",
              "      <th id=\"T_4ac07_level0_row1\" class=\"row_heading level0 row1\" >1</th>\n",
              "      <td id=\"T_4ac07_row1_col0\" class=\"data row1 col0\" >3</td>\n",
              "      <td id=\"T_4ac07_row1_col1\" class=\"data row1 col1\" >0.433148</td>\n",
              "    </tr>\n",
              "    <tr>\n",
              "      <th id=\"T_4ac07_level0_row2\" class=\"row_heading level0 row2\" >2</th>\n",
              "      <td id=\"T_4ac07_row2_col0\" class=\"data row2 col0\" >4</td>\n",
              "      <td id=\"T_4ac07_row2_col1\" class=\"data row2 col1\" >0.096100</td>\n",
              "    </tr>\n",
              "    <tr>\n",
              "      <th id=\"T_4ac07_level0_row3\" class=\"row_heading level0 row3\" >3</th>\n",
              "      <td id=\"T_4ac07_row3_col0\" class=\"data row3 col0\" >2</td>\n",
              "      <td id=\"T_4ac07_row3_col1\" class=\"data row3 col1\" >0.001393</td>\n",
              "    </tr>\n",
              "  </tbody>\n",
              "</table>\n"
            ]
          },
          "metadata": {}
        },
        {
          "output_type": "stream",
          "name": "stdout",
          "text": [
            "\n",
            "\n"
          ]
        },
        {
          "output_type": "display_data",
          "data": {
            "text/plain": [
              "<pandas.io.formats.style.Styler at 0x79852eb7b400>"
            ],
            "text/html": [
              "<style type=\"text/css\">\n",
              "#T_7c23c_row0_col0, #T_7c23c_row0_col1 {\n",
              "  background-color: #014636;\n",
              "  color: #f1f1f1;\n",
              "}\n",
              "#T_7c23c_row1_col0, #T_7c23c_row1_col1 {\n",
              "  background-color: #fff7fb;\n",
              "  color: #000000;\n",
              "}\n",
              "</style>\n",
              "<table id=\"T_7c23c\" class=\"dataframe\">\n",
              "  <thead>\n",
              "    <tr>\n",
              "      <th class=\"blank level0\" >&nbsp;</th>\n",
              "      <th id=\"T_7c23c_level0_col0\" class=\"col_heading level0 col0\" >MetColor</th>\n",
              "      <th id=\"T_7c23c_level0_col1\" class=\"col_heading level0 col1\" >value_counts</th>\n",
              "    </tr>\n",
              "  </thead>\n",
              "  <tbody>\n",
              "    <tr>\n",
              "      <th id=\"T_7c23c_level0_row0\" class=\"row_heading level0 row0\" >0</th>\n",
              "      <td id=\"T_7c23c_row0_col0\" class=\"data row0 col0\" >1</td>\n",
              "      <td id=\"T_7c23c_row0_col1\" class=\"data row0 col1\" >0.674791</td>\n",
              "    </tr>\n",
              "    <tr>\n",
              "      <th id=\"T_7c23c_level0_row1\" class=\"row_heading level0 row1\" >1</th>\n",
              "      <td id=\"T_7c23c_row1_col0\" class=\"data row1 col0\" >0</td>\n",
              "      <td id=\"T_7c23c_row1_col1\" class=\"data row1 col1\" >0.325209</td>\n",
              "    </tr>\n",
              "  </tbody>\n",
              "</table>\n"
            ]
          },
          "metadata": {}
        },
        {
          "output_type": "stream",
          "name": "stdout",
          "text": [
            "\n",
            "\n"
          ]
        },
        {
          "output_type": "display_data",
          "data": {
            "text/plain": [
              "<pandas.io.formats.style.Styler at 0x79852ea112d0>"
            ],
            "text/html": [
              "<style type=\"text/css\">\n",
              "#T_a9f9f_row0_col0, #T_a9f9f_row1_col1 {\n",
              "  background-color: #fff7fb;\n",
              "  color: #000000;\n",
              "}\n",
              "#T_a9f9f_row0_col1, #T_a9f9f_row1_col0 {\n",
              "  background-color: #014636;\n",
              "  color: #f1f1f1;\n",
              "}\n",
              "</style>\n",
              "<table id=\"T_a9f9f\" class=\"dataframe\">\n",
              "  <thead>\n",
              "    <tr>\n",
              "      <th class=\"blank level0\" >&nbsp;</th>\n",
              "      <th id=\"T_a9f9f_level0_col0\" class=\"col_heading level0 col0\" >Automatic</th>\n",
              "      <th id=\"T_a9f9f_level0_col1\" class=\"col_heading level0 col1\" >value_counts</th>\n",
              "    </tr>\n",
              "  </thead>\n",
              "  <tbody>\n",
              "    <tr>\n",
              "      <th id=\"T_a9f9f_level0_row0\" class=\"row_heading level0 row0\" >0</th>\n",
              "      <td id=\"T_a9f9f_row0_col0\" class=\"data row0 col0\" >0</td>\n",
              "      <td id=\"T_a9f9f_row0_col1\" class=\"data row0 col1\" >0.944290</td>\n",
              "    </tr>\n",
              "    <tr>\n",
              "      <th id=\"T_a9f9f_level0_row1\" class=\"row_heading level0 row1\" >1</th>\n",
              "      <td id=\"T_a9f9f_row1_col0\" class=\"data row1 col0\" >1</td>\n",
              "      <td id=\"T_a9f9f_row1_col1\" class=\"data row1 col1\" >0.055710</td>\n",
              "    </tr>\n",
              "  </tbody>\n",
              "</table>\n"
            ]
          },
          "metadata": {}
        },
        {
          "output_type": "stream",
          "name": "stdout",
          "text": [
            "\n",
            "\n"
          ]
        },
        {
          "output_type": "display_data",
          "data": {
            "text/plain": [
              "<pandas.io.formats.style.Styler at 0x79852eb7b400>"
            ],
            "text/html": [
              "<style type=\"text/css\">\n",
              "#T_3e017_row0_col1 {\n",
              "  background-color: #014636;\n",
              "  color: #f1f1f1;\n",
              "}\n",
              "#T_3e017_row1_col1 {\n",
              "  background-color: #eee5f1;\n",
              "  color: #000000;\n",
              "}\n",
              "#T_3e017_row2_col1 {\n",
              "  background-color: #fff7fb;\n",
              "  color: #000000;\n",
              "}\n",
              "</style>\n",
              "<table id=\"T_3e017\" class=\"dataframe\">\n",
              "  <thead>\n",
              "    <tr>\n",
              "      <th class=\"blank level0\" >&nbsp;</th>\n",
              "      <th id=\"T_3e017_level0_col0\" class=\"col_heading level0 col0\" >FuelType</th>\n",
              "      <th id=\"T_3e017_level0_col1\" class=\"col_heading level0 col1\" >value_counts</th>\n",
              "    </tr>\n",
              "  </thead>\n",
              "  <tbody>\n",
              "    <tr>\n",
              "      <th id=\"T_3e017_level0_row0\" class=\"row_heading level0 row0\" >0</th>\n",
              "      <td id=\"T_3e017_row0_col0\" class=\"data row0 col0\" >Petrol</td>\n",
              "      <td id=\"T_3e017_row0_col1\" class=\"data row0 col1\" >0.879888</td>\n",
              "    </tr>\n",
              "    <tr>\n",
              "      <th id=\"T_3e017_level0_row1\" class=\"row_heading level0 row1\" >1</th>\n",
              "      <td id=\"T_3e017_row1_col0\" class=\"data row1 col0\" >Diesel</td>\n",
              "      <td id=\"T_3e017_row1_col1\" class=\"data row1 col1\" >0.108240</td>\n",
              "    </tr>\n",
              "    <tr>\n",
              "      <th id=\"T_3e017_level0_row2\" class=\"row_heading level0 row2\" >2</th>\n",
              "      <td id=\"T_3e017_row2_col0\" class=\"data row2 col0\" >CNG</td>\n",
              "      <td id=\"T_3e017_row2_col1\" class=\"data row2 col1\" >0.011872</td>\n",
              "    </tr>\n",
              "  </tbody>\n",
              "</table>\n"
            ]
          },
          "metadata": {}
        },
        {
          "output_type": "stream",
          "name": "stdout",
          "text": [
            "\n",
            "\n"
          ]
        }
      ]
    },
    {
      "cell_type": "markdown",
      "source": [
        "#### Insights:\n",
        "- Around **58%** of cars constitute horsepower capacity of  **110HP**\n",
        "\n",
        "- Around 58% of vehicles have the engine capacity of **1600cc.**\n",
        "\n",
        "- Around 46% of cars have 5 number of doors and 43% contains 3 doors.\n",
        "\n",
        "- 67% of cars have metallic color.\n",
        "\n",
        "- 94% of cars do not have automatic transmission.\n",
        "\n",
        "- Around 87% of them are petrol vehicles, 10% consume diesel and CNG fueltype is the least category."
      ],
      "metadata": {
        "id": "PsVKF2JoXJDs"
      }
    },
    {
      "cell_type": "markdown",
      "source": [
        "### **EXPLORATORY DATA ANALYSIS**"
      ],
      "metadata": {
        "id": "5zIMYKTMY4Rr"
      }
    },
    {
      "cell_type": "markdown",
      "source": [
        "#### **TARGET VARIABLE**"
      ],
      "metadata": {
        "id": "gI8UnxKNZUKm"
      }
    },
    {
      "cell_type": "code",
      "source": [
        "# creating bar plot as the target variable is continuous\n",
        "\n",
        "plt.figure(figsize= (4,4))\n",
        "data['Price'].hist(color= \"darkcyan\", ec= \"white\")\n",
        "plt.show()"
      ],
      "metadata": {
        "colab": {
          "base_uri": "https://localhost:8080/",
          "height": 368
        },
        "id": "gLI-b2zovVox",
        "outputId": "b13f4374-dac1-46e8-cb5d-0b5a10a97944"
      },
      "execution_count": null,
      "outputs": [
        {
          "output_type": "display_data",
          "data": {
            "text/plain": [
              "<Figure size 400x400 with 1 Axes>"
            ],
            "image/png": "[encoded data removed]"
          },
          "metadata": {}
        }
      ]
    },
    {
      "cell_type": "markdown",
      "source": [
        "#### Insights:\n",
        "- The data of the target variable is distributed with sufiicient number of rows for each type of values to learn from."
      ],
      "metadata": {
        "id": "sDvXwoaUyVOX"
      }
    },
    {
      "cell_type": "markdown",
      "source": [
        "#### **INDEPENDENT FEATURES**"
      ],
      "metadata": {
        "id": "oBr-Nia0yy6M"
      }
    },
    {
      "cell_type": "markdown",
      "source": [
        "#### Distribution of continuous and categorical features"
      ],
      "metadata": {
        "id": "OjBH9EGOy7PA"
      }
    },
    {
      "cell_type": "code",
      "source": [
        "target= 'Price'\n",
        "\n",
        "independent_features= [column for column in data.drop(\"Price\", axis= 1)]\n",
        "\n",
        "# As per the basic checks,\n",
        "categorical_features= [\"HP\", \"CC\", \"Doors\",\"MetColor\", \"Automatic\",\"FuelType\"]\n",
        "continuous_features= [\"Age\", \"KM\", \"Weight\"]\n",
        "\n",
        "print(f'Target variable: {target}')\n",
        "print(f'No of independent features: {len(independent_features)}')\n",
        "print(f'No of categorical features: {len(categorical_features)}')\n",
        "print(f'No of continuous features: {len(continuous_features)}')"
      ],
      "metadata": {
        "colab": {
          "base_uri": "https://localhost:8080/"
        },
        "id": "ut3EpwYTzCVU",
        "outputId": "e9cd09e9-a04e-484c-b9fc-7e557abf5511"
      },
      "execution_count": 110,
      "outputs": [
        {
          "output_type": "stream",
          "name": "stdout",
          "text": [
            "Target variable: Price\n",
            "No of independent features: 9\n",
            "No of categorical features: 6\n",
            "No of continuous features: 3\n"
          ]
        }
      ]
    },
    {
      "cell_type": "code",
      "source": [
        "# piechart showing the distribution of predictors\n",
        "\n",
        "fig, ax= plt.subplots(figsize= (4, 4), facecolor= 'black')\n",
        "patches, texts, pcts= ax.pie([len(categorical_features), len(continuous_features)],\n",
        "                             autopct= '%.1f%%',\n",
        "                             labels= ['Categorical features', 'Continuous features'],\n",
        "                             colors=['lightseagreen', 'forestgreen'],\n",
        "                             textprops= {'size': 'x-large'},\n",
        "                             wedgeprops= {'linewidth':3, 'edgecolor': 'white'})\n",
        "\n",
        "\n",
        "# styling the percent values\n",
        "plt.setp(pcts, fontweight= 'bold', color= 'white')\n",
        "plt.setp(texts, fontweight= 600)\n",
        "\n",
        "# for each wedge, styling the corresponding text label color---> to the wedge's face color\n",
        "for i, patch in enumerate(patches):\n",
        "    texts[i].set_color(patch.get_facecolor())\n",
        "\n",
        "plt.title('DISTRIBUTION OF CONTINUOUS AND CATEGORICAL FEATURES', color= 'white', fontsize= 13, fontweight = 'bold')\n",
        "plt.show()"
      ],
      "metadata": {
        "colab": {
          "base_uri": "https://localhost:8080/",
          "height": 367
        },
        "id": "MeIr9utT0Uaz",
        "outputId": "bfe8830b-b0cd-45e9-b8f3-302f6f8f152a"
      },
      "execution_count": null,
      "outputs": [
        {
          "output_type": "display_data",
          "data": {
            "text/plain": [
              "<Figure size 400x400 with 1 Axes>"
            ],
            "image/png": "[encoded data removed]"
          },
          "metadata": {}
        }
      ]
    },
    {
      "cell_type": "markdown",
      "source": [
        "#### **UNIVARIATE ANALYSIS**"
      ],
      "metadata": {
        "id": "En73BsTMJePe"
      }
    },
    {
      "cell_type": "markdown",
      "source": [
        "#### **CATEGORICAL VARIABLES**"
      ],
      "metadata": {
        "id": "VzKv9OHN4gCm"
      }
    },
    {
      "cell_type": "code",
      "source": [
        "categorical_features"
      ],
      "metadata": {
        "colab": {
          "base_uri": "https://localhost:8080/"
        },
        "id": "k0M4JSt34mSe",
        "outputId": "d07f6731-1d37-4c9f-8e6c-ea3e49e6e381"
      },
      "execution_count": null,
      "outputs": [
        {
          "output_type": "execute_result",
          "data": {
            "text/plain": [
              "['HP', 'CC', 'Doors', 'MetColor', 'Automatic', 'FuelType']"
            ]
          },
          "metadata": {},
          "execution_count": 77
        }
      ]
    },
    {
      "cell_type": "code",
      "source": [
        "# defining a function to plot multiple barplots at once\n",
        "\n",
        "def plot_bar_charts(data, columns):\n",
        "\n",
        "\n",
        "  fig, axes= plt.subplots(2, 3, figsize= (15, 10))\n",
        "  fig.suptitle(f'Barcharts of {str(columns)}')\n",
        "  # fig.suptitle()- adds a centered title ('Bar charts') to the entire figure.\n",
        "\n",
        "  # Iterating over each subplot (ax) and each column name (col) simultaneously using zip().\n",
        "  # The flatten() method -to iterate over the subplots in a flattened manner (1D array).\n",
        "  for ax, col in zip(axes.flatten(), columns):\n",
        "    data[col].value_counts().plot(kind= \"bar\", ax= ax, color= 'yellowgreen')\n",
        "    ax.set_title(col)\n",
        "\n",
        "    # Displaying bar values in percentage rounded off to two decimal digits with '%' sign\n",
        "    # calculates the total no of datapoints for %\n",
        "    total = float(len(data))\n",
        "\n",
        "    # iterates through each patch (bar)\n",
        "    for p in ax.patches:\n",
        "      # get_height()--> height of the current bar\n",
        "      height = p.get_height()\n",
        "      # positions the text at the center of each bar\n",
        "      ax.text(p.get_x() + p.get_width() / 2., height + 5,\n",
        "                  f'{height / total * 100:.2f}%', ha=\"center\", fontsize=8, fontweight= 'bold')\n",
        "\n",
        "  plt.tight_layout()\n",
        "  plt.show()"
      ],
      "metadata": {
        "id": "IfYGaUeF4yMc"
      },
      "execution_count": null,
      "outputs": []
    },
    {
      "cell_type": "code",
      "source": [
        "# Calling the function\n",
        "plot_bar_charts(data= data, columns= ['HP', 'CC', 'Doors', 'MetColor', 'Automatic', 'FuelType'])"
      ],
      "metadata": {
        "colab": {
          "base_uri": "https://localhost:8080/",
          "height": 952
        },
        "id": "8KsU-aSr8rHh",
        "outputId": "570ea2bc-53e8-43a0-f29f-9d16fa06fcc1"
      },
      "execution_count": null,
      "outputs": [
        {
          "output_type": "display_data",
          "data": {
            "text/plain": [
              "<Figure size 1500x1000 with 6 Axes>"
            ],
            "image/png": "[encoded data removed]"
          },
          "metadata": {}
        }
      ]
    },
    {
      "cell_type": "markdown",
      "source": [
        "#### Insights:\n",
        "- Around **58%** of cars constitute horsepower capacity of  **110HP**\n",
        "\n",
        "- Around 58% of vehicles have the engine capacity of **1600cc.**\n",
        "\n",
        "- Around 46% of cars have 5 number of doors and 43% contains 3 doors.\n",
        "\n",
        "- 67% of cars have metallic color.\n",
        "\n",
        "- 94% of cars do not have automatic transmission.\n",
        "\n",
        "- Around 87% of them are petrol vehicles, 10% consume diesel and CNG fueltype is the least category."
      ],
      "metadata": {
        "id": "l8kaAK_F9U-0"
      }
    },
    {
      "cell_type": "markdown",
      "source": [
        "#### **CONTINUOUS VARIABLES**"
      ],
      "metadata": {
        "id": "LAD0CnTsBlE5"
      }
    },
    {
      "cell_type": "code",
      "source": [
        "continuous_features"
      ],
      "metadata": {
        "colab": {
          "base_uri": "https://localhost:8080/"
        },
        "id": "9gnV_-XDB7_r",
        "outputId": "c3c2610e-3d8c-4ca4-dd5f-b1ab0330591a"
      },
      "execution_count": null,
      "outputs": [
        {
          "output_type": "execute_result",
          "data": {
            "text/plain": [
              "['Age', 'KM', 'Weight']"
            ]
          },
          "metadata": {},
          "execution_count": 8
        }
      ]
    },
    {
      "cell_type": "code",
      "source": [
        "plt.figure(figsize= (15, 10))\n",
        "data.hist(['Age', 'KM', 'Weight'], color= \"turquoise\", ec= \"white\")\n",
        "plt.show()"
      ],
      "metadata": {
        "colab": {
          "base_uri": "https://localhost:8080/",
          "height": 469
        },
        "id": "2tqS32k3B2MJ",
        "outputId": "681a196c-2ace-4ae5-c1b3-86be5be21e77"
      },
      "execution_count": null,
      "outputs": [
        {
          "output_type": "display_data",
          "data": {
            "text/plain": [
              "<Figure size 1500x1000 with 0 Axes>"
            ]
          },
          "metadata": {}
        },
        {
          "output_type": "display_data",
          "data": {
            "text/plain": [
              "<Figure size 640x480 with 4 Axes>"
            ],
            "image/png": "[encoded data removed]"
          },
          "metadata": {}
        }
      ]
    },
    {
      "cell_type": "markdown",
      "source": [
        "##### Insights:\n",
        "- Age: shows negatively skewed distribution.\n",
        "- KM: shows positively skewed distribution.\n",
        "- weight: distribution is good but outliers are seen beyond 1300."
      ],
      "metadata": {
        "id": "TGH1Jkr4CofL"
      }
    },
    {
      "cell_type": "markdown",
      "source": [
        "#### **BIVARIATE ANALYSIS**"
      ],
      "metadata": {
        "id": "fG6B8SrdJqKz"
      }
    },
    {
      "cell_type": "markdown",
      "source": [
        "#### **Continuous predictors<--> Target variable (Continuous)**"
      ],
      "metadata": {
        "id": "8AE8ypEfj30N"
      }
    },
    {
      "cell_type": "code",
      "source": [
        "# scatter plot is used to show the relationship between continuous features\n",
        "\n",
        "plt.figure(figsize= (10, 5))\n",
        "for column in continuous_features:\n",
        "  data.plot.scatter(x= column, y= 'Price', color= 'teal', title= column+ \" Vs \" +\"Price\")\n",
        "\n",
        "plt.show()\n"
      ],
      "metadata": {
        "colab": {
          "base_uri": "https://localhost:8080/",
          "height": 1000
        },
        "id": "YNF8Jfd5mBI-",
        "outputId": "11290086-0a7f-4618-81f8-7896aaa6582f"
      },
      "execution_count": null,
      "outputs": [
        {
          "output_type": "display_data",
          "data": {
            "text/plain": [
              "<Figure size 1000x500 with 0 Axes>"
            ]
          },
          "metadata": {}
        },
        {
          "output_type": "display_data",
          "data": {
            "text/plain": [
              "<Figure size 640x480 with 1 Axes>"
            ],
            "image/png": "[encoded data removed]"
          },
          "metadata": {}
        },
        {
          "output_type": "display_data",
          "data": {
            "text/plain": [
              "<Figure size 640x480 with 1 Axes>"
            ],
            "image/png": "[encoded data removed]"
          },
          "metadata": {}
        },
        {
          "output_type": "display_data",
          "data": {
            "text/plain": [
              "<Figure size 640x480 with 1 Axes>"
            ],
            "image/png": "[encoded data removed]"
          },
          "metadata": {}
        }
      ]
    },
    {
      "cell_type": "markdown",
      "source": [
        "#### Insights:\n",
        "\n",
        "From these scatterplots, there are some visible trends:\n",
        "\n",
        "- As age increases, the price of the car decreases. Hence it shows **negative correlation.**\n",
        "\n",
        "- As KM increases, the price of the car decreases. Here also both are inversely proportional to each other. Hence this trend shows **negative correlation**. This is in accordance with the general trend that , the more kilometers a car had been driven, the lower it's resale value tends to be, due to high wear and tear of the car.\n",
        "\n",
        "- The increase in weight of the car, increases the price of the car. It shows **positive correlation.**"
      ],
      "metadata": {
        "id": "QlUQK1svmh3h"
      }
    },
    {
      "cell_type": "markdown",
      "source": [
        "#### **Categorical predictors<--> Target variable (Continuous)**"
      ],
      "metadata": {
        "id": "h980Q1eAqFRR"
      }
    },
    {
      "cell_type": "code",
      "source": [
        "fig, axes= plt.subplots(2, 3, figsize= (20, 10))\n",
        "\n",
        "# creating boxplots\n",
        "for column , ax in zip(categorical_features, axes.flatten()):\n",
        "  data.boxplot(column= 'Price', by= column, color= 'teal', ax= ax)\n",
        "\n",
        "plt.tight_layout()\n",
        "plt.show()"
      ],
      "metadata": {
        "colab": {
          "base_uri": "https://localhost:8080/",
          "height": 717
        },
        "id": "4k_e6Luxq-iA",
        "outputId": "e1ddfc2f-0fa7-4cb5-c6dc-902841fb19b1"
      },
      "execution_count": null,
      "outputs": [
        {
          "output_type": "display_data",
          "data": {
            "text/plain": [
              "<Figure size 2000x1000 with 6 Axes>"
            ],
            "image/png": "[encoded data removed]"
          },
          "metadata": {}
        }
      ]
    },
    {
      "cell_type": "markdown",
      "source": [
        "##### Insights:\n",
        "\n",
        "From the above boxplots, the data distribution of **continuous variable in the y-axis** for **each of the category in x-axis** shows some correlation information such as follows:\n",
        "\n",
        "- Features such as **HP, CC, Doors** shows that they are correlated with the Price since their distribution is different for each of the categories. (Boxes are not in the same line).\n",
        "\n",
        "- On the other hand, features such as\n",
        " **MetColor, Automatic, FuelType shows similar distribution across all categories**. Hence they seem to be **less correlated with the Price** (they seem like a border cases as the boxes are close to each other)."
      ],
      "metadata": {
        "id": "Bc8XVagQrLsa"
      }
    },
    {
      "cell_type": "markdown",
      "source": [
        "### **DATA PREPROCESSING**"
      ],
      "metadata": {
        "id": "X742UGOPz1TU"
      }
    },
    {
      "cell_type": "markdown",
      "source": [
        "### Checking for missing values"
      ],
      "metadata": {
        "id": "ZVg0VVrU2cCt"
      }
    },
    {
      "cell_type": "code",
      "source": [
        "data.isnull().sum()"
      ],
      "metadata": {
        "colab": {
          "base_uri": "https://localhost:8080/"
        },
        "id": "dnlmTyHT3Tyz",
        "outputId": "25b383b5-2960-405e-8a18-c0d4605903ad"
      },
      "execution_count": 111,
      "outputs": [
        {
          "output_type": "execute_result",
          "data": {
            "text/plain": [
              "Price        0\n",
              "Age          2\n",
              "KM           0\n",
              "FuelType     4\n",
              "HP           0\n",
              "MetColor     0\n",
              "Automatic    0\n",
              "CC           2\n",
              "Doors        0\n",
              "Weight       2\n",
              "dtype: int64"
            ]
          },
          "metadata": {},
          "execution_count": 111
        }
      ]
    },
    {
      "cell_type": "code",
      "source": [
        "data.isnull().sum()/ len(data)"
      ],
      "metadata": {
        "colab": {
          "base_uri": "https://localhost:8080/"
        },
        "id": "4E_0EM1k4gtR",
        "outputId": "75bca6d2-ca61-450e-83bf-8059174b5d54"
      },
      "execution_count": 112,
      "outputs": [
        {
          "output_type": "execute_result",
          "data": {
            "text/plain": [
              "Price        0.000000\n",
              "Age          0.001393\n",
              "KM           0.000000\n",
              "FuelType     0.002786\n",
              "HP           0.000000\n",
              "MetColor     0.000000\n",
              "Automatic    0.000000\n",
              "CC           0.001393\n",
              "Doors        0.000000\n",
              "Weight       0.001393\n",
              "dtype: float64"
            ]
          },
          "metadata": {},
          "execution_count": 112
        }
      ]
    },
    {
      "cell_type": "code",
      "source": [
        "# If there are more than 30% of null values in a column, missing value treatment cannot be done.\n",
        "# That column must be rejected because too much information is missing."
      ],
      "metadata": {
        "id": "K1MrREhy3Vc8"
      },
      "execution_count": 113,
      "outputs": []
    },
    {
      "cell_type": "code",
      "source": [
        "# handling the null values by replacing them with median for continuous variables and\n",
        "# mode for categorical variables.\n",
        "\n",
        "#continuous variables\n",
        "# Age\n",
        "data.loc[data['Age'].isnull()== True, 'Age']= np.median(data['Age'].dropna(axis=0))\n",
        "# weight\n",
        "data.loc[data['Weight'].isnull()== True, 'Weight']= np.median(data['Weight'].dropna(axis=0))"
      ],
      "metadata": {
        "id": "BVKJqdqd4gHL"
      },
      "execution_count": 114,
      "outputs": []
    },
    {
      "cell_type": "code",
      "source": [
        "# for categorical variables\n",
        "\n",
        "# FuelType\n",
        "data.loc[data['FuelType'].isnull()== True, 'FuelType']= data['FuelType'].mode()[0]\n",
        "\n",
        "# CC\n",
        "data.loc[data['CC'].isnull()== True, 'CC']= data['CC'].mode()[0]"
      ],
      "metadata": {
        "id": "N5rbffTG38Ys"
      },
      "execution_count": 115,
      "outputs": []
    },
    {
      "cell_type": "code",
      "source": [
        "# check the handled columns\n",
        "data.isnull().sum()"
      ],
      "metadata": {
        "colab": {
          "base_uri": "https://localhost:8080/"
        },
        "id": "2kAtwGF77zv5",
        "outputId": "4cc91b37-b7dd-403b-aea5-4993dfdf6863"
      },
      "execution_count": 116,
      "outputs": [
        {
          "output_type": "execute_result",
          "data": {
            "text/plain": [
              "Price        0\n",
              "Age          0\n",
              "KM           0\n",
              "FuelType     0\n",
              "HP           0\n",
              "MetColor     0\n",
              "Automatic    0\n",
              "CC           0\n",
              "Doors        0\n",
              "Weight       0\n",
              "dtype: int64"
            ]
          },
          "metadata": {},
          "execution_count": 116
        }
      ]
    },
    {
      "cell_type": "markdown",
      "source": [
        "### Encoding"
      ],
      "metadata": {
        "id": "IcaBqsGS-5g6"
      }
    },
    {
      "cell_type": "code",
      "source": [
        "data.dtypes"
      ],
      "metadata": {
        "colab": {
          "base_uri": "https://localhost:8080/"
        },
        "id": "eODwhYQa-8_Y",
        "outputId": "0778cbcf-1542-4b77-fa7d-66d077721905"
      },
      "execution_count": 117,
      "outputs": [
        {
          "output_type": "execute_result",
          "data": {
            "text/plain": [
              "Price          int64\n",
              "Age          float64\n",
              "KM             int64\n",
              "FuelType      object\n",
              "HP             int64\n",
              "MetColor       int64\n",
              "Automatic      int64\n",
              "CC           float64\n",
              "Doors          int64\n",
              "Weight       float64\n",
              "dtype: object"
            ]
          },
          "metadata": {},
          "execution_count": 117
        }
      ]
    },
    {
      "cell_type": "code",
      "source": [
        "# Fueltype needs to be encoded\n",
        "\n",
        "data.FuelType.value_counts()"
      ],
      "metadata": {
        "colab": {
          "base_uri": "https://localhost:8080/"
        },
        "id": "zfQE4Pw9-83i",
        "outputId": "363c6f29-efbf-4325-8ad0-97956d458668"
      },
      "execution_count": 118,
      "outputs": [
        {
          "output_type": "execute_result",
          "data": {
            "text/plain": [
              "FuelType\n",
              "Petrol    1264\n",
              "Diesel     155\n",
              "CNG         17\n",
              "Name: count, dtype: int64"
            ]
          },
          "metadata": {},
          "execution_count": 118
        }
      ]
    },
    {
      "cell_type": "code",
      "source": [
        "# using one hot encoding (nominal variable)\n",
        "FuelType= pd.get_dummies(data['FuelType'], drop_first= True)\n",
        "data= pd.concat([data, FuelType], axis= 1)\n"
      ],
      "metadata": {
        "id": "AaA5q4Mv-8wW"
      },
      "execution_count": 119,
      "outputs": []
    },
    {
      "cell_type": "code",
      "source": [
        "data.drop('FuelType', axis=1, inplace= True)\n",
        "data"
      ],
      "metadata": {
        "colab": {
          "base_uri": "https://localhost:8080/",
          "height": 423
        },
        "id": "Ru9pe7Ni-8Qe",
        "outputId": "36c3c1e0-6393-47bc-8642-495e2de15aa0"
      },
      "execution_count": 120,
      "outputs": [
        {
          "output_type": "execute_result",
          "data": {
            "text/plain": [
              "      Price   Age     KM   HP  MetColor  Automatic      CC  Doors  Weight  \\\n",
              "0     13500  23.0  46986   90         1          0  2000.0      3  1165.0   \n",
              "1     13750  23.0  72937   90         1          0  2000.0      3  1165.0   \n",
              "2     13950  24.0  41711   90         1          0  2000.0      3  1165.0   \n",
              "3     14950  26.0  48000   90         0          0  2000.0      3  1165.0   \n",
              "4     13750  30.0  38500   90         0          0  2000.0      3  1170.0   \n",
              "...     ...   ...    ...  ...       ...        ...     ...    ...     ...   \n",
              "1431   7500  69.0  20544   86         1          0  1300.0      3  1025.0   \n",
              "1432  10845  72.0  19000   86         0          0  1300.0      3  1015.0   \n",
              "1433   8500  71.0  17016   86         0          0  1300.0      3  1015.0   \n",
              "1434   7250  70.0  16916   86         1          0  1300.0      3  1015.0   \n",
              "1435   6950  76.0      1  110         0          0  1600.0      5  1114.0   \n",
              "\n",
              "      Diesel  Petrol  \n",
              "0       True   False  \n",
              "1       True   False  \n",
              "2       True   False  \n",
              "3       True   False  \n",
              "4       True   False  \n",
              "...      ...     ...  \n",
              "1431   False    True  \n",
              "1432   False    True  \n",
              "1433   False    True  \n",
              "1434   False    True  \n",
              "1435   False    True  \n",
              "\n",
              "[1436 rows x 11 columns]"
            ],
            "text/html": [
              "\n",
              "  <div id=\"df-a3927185-71fd-402a-ab73-214530e014f1\" class=\"colab-df-container\">\n",
              "    <div>\n",
              "<style scoped>\n",
              "    .dataframe tbody tr th:only-of-type {\n",
              "        vertical-align: middle;\n",
              "    }\n",
              "\n",
              "    .dataframe tbody tr th {\n",
              "        vertical-align: top;\n",
              "    }\n",
              "\n",
              "    .dataframe thead th {\n",
              "        text-align: right;\n",
              "    }\n",
              "</style>\n",
              "<table border=\"1\" class=\"dataframe\">\n",
              "  <thead>\n",
              "    <tr style=\"text-align: right;\">\n",
              "      <th></th>\n",
              "      <th>Price</th>\n",
              "      <th>Age</th>\n",
              "      <th>KM</th>\n",
              "      <th>HP</th>\n",
              "      <th>MetColor</th>\n",
              "      <th>Automatic</th>\n",
              "      <th>CC</th>\n",
              "      <th>Doors</th>\n",
              "      <th>Weight</th>\n",
              "      <th>Diesel</th>\n",
              "      <th>Petrol</th>\n",
              "    </tr>\n",
              "  </thead>\n",
              "  <tbody>\n",
              "    <tr>\n",
              "      <th>0</th>\n",
              "      <td>13500</td>\n",
              "      <td>23.0</td>\n",
              "      <td>46986</td>\n",
              "      <td>90</td>\n",
              "      <td>1</td>\n",
              "      <td>0</td>\n",
              "      <td>2000.0</td>\n",
              "      <td>3</td>\n",
              "      <td>1165.0</td>\n",
              "      <td>True</td>\n",
              "      <td>False</td>\n",
              "    </tr>\n",
              "    <tr>\n",
              "      <th>1</th>\n",
              "      <td>13750</td>\n",
              "      <td>23.0</td>\n",
              "      <td>72937</td>\n",
              "      <td>90</td>\n",
              "      <td>1</td>\n",
              "      <td>0</td>\n",
              "      <td>2000.0</td>\n",
              "      <td>3</td>\n",
              "      <td>1165.0</td>\n",
              "      <td>True</td>\n",
              "      <td>False</td>\n",
              "    </tr>\n",
              "    <tr>\n",
              "      <th>2</th>\n",
              "      <td>13950</td>\n",
              "      <td>24.0</td>\n",
              "      <td>41711</td>\n",
              "      <td>90</td>\n",
              "      <td>1</td>\n",
              "      <td>0</td>\n",
              "      <td>2000.0</td>\n",
              "      <td>3</td>\n",
              "      <td>1165.0</td>\n",
              "      <td>True</td>\n",
              "      <td>False</td>\n",
              "    </tr>\n",
              "    <tr>\n",
              "      <th>3</th>\n",
              "      <td>14950</td>\n",
              "      <td>26.0</td>\n",
              "      <td>48000</td>\n",
              "      <td>90</td>\n",
              "      <td>0</td>\n",
              "      <td>0</td>\n",
              "      <td>2000.0</td>\n",
              "      <td>3</td>\n",
              "      <td>1165.0</td>\n",
              "      <td>True</td>\n",
              "      <td>False</td>\n",
              "    </tr>\n",
              "    <tr>\n",
              "      <th>4</th>\n",
              "      <td>13750</td>\n",
              "      <td>30.0</td>\n",
              "      <td>38500</td>\n",
              "      <td>90</td>\n",
              "      <td>0</td>\n",
              "      <td>0</td>\n",
              "      <td>2000.0</td>\n",
              "      <td>3</td>\n",
              "      <td>1170.0</td>\n",
              "      <td>True</td>\n",
              "      <td>False</td>\n",
              "    </tr>\n",
              "    <tr>\n",
              "      <th>...</th>\n",
              "      <td>...</td>\n",
              "      <td>...</td>\n",
              "      <td>...</td>\n",
              "      <td>...</td>\n",
              "      <td>...</td>\n",
              "      <td>...</td>\n",
              "      <td>...</td>\n",
              "      <td>...</td>\n",
              "      <td>...</td>\n",
              "      <td>...</td>\n",
              "      <td>...</td>\n",
              "    </tr>\n",
              "    <tr>\n",
              "      <th>1431</th>\n",
              "      <td>7500</td>\n",
              "      <td>69.0</td>\n",
              "      <td>20544</td>\n",
              "      <td>86</td>\n",
              "      <td>1</td>\n",
              "      <td>0</td>\n",
              "      <td>1300.0</td>\n",
              "      <td>3</td>\n",
              "      <td>1025.0</td>\n",
              "      <td>False</td>\n",
              "      <td>True</td>\n",
              "    </tr>\n",
              "    <tr>\n",
              "      <th>1432</th>\n",
              "      <td>10845</td>\n",
              "      <td>72.0</td>\n",
              "      <td>19000</td>\n",
              "      <td>86</td>\n",
              "      <td>0</td>\n",
              "      <td>0</td>\n",
              "      <td>1300.0</td>\n",
              "      <td>3</td>\n",
              "      <td>1015.0</td>\n",
              "      <td>False</td>\n",
              "      <td>True</td>\n",
              "    </tr>\n",
              "    <tr>\n",
              "      <th>1433</th>\n",
              "      <td>8500</td>\n",
              "      <td>71.0</td>\n",
              "      <td>17016</td>\n",
              "      <td>86</td>\n",
              "      <td>0</td>\n",
              "      <td>0</td>\n",
              "      <td>1300.0</td>\n",
              "      <td>3</td>\n",
              "      <td>1015.0</td>\n",
              "      <td>False</td>\n",
              "      <td>True</td>\n",
              "    </tr>\n",
              "    <tr>\n",
              "      <th>1434</th>\n",
              "      <td>7250</td>\n",
              "      <td>70.0</td>\n",
              "      <td>16916</td>\n",
              "      <td>86</td>\n",
              "      <td>1</td>\n",
              "      <td>0</td>\n",
              "      <td>1300.0</td>\n",
              "      <td>3</td>\n",
              "      <td>1015.0</td>\n",
              "      <td>False</td>\n",
              "      <td>True</td>\n",
              "    </tr>\n",
              "    <tr>\n",
              "      <th>1435</th>\n",
              "      <td>6950</td>\n",
              "      <td>76.0</td>\n",
              "      <td>1</td>\n",
              "      <td>110</td>\n",
              "      <td>0</td>\n",
              "      <td>0</td>\n",
              "      <td>1600.0</td>\n",
              "      <td>5</td>\n",
              "      <td>1114.0</td>\n",
              "      <td>False</td>\n",
              "      <td>True</td>\n",
              "    </tr>\n",
              "  </tbody>\n",
              "</table>\n",
              "<p>1436 rows × 11 columns</p>\n",
              "</div>\n",
              "    <div class=\"colab-df-buttons\">\n",
              "\n",
              "  <div class=\"colab-df-container\">\n",
              "    <button class=\"colab-df-convert\" onclick=\"convertToInteractive('df-a3927185-71fd-402a-ab73-214530e014f1')\"\n",
              "            title=\"Convert this dataframe to an interactive table.\"\n",
              "            style=\"display:none;\">\n",
              "\n",
              "  <svg xmlns=\"http://www.w3.org/2000/svg\" height=\"24px\" viewBox=\"0 -960 960 960\">\n",
              "    <path d=\"M120-120v-720h720v720H120Zm60-500h600v-160H180v160Zm220 220h160v-160H400v160Zm0 220h160v-160H400v160ZM180-400h160v-160H180v160Zm440 0h160v-160H620v160ZM180-180h160v-160H180v160Zm440 0h160v-160H620v160Z\"/>\n",
              "  </svg>\n",
              "    </button>\n",
              "\n",
              "  <style>\n",
              "    .colab-df-container {\n",
              "      display:flex;\n",
              "      gap: 12px;\n",
              "    }\n",
              "\n",
              "    .colab-df-convert {\n",
              "      background-color: #E8F0FE;\n",
              "      border: none;\n",
              "      border-radius: 50%;\n",
              "      cursor: pointer;\n",
              "      display: none;\n",
              "      fill: #1967D2;\n",
              "      height: 32px;\n",
              "      padding: 0 0 0 0;\n",
              "      width: 32px;\n",
              "    }\n",
              "\n",
              "    .colab-df-convert:hover {\n",
              "      background-color: #E2EBFA;\n",
              "      box-shadow: 0px 1px 2px rgba(60, 64, 67, 0.3), 0px 1px 3px 1px rgba(60, 64, 67, 0.15);\n",
              "      fill: #174EA6;\n",
              "    }\n",
              "\n",
              "    .colab-df-buttons div {\n",
              "      margin-bottom: 4px;\n",
              "    }\n",
              "\n",
              "    [theme=dark] .colab-df-convert {\n",
              "      background-color: #3B4455;\n",
              "      fill: #D2E3FC;\n",
              "    }\n",
              "\n",
              "    [theme=dark] .colab-df-convert:hover {\n",
              "      background-color: #434B5C;\n",
              "      box-shadow: 0px 1px 3px 1px rgba(0, 0, 0, 0.15);\n",
              "      filter: drop-shadow(0px 1px 2px rgba(0, 0, 0, 0.3));\n",
              "      fill: #FFFFFF;\n",
              "    }\n",
              "  </style>\n",
              "\n",
              "    <script>\n",
              "      const buttonEl =\n",
              "        document.querySelector('#df-a3927185-71fd-402a-ab73-214530e014f1 button.colab-df-convert');\n",
              "      buttonEl.style.display =\n",
              "        google.colab.kernel.accessAllowed ? 'block' : 'none';\n",
              "\n",
              "      async function convertToInteractive(key) {\n",
              "        const element = document.querySelector('#df-a3927185-71fd-402a-ab73-214530e014f1');\n",
              "        const dataTable =\n",
              "          await google.colab.kernel.invokeFunction('convertToInteractive',\n",
              "                                                    [key], {});\n",
              "        if (!dataTable) return;\n",
              "\n",
              "        const docLinkHtml = 'Like what you see? Visit the ' +\n",
              "          '<a target=\"_blank\" href=https://colab.research.google.com/notebooks/data_table.ipynb>data table notebook</a>'\n",
              "          + ' to learn more about interactive tables.';\n",
              "        element.innerHTML = '';\n",
              "        dataTable['output_type'] = 'display_data';\n",
              "        await google.colab.output.renderOutput(dataTable, element);\n",
              "        const docLink = document.createElement('div');\n",
              "        docLink.innerHTML = docLinkHtml;\n",
              "        element.appendChild(docLink);\n",
              "      }\n",
              "    </script>\n",
              "  </div>\n",
              "\n",
              "\n",
              "<div id=\"df-f687dbb4-1923-4ee2-90ec-a971ff17929c\">\n",
              "  <button class=\"colab-df-quickchart\" onclick=\"quickchart('df-f687dbb4-1923-4ee2-90ec-a971ff17929c')\"\n",
              "            title=\"Suggest charts\"\n",
              "            style=\"display:none;\">\n",
              "\n",
              "<svg xmlns=\"http://www.w3.org/2000/svg\" height=\"24px\"viewBox=\"0 0 24 24\"\n",
              "     width=\"24px\">\n",
              "    <g>\n",
              "        <path d=\"M19 3H5c-1.1 0-2 .9-2 2v14c0 1.1.9 2 2 2h14c1.1 0 2-.9 2-2V5c0-1.1-.9-2-2-2zM9 17H7v-7h2v7zm4 0h-2V7h2v10zm4 0h-2v-4h2v4z\"/>\n",
              "    </g>\n",
              "</svg>\n",
              "  </button>\n",
              "\n",
              "<style>\n",
              "  .colab-df-quickchart {\n",
              "      --bg-color: #E8F0FE;\n",
              "      --fill-color: #1967D2;\n",
              "      --hover-bg-color: #E2EBFA;\n",
              "      --hover-fill-color: #174EA6;\n",
              "      --disabled-fill-color: #AAA;\n",
              "      --disabled-bg-color: #DDD;\n",
              "  }\n",
              "\n",
              "  [theme=dark] .colab-df-quickchart {\n",
              "      --bg-color: #3B4455;\n",
              "      --fill-color: #D2E3FC;\n",
              "      --hover-bg-color: #434B5C;\n",
              "      --hover-fill-color: #FFFFFF;\n",
              "      --disabled-bg-color: #3B4455;\n",
              "      --disabled-fill-color: #666;\n",
              "  }\n",
              "\n",
              "  .colab-df-quickchart {\n",
              "    background-color: var(--bg-color);\n",
              "    border: none;\n",
              "    border-radius: 50%;\n",
              "    cursor: pointer;\n",
              "    display: none;\n",
              "    fill: var(--fill-color);\n",
              "    height: 32px;\n",
              "    padding: 0;\n",
              "    width: 32px;\n",
              "  }\n",
              "\n",
              "  .colab-df-quickchart:hover {\n",
              "    background-color: var(--hover-bg-color);\n",
              "    box-shadow: 0 1px 2px rgba(60, 64, 67, 0.3), 0 1px 3px 1px rgba(60, 64, 67, 0.15);\n",
              "    fill: var(--button-hover-fill-color);\n",
              "  }\n",
              "\n",
              "  .colab-df-quickchart-complete:disabled,\n",
              "  .colab-df-quickchart-complete:disabled:hover {\n",
              "    background-color: var(--disabled-bg-color);\n",
              "    fill: var(--disabled-fill-color);\n",
              "    box-shadow: none;\n",
              "  }\n",
              "\n",
              "  .colab-df-spinner {\n",
              "    border: 2px solid var(--fill-color);\n",
              "    border-color: transparent;\n",
              "    border-bottom-color: var(--fill-color);\n",
              "    animation:\n",
              "      spin 1s steps(1) infinite;\n",
              "  }\n",
              "\n",
              "  @keyframes spin {\n",
              "    0% {\n",
              "      border-color: transparent;\n",
              "      border-bottom-color: var(--fill-color);\n",
              "      border-left-color: var(--fill-color);\n",
              "    }\n",
              "    20% {\n",
              "      border-color: transparent;\n",
              "      border-left-color: var(--fill-color);\n",
              "      border-top-color: var(--fill-color);\n",
              "    }\n",
              "    30% {\n",
              "      border-color: transparent;\n",
              "      border-left-color: var(--fill-color);\n",
              "      border-top-color: var(--fill-color);\n",
              "      border-right-color: var(--fill-color);\n",
              "    }\n",
              "    40% {\n",
              "      border-color: transparent;\n",
              "      border-right-color: var(--fill-color);\n",
              "      border-top-color: var(--fill-color);\n",
              "    }\n",
              "    60% {\n",
              "      border-color: transparent;\n",
              "      border-right-color: var(--fill-color);\n",
              "    }\n",
              "    80% {\n",
              "      border-color: transparent;\n",
              "      border-right-color: var(--fill-color);\n",
              "      border-bottom-color: var(--fill-color);\n",
              "    }\n",
              "    90% {\n",
              "      border-color: transparent;\n",
              "      border-bottom-color: var(--fill-color);\n",
              "    }\n",
              "  }\n",
              "</style>\n",
              "\n",
              "  <script>\n",
              "    async function quickchart(key) {\n",
              "      const quickchartButtonEl =\n",
              "        document.querySelector('#' + key + ' button');\n",
              "      quickchartButtonEl.disabled = true;  // To prevent multiple clicks.\n",
              "      quickchartButtonEl.classList.add('colab-df-spinner');\n",
              "      try {\n",
              "        const charts = await google.colab.kernel.invokeFunction(\n",
              "            'suggestCharts', [key], {});\n",
              "      } catch (error) {\n",
              "        console.error('Error during call to suggestCharts:', error);\n",
              "      }\n",
              "      quickchartButtonEl.classList.remove('colab-df-spinner');\n",
              "      quickchartButtonEl.classList.add('colab-df-quickchart-complete');\n",
              "    }\n",
              "    (() => {\n",
              "      let quickchartButtonEl =\n",
              "        document.querySelector('#df-f687dbb4-1923-4ee2-90ec-a971ff17929c button');\n",
              "      quickchartButtonEl.style.display =\n",
              "        google.colab.kernel.accessAllowed ? 'block' : 'none';\n",
              "    })();\n",
              "  </script>\n",
              "</div>\n",
              "\n",
              "  <div id=\"id_041c0fdb-0257-4f9b-b1de-76684882bd32\">\n",
              "    <style>\n",
              "      .colab-df-generate {\n",
              "        background-color: #E8F0FE;\n",
              "        border: none;\n",
              "        border-radius: 50%;\n",
              "        cursor: pointer;\n",
              "        display: none;\n",
              "        fill: #1967D2;\n",
              "        height: 32px;\n",
              "        padding: 0 0 0 0;\n",
              "        width: 32px;\n",
              "      }\n",
              "\n",
              "      .colab-df-generate:hover {\n",
              "        background-color: #E2EBFA;\n",
              "        box-shadow: 0px 1px 2px rgba(60, 64, 67, 0.3), 0px 1px 3px 1px rgba(60, 64, 67, 0.15);\n",
              "        fill: #174EA6;\n",
              "      }\n",
              "\n",
              "      [theme=dark] .colab-df-generate {\n",
              "        background-color: #3B4455;\n",
              "        fill: #D2E3FC;\n",
              "      }\n",
              "\n",
              "      [theme=dark] .colab-df-generate:hover {\n",
              "        background-color: #434B5C;\n",
              "        box-shadow: 0px 1px 3px 1px rgba(0, 0, 0, 0.15);\n",
              "        filter: drop-shadow(0px 1px 2px rgba(0, 0, 0, 0.3));\n",
              "        fill: #FFFFFF;\n",
              "      }\n",
              "    </style>\n",
              "    <button class=\"colab-df-generate\" onclick=\"generateWithVariable('data')\"\n",
              "            title=\"Generate code using this dataframe.\"\n",
              "            style=\"display:none;\">\n",
              "\n",
              "  <svg xmlns=\"http://www.w3.org/2000/svg\" height=\"24px\"viewBox=\"0 0 24 24\"\n",
              "       width=\"24px\">\n",
              "    <path d=\"M7,19H8.4L18.45,9,17,7.55,7,17.6ZM5,21V16.75L18.45,3.32a2,2,0,0,1,2.83,0l1.4,1.43a1.91,1.91,0,0,1,.58,1.4,1.91,1.91,0,0,1-.58,1.4L9.25,21ZM18.45,9,17,7.55Zm-12,3A5.31,5.31,0,0,0,4.9,8.1,5.31,5.31,0,0,0,1,6.5,5.31,5.31,0,0,0,4.9,4.9,5.31,5.31,0,0,0,6.5,1,5.31,5.31,0,0,0,8.1,4.9,5.31,5.31,0,0,0,12,6.5,5.46,5.46,0,0,0,6.5,12Z\"/>\n",
              "  </svg>\n",
              "    </button>\n",
              "    <script>\n",
              "      (() => {\n",
              "      const buttonEl =\n",
              "        document.querySelector('#id_041c0fdb-0257-4f9b-b1de-76684882bd32 button.colab-df-generate');\n",
              "      buttonEl.style.display =\n",
              "        google.colab.kernel.accessAllowed ? 'block' : 'none';\n",
              "\n",
              "      buttonEl.onclick = () => {\n",
              "        google.colab.notebook.generateWithVariable('data');\n",
              "      }\n",
              "      })();\n",
              "    </script>\n",
              "  </div>\n",
              "\n",
              "    </div>\n",
              "  </div>\n"
            ],
            "application/vnd.google.colaboratory.intrinsic+json": {
              "type": "dataframe",
              "variable_name": "data",
              "summary": "{\n  \"name\": \"data\",\n  \"rows\": 1436,\n  \"fields\": [\n    {\n      \"column\": \"Price\",\n      \"properties\": {\n        \"dtype\": \"number\",\n        \"std\": 3626,\n        \"min\": 4350,\n        \"max\": 32500,\n        \"num_unique_values\": 236,\n        \"samples\": [\n          17795,\n          10350,\n          8995\n        ],\n        \"semantic_type\": \"\",\n        \"description\": \"\"\n      }\n    },\n    {\n      \"column\": \"Age\",\n      \"properties\": {\n        \"dtype\": \"number\",\n        \"std\": 18.56978444920982,\n        \"min\": 1.0,\n        \"max\": 80.0,\n        \"num_unique_values\": 77,\n        \"samples\": [\n          32.0,\n          37.0,\n          29.0\n        ],\n        \"semantic_type\": \"\",\n        \"description\": \"\"\n      }\n    },\n    {\n      \"column\": \"KM\",\n      \"properties\": {\n        \"dtype\": \"number\",\n        \"std\": 37506,\n        \"min\": 1,\n        \"max\": 243000,\n        \"num_unique_values\": 1263,\n        \"samples\": [\n          57829,\n          51000,\n          34882\n        ],\n        \"semantic_type\": \"\",\n        \"description\": \"\"\n      }\n    },\n    {\n      \"column\": \"HP\",\n      \"properties\": {\n        \"dtype\": \"number\",\n        \"std\": 14,\n        \"min\": 69,\n        \"max\": 192,\n        \"num_unique_values\": 12,\n        \"samples\": [\n          107,\n          72,\n          90\n        ],\n        \"semantic_type\": \"\",\n        \"description\": \"\"\n      }\n    },\n    {\n      \"column\": \"MetColor\",\n      \"properties\": {\n        \"dtype\": \"number\",\n        \"std\": 0,\n        \"min\": 0,\n        \"max\": 1,\n        \"num_unique_values\": 2,\n        \"samples\": [\n          0,\n          1\n        ],\n        \"semantic_type\": \"\",\n        \"description\": \"\"\n      }\n    },\n    {\n      \"column\": \"Automatic\",\n      \"properties\": {\n        \"dtype\": \"number\",\n        \"std\": 0,\n        \"min\": 0,\n        \"max\": 1,\n        \"num_unique_values\": 2,\n        \"samples\": [\n          1,\n          0\n        ],\n        \"semantic_type\": \"\",\n        \"description\": \"\"\n      }\n    },\n    {\n      \"column\": \"CC\",\n      \"properties\": {\n        \"dtype\": \"number\",\n        \"std\": 187.05179189965645,\n        \"min\": 1300.0,\n        \"max\": 2000.0,\n        \"num_unique_values\": 12,\n        \"samples\": [\n          1975.0,\n          1587.0\n        ],\n        \"semantic_type\": \"\",\n        \"description\": \"\"\n      }\n    },\n    {\n      \"column\": \"Doors\",\n      \"properties\": {\n        \"dtype\": \"number\",\n        \"std\": 0,\n        \"min\": 2,\n        \"max\": 5,\n        \"num_unique_values\": 4,\n        \"samples\": [\n          5,\n          2\n        ],\n        \"semantic_type\": \"\",\n        \"description\": \"\"\n      }\n    },\n    {\n      \"column\": \"Weight\",\n      \"properties\": {\n        \"dtype\": \"number\",\n        \"std\": 52.635838082082486,\n        \"min\": 1000.0,\n        \"max\": 1615.0,\n        \"num_unique_values\": 59,\n        \"samples\": [\n          1165.0,\n          1065.0\n        ],\n        \"semantic_type\": \"\",\n        \"description\": \"\"\n      }\n    },\n    {\n      \"column\": \"Diesel\",\n      \"properties\": {\n        \"dtype\": \"boolean\",\n        \"num_unique_values\": 2,\n        \"samples\": [\n          false,\n          true\n        ],\n        \"semantic_type\": \"\",\n        \"description\": \"\"\n      }\n    },\n    {\n      \"column\": \"Petrol\",\n      \"properties\": {\n        \"dtype\": \"boolean\",\n        \"num_unique_values\": 2,\n        \"samples\": [\n          true,\n          false\n        ],\n        \"semantic_type\": \"\",\n        \"description\": \"\"\n      }\n    }\n  ]\n}"
            }
          },
          "metadata": {},
          "execution_count": 120
        }
      ]
    },
    {
      "cell_type": "markdown",
      "source": [
        "### Duplicate records:\n"
      ],
      "metadata": {
        "id": "l03_XXR6GCWl"
      }
    },
    {
      "cell_type": "code",
      "source": [
        "data.duplicated().sum()"
      ],
      "metadata": {
        "colab": {
          "base_uri": "https://localhost:8080/"
        },
        "id": "msaSlq7LGFH6",
        "outputId": "cc6f86f7-a705-4b03-cec2-8a58e4325bfe"
      },
      "execution_count": 121,
      "outputs": [
        {
          "output_type": "execute_result",
          "data": {
            "text/plain": [
              "1"
            ]
          },
          "metadata": {},
          "execution_count": 121
        }
      ]
    },
    {
      "cell_type": "code",
      "source": [
        "data.shape"
      ],
      "metadata": {
        "colab": {
          "base_uri": "https://localhost:8080/"
        },
        "id": "gMWHqg7iL9zC",
        "outputId": "55e96255-0e5d-4b73-8254-13745666086a"
      },
      "execution_count": 122,
      "outputs": [
        {
          "output_type": "execute_result",
          "data": {
            "text/plain": [
              "(1436, 11)"
            ]
          },
          "metadata": {},
          "execution_count": 122
        }
      ]
    },
    {
      "cell_type": "code",
      "source": [
        "data.loc[data.duplicated(keep= False)]"
      ],
      "metadata": {
        "colab": {
          "base_uri": "https://localhost:8080/",
          "height": 112
        },
        "id": "uJZHE8d9GTYs",
        "outputId": "aca2f697-ef16-4244-88fc-2f9bc6a0814f"
      },
      "execution_count": 123,
      "outputs": [
        {
          "output_type": "execute_result",
          "data": {
            "text/plain": [
              "     Price  Age     KM   HP  MetColor  Automatic      CC  Doors  Weight  \\\n",
              "112  24950  8.0  13253  116         1          0  2000.0      5  1320.0   \n",
              "113  24950  8.0  13253  116         1          0  2000.0      5  1320.0   \n",
              "\n",
              "     Diesel  Petrol  \n",
              "112    True   False  \n",
              "113    True   False  "
            ],
            "text/html": [
              "\n",
              "  <div id=\"df-73ad0160-ba18-4b4f-957e-9c7286e31b77\" class=\"colab-df-container\">\n",
              "    <div>\n",
              "<style scoped>\n",
              "    .dataframe tbody tr th:only-of-type {\n",
              "        vertical-align: middle;\n",
              "    }\n",
              "\n",
              "    .dataframe tbody tr th {\n",
              "        vertical-align: top;\n",
              "    }\n",
              "\n",
              "    .dataframe thead th {\n",
              "        text-align: right;\n",
              "    }\n",
              "</style>\n",
              "<table border=\"1\" class=\"dataframe\">\n",
              "  <thead>\n",
              "    <tr style=\"text-align: right;\">\n",
              "      <th></th>\n",
              "      <th>Price</th>\n",
              "      <th>Age</th>\n",
              "      <th>KM</th>\n",
              "      <th>HP</th>\n",
              "      <th>MetColor</th>\n",
              "      <th>Automatic</th>\n",
              "      <th>CC</th>\n",
              "      <th>Doors</th>\n",
              "      <th>Weight</th>\n",
              "      <th>Diesel</th>\n",
              "      <th>Petrol</th>\n",
              "    </tr>\n",
              "  </thead>\n",
              "  <tbody>\n",
              "    <tr>\n",
              "      <th>112</th>\n",
              "      <td>24950</td>\n",
              "      <td>8.0</td>\n",
              "      <td>13253</td>\n",
              "      <td>116</td>\n",
              "      <td>1</td>\n",
              "      <td>0</td>\n",
              "      <td>2000.0</td>\n",
              "      <td>5</td>\n",
              "      <td>1320.0</td>\n",
              "      <td>True</td>\n",
              "      <td>False</td>\n",
              "    </tr>\n",
              "    <tr>\n",
              "      <th>113</th>\n",
              "      <td>24950</td>\n",
              "      <td>8.0</td>\n",
              "      <td>13253</td>\n",
              "      <td>116</td>\n",
              "      <td>1</td>\n",
              "      <td>0</td>\n",
              "      <td>2000.0</td>\n",
              "      <td>5</td>\n",
              "      <td>1320.0</td>\n",
              "      <td>True</td>\n",
              "      <td>False</td>\n",
              "    </tr>\n",
              "  </tbody>\n",
              "</table>\n",
              "</div>\n",
              "    <div class=\"colab-df-buttons\">\n",
              "\n",
              "  <div class=\"colab-df-container\">\n",
              "    <button class=\"colab-df-convert\" onclick=\"convertToInteractive('df-73ad0160-ba18-4b4f-957e-9c7286e31b77')\"\n",
              "            title=\"Convert this dataframe to an interactive table.\"\n",
              "            style=\"display:none;\">\n",
              "\n",
              "  <svg xmlns=\"http://www.w3.org/2000/svg\" height=\"24px\" viewBox=\"0 -960 960 960\">\n",
              "    <path d=\"M120-120v-720h720v720H120Zm60-500h600v-160H180v160Zm220 220h160v-160H400v160Zm0 220h160v-160H400v160ZM180-400h160v-160H180v160Zm440 0h160v-160H620v160ZM180-180h160v-160H180v160Zm440 0h160v-160H620v160Z\"/>\n",
              "  </svg>\n",
              "    </button>\n",
              "\n",
              "  <style>\n",
              "    .colab-df-container {\n",
              "      display:flex;\n",
              "      gap: 12px;\n",
              "    }\n",
              "\n",
              "    .colab-df-convert {\n",
              "      background-color: #E8F0FE;\n",
              "      border: none;\n",
              "      border-radius: 50%;\n",
              "      cursor: pointer;\n",
              "      display: none;\n",
              "      fill: #1967D2;\n",
              "      height: 32px;\n",
              "      padding: 0 0 0 0;\n",
              "      width: 32px;\n",
              "    }\n",
              "\n",
              "    .colab-df-convert:hover {\n",
              "      background-color: #E2EBFA;\n",
              "      box-shadow: 0px 1px 2px rgba(60, 64, 67, 0.3), 0px 1px 3px 1px rgba(60, 64, 67, 0.15);\n",
              "      fill: #174EA6;\n",
              "    }\n",
              "\n",
              "    .colab-df-buttons div {\n",
              "      margin-bottom: 4px;\n",
              "    }\n",
              "\n",
              "    [theme=dark] .colab-df-convert {\n",
              "      background-color: #3B4455;\n",
              "      fill: #D2E3FC;\n",
              "    }\n",
              "\n",
              "    [theme=dark] .colab-df-convert:hover {\n",
              "      background-color: #434B5C;\n",
              "      box-shadow: 0px 1px 3px 1px rgba(0, 0, 0, 0.15);\n",
              "      filter: drop-shadow(0px 1px 2px rgba(0, 0, 0, 0.3));\n",
              "      fill: #FFFFFF;\n",
              "    }\n",
              "  </style>\n",
              "\n",
              "    <script>\n",
              "      const buttonEl =\n",
              "        document.querySelector('#df-73ad0160-ba18-4b4f-957e-9c7286e31b77 button.colab-df-convert');\n",
              "      buttonEl.style.display =\n",
              "        google.colab.kernel.accessAllowed ? 'block' : 'none';\n",
              "\n",
              "      async function convertToInteractive(key) {\n",
              "        const element = document.querySelector('#df-73ad0160-ba18-4b4f-957e-9c7286e31b77');\n",
              "        const dataTable =\n",
              "          await google.colab.kernel.invokeFunction('convertToInteractive',\n",
              "                                                    [key], {});\n",
              "        if (!dataTable) return;\n",
              "\n",
              "        const docLinkHtml = 'Like what you see? Visit the ' +\n",
              "          '<a target=\"_blank\" href=https://colab.research.google.com/notebooks/data_table.ipynb>data table notebook</a>'\n",
              "          + ' to learn more about interactive tables.';\n",
              "        element.innerHTML = '';\n",
              "        dataTable['output_type'] = 'display_data';\n",
              "        await google.colab.output.renderOutput(dataTable, element);\n",
              "        const docLink = document.createElement('div');\n",
              "        docLink.innerHTML = docLinkHtml;\n",
              "        element.appendChild(docLink);\n",
              "      }\n",
              "    </script>\n",
              "  </div>\n",
              "\n",
              "\n",
              "<div id=\"df-90210611-c054-4f50-8a0d-292ea2576638\">\n",
              "  <button class=\"colab-df-quickchart\" onclick=\"quickchart('df-90210611-c054-4f50-8a0d-292ea2576638')\"\n",
              "            title=\"Suggest charts\"\n",
              "            style=\"display:none;\">\n",
              "\n",
              "<svg xmlns=\"http://www.w3.org/2000/svg\" height=\"24px\"viewBox=\"0 0 24 24\"\n",
              "     width=\"24px\">\n",
              "    <g>\n",
              "        <path d=\"M19 3H5c-1.1 0-2 .9-2 2v14c0 1.1.9 2 2 2h14c1.1 0 2-.9 2-2V5c0-1.1-.9-2-2-2zM9 17H7v-7h2v7zm4 0h-2V7h2v10zm4 0h-2v-4h2v4z\"/>\n",
              "    </g>\n",
              "</svg>\n",
              "  </button>\n",
              "\n",
              "<style>\n",
              "  .colab-df-quickchart {\n",
              "      --bg-color: #E8F0FE;\n",
              "      --fill-color: #1967D2;\n",
              "      --hover-bg-color: #E2EBFA;\n",
              "      --hover-fill-color: #174EA6;\n",
              "      --disabled-fill-color: #AAA;\n",
              "      --disabled-bg-color: #DDD;\n",
              "  }\n",
              "\n",
              "  [theme=dark] .colab-df-quickchart {\n",
              "      --bg-color: #3B4455;\n",
              "      --fill-color: #D2E3FC;\n",
              "      --hover-bg-color: #434B5C;\n",
              "      --hover-fill-color: #FFFFFF;\n",
              "      --disabled-bg-color: #3B4455;\n",
              "      --disabled-fill-color: #666;\n",
              "  }\n",
              "\n",
              "  .colab-df-quickchart {\n",
              "    background-color: var(--bg-color);\n",
              "    border: none;\n",
              "    border-radius: 50%;\n",
              "    cursor: pointer;\n",
              "    display: none;\n",
              "    fill: var(--fill-color);\n",
              "    height: 32px;\n",
              "    padding: 0;\n",
              "    width: 32px;\n",
              "  }\n",
              "\n",
              "  .colab-df-quickchart:hover {\n",
              "    background-color: var(--hover-bg-color);\n",
              "    box-shadow: 0 1px 2px rgba(60, 64, 67, 0.3), 0 1px 3px 1px rgba(60, 64, 67, 0.15);\n",
              "    fill: var(--button-hover-fill-color);\n",
              "  }\n",
              "\n",
              "  .colab-df-quickchart-complete:disabled,\n",
              "  .colab-df-quickchart-complete:disabled:hover {\n",
              "    background-color: var(--disabled-bg-color);\n",
              "    fill: var(--disabled-fill-color);\n",
              "    box-shadow: none;\n",
              "  }\n",
              "\n",
              "  .colab-df-spinner {\n",
              "    border: 2px solid var(--fill-color);\n",
              "    border-color: transparent;\n",
              "    border-bottom-color: var(--fill-color);\n",
              "    animation:\n",
              "      spin 1s steps(1) infinite;\n",
              "  }\n",
              "\n",
              "  @keyframes spin {\n",
              "    0% {\n",
              "      border-color: transparent;\n",
              "      border-bottom-color: var(--fill-color);\n",
              "      border-left-color: var(--fill-color);\n",
              "    }\n",
              "    20% {\n",
              "      border-color: transparent;\n",
              "      border-left-color: var(--fill-color);\n",
              "      border-top-color: var(--fill-color);\n",
              "    }\n",
              "    30% {\n",
              "      border-color: transparent;\n",
              "      border-left-color: var(--fill-color);\n",
              "      border-top-color: var(--fill-color);\n",
              "      border-right-color: var(--fill-color);\n",
              "    }\n",
              "    40% {\n",
              "      border-color: transparent;\n",
              "      border-right-color: var(--fill-color);\n",
              "      border-top-color: var(--fill-color);\n",
              "    }\n",
              "    60% {\n",
              "      border-color: transparent;\n",
              "      border-right-color: var(--fill-color);\n",
              "    }\n",
              "    80% {\n",
              "      border-color: transparent;\n",
              "      border-right-color: var(--fill-color);\n",
              "      border-bottom-color: var(--fill-color);\n",
              "    }\n",
              "    90% {\n",
              "      border-color: transparent;\n",
              "      border-bottom-color: var(--fill-color);\n",
              "    }\n",
              "  }\n",
              "</style>\n",
              "\n",
              "  <script>\n",
              "    async function quickchart(key) {\n",
              "      const quickchartButtonEl =\n",
              "        document.querySelector('#' + key + ' button');\n",
              "      quickchartButtonEl.disabled = true;  // To prevent multiple clicks.\n",
              "      quickchartButtonEl.classList.add('colab-df-spinner');\n",
              "      try {\n",
              "        const charts = await google.colab.kernel.invokeFunction(\n",
              "            'suggestCharts', [key], {});\n",
              "      } catch (error) {\n",
              "        console.error('Error during call to suggestCharts:', error);\n",
              "      }\n",
              "      quickchartButtonEl.classList.remove('colab-df-spinner');\n",
              "      quickchartButtonEl.classList.add('colab-df-quickchart-complete');\n",
              "    }\n",
              "    (() => {\n",
              "      let quickchartButtonEl =\n",
              "        document.querySelector('#df-90210611-c054-4f50-8a0d-292ea2576638 button');\n",
              "      quickchartButtonEl.style.display =\n",
              "        google.colab.kernel.accessAllowed ? 'block' : 'none';\n",
              "    })();\n",
              "  </script>\n",
              "</div>\n",
              "\n",
              "    </div>\n",
              "  </div>\n"
            ],
            "application/vnd.google.colaboratory.intrinsic+json": {
              "type": "dataframe",
              "summary": "{\n  \"name\": \"data\",\n  \"rows\": 2,\n  \"fields\": [\n    {\n      \"column\": \"Price\",\n      \"properties\": {\n        \"dtype\": \"number\",\n        \"std\": 0,\n        \"min\": 24950,\n        \"max\": 24950,\n        \"num_unique_values\": 1,\n        \"samples\": [\n          24950\n        ],\n        \"semantic_type\": \"\",\n        \"description\": \"\"\n      }\n    },\n    {\n      \"column\": \"Age\",\n      \"properties\": {\n        \"dtype\": \"number\",\n        \"std\": 0.0,\n        \"min\": 8.0,\n        \"max\": 8.0,\n        \"num_unique_values\": 1,\n        \"samples\": [\n          8.0\n        ],\n        \"semantic_type\": \"\",\n        \"description\": \"\"\n      }\n    },\n    {\n      \"column\": \"KM\",\n      \"properties\": {\n        \"dtype\": \"number\",\n        \"std\": 0,\n        \"min\": 13253,\n        \"max\": 13253,\n        \"num_unique_values\": 1,\n        \"samples\": [\n          13253\n        ],\n        \"semantic_type\": \"\",\n        \"description\": \"\"\n      }\n    },\n    {\n      \"column\": \"HP\",\n      \"properties\": {\n        \"dtype\": \"number\",\n        \"std\": 0,\n        \"min\": 116,\n        \"max\": 116,\n        \"num_unique_values\": 1,\n        \"samples\": [\n          116\n        ],\n        \"semantic_type\": \"\",\n        \"description\": \"\"\n      }\n    },\n    {\n      \"column\": \"MetColor\",\n      \"properties\": {\n        \"dtype\": \"number\",\n        \"std\": 0,\n        \"min\": 1,\n        \"max\": 1,\n        \"num_unique_values\": 1,\n        \"samples\": [\n          1\n        ],\n        \"semantic_type\": \"\",\n        \"description\": \"\"\n      }\n    },\n    {\n      \"column\": \"Automatic\",\n      \"properties\": {\n        \"dtype\": \"number\",\n        \"std\": 0,\n        \"min\": 0,\n        \"max\": 0,\n        \"num_unique_values\": 1,\n        \"samples\": [\n          0\n        ],\n        \"semantic_type\": \"\",\n        \"description\": \"\"\n      }\n    },\n    {\n      \"column\": \"CC\",\n      \"properties\": {\n        \"dtype\": \"number\",\n        \"std\": 0.0,\n        \"min\": 2000.0,\n        \"max\": 2000.0,\n        \"num_unique_values\": 1,\n        \"samples\": [\n          2000.0\n        ],\n        \"semantic_type\": \"\",\n        \"description\": \"\"\n      }\n    },\n    {\n      \"column\": \"Doors\",\n      \"properties\": {\n        \"dtype\": \"number\",\n        \"std\": 0,\n        \"min\": 5,\n        \"max\": 5,\n        \"num_unique_values\": 1,\n        \"samples\": [\n          5\n        ],\n        \"semantic_type\": \"\",\n        \"description\": \"\"\n      }\n    },\n    {\n      \"column\": \"Weight\",\n      \"properties\": {\n        \"dtype\": \"number\",\n        \"std\": 0.0,\n        \"min\": 1320.0,\n        \"max\": 1320.0,\n        \"num_unique_values\": 1,\n        \"samples\": [\n          1320.0\n        ],\n        \"semantic_type\": \"\",\n        \"description\": \"\"\n      }\n    },\n    {\n      \"column\": \"Diesel\",\n      \"properties\": {\n        \"dtype\": \"boolean\",\n        \"num_unique_values\": 1,\n        \"samples\": [\n          true\n        ],\n        \"semantic_type\": \"\",\n        \"description\": \"\"\n      }\n    },\n    {\n      \"column\": \"Petrol\",\n      \"properties\": {\n        \"dtype\": \"boolean\",\n        \"num_unique_values\": 1,\n        \"samples\": [\n          false\n        ],\n        \"semantic_type\": \"\",\n        \"description\": \"\"\n      }\n    }\n  ]\n}"
            }
          },
          "metadata": {},
          "execution_count": 123
        }
      ]
    },
    {
      "cell_type": "code",
      "source": [
        "# removing the second duplicated row\n",
        "data.drop_duplicates(keep= 'first', inplace= True)"
      ],
      "metadata": {
        "id": "LaIXlSPnGg6A"
      },
      "execution_count": 124,
      "outputs": []
    },
    {
      "cell_type": "code",
      "source": [
        "data.shape # hence the duplicated record is removed"
      ],
      "metadata": {
        "colab": {
          "base_uri": "https://localhost:8080/"
        },
        "id": "5eTzieoSLHRc",
        "outputId": "dba9d460-95f8-47cc-890f-439e9d1f1639"
      },
      "execution_count": 125,
      "outputs": [
        {
          "output_type": "execute_result",
          "data": {
            "text/plain": [
              "(1435, 11)"
            ]
          },
          "metadata": {},
          "execution_count": 125
        }
      ]
    },
    {
      "cell_type": "markdown",
      "source": [
        "### Checking outliers"
      ],
      "metadata": {
        "id": "EyKIS65t74hO"
      }
    },
    {
      "cell_type": "code",
      "source": [
        "continuous_features"
      ],
      "metadata": {
        "colab": {
          "base_uri": "https://localhost:8080/"
        },
        "id": "BbqFd0U0PfYv",
        "outputId": "c3de79c5-1c5d-4d8d-cc89-6f222914bebc"
      },
      "execution_count": 126,
      "outputs": [
        {
          "output_type": "execute_result",
          "data": {
            "text/plain": [
              "['Age', 'KM', 'Weight']"
            ]
          },
          "metadata": {},
          "execution_count": 126
        }
      ]
    },
    {
      "cell_type": "code",
      "source": [
        "plt.figure(figsize=(8, 4), facecolor = 'white')\n",
        "plotnum = 1\n",
        "\n",
        "for column in continuous_features:\n",
        "    if (plotnum <4):\n",
        "        ax= plt.subplot(1, 3, plotnum)\n",
        "        sns.boxplot(data = data, x= column, color= 'lime')\n",
        "        plt.xlabel(column, fontsize =25)\n",
        "        plt.ylabel('count', fontsize = 25)\n",
        "    plotnum +=1\n",
        "plt.tight_layout()"
      ],
      "metadata": {
        "colab": {
          "base_uri": "https://localhost:8080/",
          "height": 407
        },
        "id": "a2OYlhwF8chE",
        "outputId": "f4d5828d-ec3c-4401-b151-ca6d5391f873"
      },
      "execution_count": 129,
      "outputs": [
        {
          "output_type": "display_data",
          "data": {
            "text/plain": [
              "<Figure size 800x400 with 3 Axes>"
            ],
            "image/png": "[encoded data removed]"
          },
          "metadata": {}
        }
      ]
    },
    {
      "cell_type": "code",
      "source": [
        "# KM\n",
        "q1= data['KM'].quantile(0.25)\n",
        "q3= data['KM'].quantile(0.75)\n",
        "iqr= q3 - q1\n",
        "lower_lim= q1 - 1.5*iqr\n",
        "upper_lim= q3 + 1.5*iqr\n",
        "print(\"lower limit is \", lower_lim)\n",
        "print(\"upper_lim is \", upper_lim)"
      ],
      "metadata": {
        "colab": {
          "base_uri": "https://localhost:8080/"
        },
        "id": "Cz964FIc-0rt",
        "outputId": "e98984ee-649b-494f-eee0-911c4958ef7d"
      },
      "execution_count": 130,
      "outputs": [
        {
          "output_type": "stream",
          "name": "stdout",
          "text": [
            "lower limit is  -23062.25\n",
            "upper_lim is  153103.75\n"
          ]
        }
      ]
    },
    {
      "cell_type": "code",
      "source": [
        "len(data.loc[(data['KM'] < lower_lim)|(data['KM'] > upper_lim)]) / len(data)"
      ],
      "metadata": {
        "colab": {
          "base_uri": "https://localhost:8080/"
        },
        "id": "RPPsWlefSby8",
        "outputId": "56866240-a3d3-4721-9500-c94e74371d94"
      },
      "execution_count": 131,
      "outputs": [
        {
          "output_type": "execute_result",
          "data": {
            "text/plain": [
              "0.03414634146341464"
            ]
          },
          "metadata": {},
          "execution_count": 131
        }
      ]
    },
    {
      "cell_type": "code",
      "source": [
        "# outliers are less than 5% hence can be handled."
      ],
      "metadata": {
        "id": "dm-LLfqVS8od"
      },
      "execution_count": 132,
      "outputs": []
    },
    {
      "cell_type": "code",
      "source": [
        "# Replacing with median\n",
        "data.loc[(data['KM'] < lower_lim)|(data['KM'] > upper_lim), 'KM']= np.median(data['KM'])"
      ],
      "metadata": {
        "id": "BR4KZqwWTNU3"
      },
      "execution_count": 133,
      "outputs": []
    },
    {
      "cell_type": "code",
      "source": [
        "data.loc[(data['KM'] < lower_lim)|(data['KM'] > upper_lim)] # hence verified"
      ],
      "metadata": {
        "colab": {
          "base_uri": "https://localhost:8080/",
          "height": 53
        },
        "id": "ZUYQ3rjPTm82",
        "outputId": "cc9e39c4-c5aa-43fd-f428-f145e327e7a2"
      },
      "execution_count": 134,
      "outputs": [
        {
          "output_type": "execute_result",
          "data": {
            "text/plain": [
              "Empty DataFrame\n",
              "Columns: [Price, Age, KM, HP, MetColor, Automatic, CC, Doors, Weight, Diesel, Petrol]\n",
              "Index: []"
            ],
            "text/html": [
              "\n",
              "  <div id=\"df-10497203-1dbd-4e27-93be-740d67f4dc57\" class=\"colab-df-container\">\n",
              "    <div>\n",
              "<style scoped>\n",
              "    .dataframe tbody tr th:only-of-type {\n",
              "        vertical-align: middle;\n",
              "    }\n",
              "\n",
              "    .dataframe tbody tr th {\n",
              "        vertical-align: top;\n",
              "    }\n",
              "\n",
              "    .dataframe thead th {\n",
              "        text-align: right;\n",
              "    }\n",
              "</style>\n",
              "<table border=\"1\" class=\"dataframe\">\n",
              "  <thead>\n",
              "    <tr style=\"text-align: right;\">\n",
              "      <th></th>\n",
              "      <th>Price</th>\n",
              "      <th>Age</th>\n",
              "      <th>KM</th>\n",
              "      <th>HP</th>\n",
              "      <th>MetColor</th>\n",
              "      <th>Automatic</th>\n",
              "      <th>CC</th>\n",
              "      <th>Doors</th>\n",
              "      <th>Weight</th>\n",
              "      <th>Diesel</th>\n",
              "      <th>Petrol</th>\n",
              "    </tr>\n",
              "  </thead>\n",
              "  <tbody>\n",
              "  </tbody>\n",
              "</table>\n",
              "</div>\n",
              "    <div class=\"colab-df-buttons\">\n",
              "\n",
              "  <div class=\"colab-df-container\">\n",
              "    <button class=\"colab-df-convert\" onclick=\"convertToInteractive('df-10497203-1dbd-4e27-93be-740d67f4dc57')\"\n",
              "            title=\"Convert this dataframe to an interactive table.\"\n",
              "            style=\"display:none;\">\n",
              "\n",
              "  <svg xmlns=\"http://www.w3.org/2000/svg\" height=\"24px\" viewBox=\"0 -960 960 960\">\n",
              "    <path d=\"M120-120v-720h720v720H120Zm60-500h600v-160H180v160Zm220 220h160v-160H400v160Zm0 220h160v-160H400v160ZM180-400h160v-160H180v160Zm440 0h160v-160H620v160ZM180-180h160v-160H180v160Zm440 0h160v-160H620v160Z\"/>\n",
              "  </svg>\n",
              "    </button>\n",
              "\n",
              "  <style>\n",
              "    .colab-df-container {\n",
              "      display:flex;\n",
              "      gap: 12px;\n",
              "    }\n",
              "\n",
              "    .colab-df-convert {\n",
              "      background-color: #E8F0FE;\n",
              "      border: none;\n",
              "      border-radius: 50%;\n",
              "      cursor: pointer;\n",
              "      display: none;\n",
              "      fill: #1967D2;\n",
              "      height: 32px;\n",
              "      padding: 0 0 0 0;\n",
              "      width: 32px;\n",
              "    }\n",
              "\n",
              "    .colab-df-convert:hover {\n",
              "      background-color: #E2EBFA;\n",
              "      box-shadow: 0px 1px 2px rgba(60, 64, 67, 0.3), 0px 1px 3px 1px rgba(60, 64, 67, 0.15);\n",
              "      fill: #174EA6;\n",
              "    }\n",
              "\n",
              "    .colab-df-buttons div {\n",
              "      margin-bottom: 4px;\n",
              "    }\n",
              "\n",
              "    [theme=dark] .colab-df-convert {\n",
              "      background-color: #3B4455;\n",
              "      fill: #D2E3FC;\n",
              "    }\n",
              "\n",
              "    [theme=dark] .colab-df-convert:hover {\n",
              "      background-color: #434B5C;\n",
              "      box-shadow: 0px 1px 3px 1px rgba(0, 0, 0, 0.15);\n",
              "      filter: drop-shadow(0px 1px 2px rgba(0, 0, 0, 0.3));\n",
              "      fill: #FFFFFF;\n",
              "    }\n",
              "  </style>\n",
              "\n",
              "    <script>\n",
              "      const buttonEl =\n",
              "        document.querySelector('#df-10497203-1dbd-4e27-93be-740d67f4dc57 button.colab-df-convert');\n",
              "      buttonEl.style.display =\n",
              "        google.colab.kernel.accessAllowed ? 'block' : 'none';\n",
              "\n",
              "      async function convertToInteractive(key) {\n",
              "        const element = document.querySelector('#df-10497203-1dbd-4e27-93be-740d67f4dc57');\n",
              "        const dataTable =\n",
              "          await google.colab.kernel.invokeFunction('convertToInteractive',\n",
              "                                                    [key], {});\n",
              "        if (!dataTable) return;\n",
              "\n",
              "        const docLinkHtml = 'Like what you see? Visit the ' +\n",
              "          '<a target=\"_blank\" href=https://colab.research.google.com/notebooks/data_table.ipynb>data table notebook</a>'\n",
              "          + ' to learn more about interactive tables.';\n",
              "        element.innerHTML = '';\n",
              "        dataTable['output_type'] = 'display_data';\n",
              "        await google.colab.output.renderOutput(dataTable, element);\n",
              "        const docLink = document.createElement('div');\n",
              "        docLink.innerHTML = docLinkHtml;\n",
              "        element.appendChild(docLink);\n",
              "      }\n",
              "    </script>\n",
              "  </div>\n",
              "\n",
              "\n",
              "    </div>\n",
              "  </div>\n"
            ],
            "application/vnd.google.colaboratory.intrinsic+json": {
              "type": "dataframe",
              "summary": "{\n  \"name\": \"data\",\n  \"rows\": 0,\n  \"fields\": [\n    {\n      \"column\": \"Price\",\n      \"properties\": {\n        \"dtype\": \"number\",\n        \"std\": null,\n        \"min\": null,\n        \"max\": null,\n        \"num_unique_values\": 0,\n        \"samples\": [],\n        \"semantic_type\": \"\",\n        \"description\": \"\"\n      }\n    },\n    {\n      \"column\": \"Age\",\n      \"properties\": {\n        \"dtype\": \"number\",\n        \"std\": null,\n        \"min\": null,\n        \"max\": null,\n        \"num_unique_values\": 0,\n        \"samples\": [],\n        \"semantic_type\": \"\",\n        \"description\": \"\"\n      }\n    },\n    {\n      \"column\": \"KM\",\n      \"properties\": {\n        \"dtype\": \"number\",\n        \"std\": null,\n        \"min\": null,\n        \"max\": null,\n        \"num_unique_values\": 0,\n        \"samples\": [],\n        \"semantic_type\": \"\",\n        \"description\": \"\"\n      }\n    },\n    {\n      \"column\": \"HP\",\n      \"properties\": {\n        \"dtype\": \"number\",\n        \"std\": null,\n        \"min\": null,\n        \"max\": null,\n        \"num_unique_values\": 0,\n        \"samples\": [],\n        \"semantic_type\": \"\",\n        \"description\": \"\"\n      }\n    },\n    {\n      \"column\": \"MetColor\",\n      \"properties\": {\n        \"dtype\": \"number\",\n        \"std\": null,\n        \"min\": null,\n        \"max\": null,\n        \"num_unique_values\": 0,\n        \"samples\": [],\n        \"semantic_type\": \"\",\n        \"description\": \"\"\n      }\n    },\n    {\n      \"column\": \"Automatic\",\n      \"properties\": {\n        \"dtype\": \"number\",\n        \"std\": null,\n        \"min\": null,\n        \"max\": null,\n        \"num_unique_values\": 0,\n        \"samples\": [],\n        \"semantic_type\": \"\",\n        \"description\": \"\"\n      }\n    },\n    {\n      \"column\": \"CC\",\n      \"properties\": {\n        \"dtype\": \"number\",\n        \"std\": null,\n        \"min\": null,\n        \"max\": null,\n        \"num_unique_values\": 0,\n        \"samples\": [],\n        \"semantic_type\": \"\",\n        \"description\": \"\"\n      }\n    },\n    {\n      \"column\": \"Doors\",\n      \"properties\": {\n        \"dtype\": \"number\",\n        \"std\": null,\n        \"min\": null,\n        \"max\": null,\n        \"num_unique_values\": 0,\n        \"samples\": [],\n        \"semantic_type\": \"\",\n        \"description\": \"\"\n      }\n    },\n    {\n      \"column\": \"Weight\",\n      \"properties\": {\n        \"dtype\": \"number\",\n        \"std\": null,\n        \"min\": null,\n        \"max\": null,\n        \"num_unique_values\": 0,\n        \"samples\": [],\n        \"semantic_type\": \"\",\n        \"description\": \"\"\n      }\n    },\n    {\n      \"column\": \"Diesel\",\n      \"properties\": {\n        \"dtype\": \"boolean\",\n        \"num_unique_values\": 0,\n        \"samples\": [],\n        \"semantic_type\": \"\",\n        \"description\": \"\"\n      }\n    },\n    {\n      \"column\": \"Petrol\",\n      \"properties\": {\n        \"dtype\": \"boolean\",\n        \"num_unique_values\": 0,\n        \"samples\": [],\n        \"semantic_type\": \"\",\n        \"description\": \"\"\n      }\n    }\n  ]\n}"
            }
          },
          "metadata": {},
          "execution_count": 134
        }
      ]
    },
    {
      "cell_type": "code",
      "source": [
        "# Age\n",
        "\n",
        "q1= data['Age'].quantile(0.25)\n",
        "q3= data['Age'].quantile(0.75)\n",
        "iqr= q3 - q1\n",
        "lower_lim= q1 - 1.5*iqr\n",
        "upper_lim= q3 + 1.5*iqr\n",
        "print(\"lower limit is \", lower_lim)\n",
        "print(\"upper_lim is \", upper_lim)\n"
      ],
      "metadata": {
        "colab": {
          "base_uri": "https://localhost:8080/"
        },
        "id": "ZpImu7qUTscv",
        "outputId": "98dc6aa2-d121-463a-8c15-ac8bb0b99805"
      },
      "execution_count": 135,
      "outputs": [
        {
          "output_type": "stream",
          "name": "stdout",
          "text": [
            "lower limit is  5.0\n",
            "upper_lim is  109.0\n"
          ]
        }
      ]
    },
    {
      "cell_type": "code",
      "source": [
        "len(data.loc[(data['Age'] < lower_lim)| (data['Age'] > upper_lim)]) / len(data)"
      ],
      "metadata": {
        "colab": {
          "base_uri": "https://localhost:8080/"
        },
        "id": "0Tm4vM9qT_hp",
        "outputId": "3d1eb32a-81ef-4d6f-b517-124693c939fa"
      },
      "execution_count": 136,
      "outputs": [
        {
          "output_type": "execute_result",
          "data": {
            "text/plain": [
              "0.004878048780487805"
            ]
          },
          "metadata": {},
          "execution_count": 136
        }
      ]
    },
    {
      "cell_type": "code",
      "source": [
        "# Replacing with median\n",
        "data.loc[(data['Age'] < lower_lim) | (data['Age'] > upper_lim), 'Age']= np.median(data['Age'])"
      ],
      "metadata": {
        "id": "W3aBNx8XUHFe"
      },
      "execution_count": 137,
      "outputs": []
    },
    {
      "cell_type": "code",
      "source": [
        "data.loc[(data['Age'] < lower_lim)| (data['Age'] > upper_lim)] # hence verified"
      ],
      "metadata": {
        "colab": {
          "base_uri": "https://localhost:8080/",
          "height": 53
        },
        "id": "QK1GtFUIUqA-",
        "outputId": "3d3fddc4-0330-432a-a586-322fe238a002"
      },
      "execution_count": 138,
      "outputs": [
        {
          "output_type": "execute_result",
          "data": {
            "text/plain": [
              "Empty DataFrame\n",
              "Columns: [Price, Age, KM, HP, MetColor, Automatic, CC, Doors, Weight, Diesel, Petrol]\n",
              "Index: []"
            ],
            "text/html": [
              "\n",
              "  <div id=\"df-7f480823-a864-40cd-abfa-2080d1a7a4db\" class=\"colab-df-container\">\n",
              "    <div>\n",
              "<style scoped>\n",
              "    .dataframe tbody tr th:only-of-type {\n",
              "        vertical-align: middle;\n",
              "    }\n",
              "\n",
              "    .dataframe tbody tr th {\n",
              "        vertical-align: top;\n",
              "    }\n",
              "\n",
              "    .dataframe thead th {\n",
              "        text-align: right;\n",
              "    }\n",
              "</style>\n",
              "<table border=\"1\" class=\"dataframe\">\n",
              "  <thead>\n",
              "    <tr style=\"text-align: right;\">\n",
              "      <th></th>\n",
              "      <th>Price</th>\n",
              "      <th>Age</th>\n",
              "      <th>KM</th>\n",
              "      <th>HP</th>\n",
              "      <th>MetColor</th>\n",
              "      <th>Automatic</th>\n",
              "      <th>CC</th>\n",
              "      <th>Doors</th>\n",
              "      <th>Weight</th>\n",
              "      <th>Diesel</th>\n",
              "      <th>Petrol</th>\n",
              "    </tr>\n",
              "  </thead>\n",
              "  <tbody>\n",
              "  </tbody>\n",
              "</table>\n",
              "</div>\n",
              "    <div class=\"colab-df-buttons\">\n",
              "\n",
              "  <div class=\"colab-df-container\">\n",
              "    <button class=\"colab-df-convert\" onclick=\"convertToInteractive('df-7f480823-a864-40cd-abfa-2080d1a7a4db')\"\n",
              "            title=\"Convert this dataframe to an interactive table.\"\n",
              "            style=\"display:none;\">\n",
              "\n",
              "  <svg xmlns=\"http://www.w3.org/2000/svg\" height=\"24px\" viewBox=\"0 -960 960 960\">\n",
              "    <path d=\"M120-120v-720h720v720H120Zm60-500h600v-160H180v160Zm220 220h160v-160H400v160Zm0 220h160v-160H400v160ZM180-400h160v-160H180v160Zm440 0h160v-160H620v160ZM180-180h160v-160H180v160Zm440 0h160v-160H620v160Z\"/>\n",
              "  </svg>\n",
              "    </button>\n",
              "\n",
              "  <style>\n",
              "    .colab-df-container {\n",
              "      display:flex;\n",
              "      gap: 12px;\n",
              "    }\n",
              "\n",
              "    .colab-df-convert {\n",
              "      background-color: #E8F0FE;\n",
              "      border: none;\n",
              "      border-radius: 50%;\n",
              "      cursor: pointer;\n",
              "      display: none;\n",
              "      fill: #1967D2;\n",
              "      height: 32px;\n",
              "      padding: 0 0 0 0;\n",
              "      width: 32px;\n",
              "    }\n",
              "\n",
              "    .colab-df-convert:hover {\n",
              "      background-color: #E2EBFA;\n",
              "      box-shadow: 0px 1px 2px rgba(60, 64, 67, 0.3), 0px 1px 3px 1px rgba(60, 64, 67, 0.15);\n",
              "      fill: #174EA6;\n",
              "    }\n",
              "\n",
              "    .colab-df-buttons div {\n",
              "      margin-bottom: 4px;\n",
              "    }\n",
              "\n",
              "    [theme=dark] .colab-df-convert {\n",
              "      background-color: #3B4455;\n",
              "      fill: #D2E3FC;\n",
              "    }\n",
              "\n",
              "    [theme=dark] .colab-df-convert:hover {\n",
              "      background-color: #434B5C;\n",
              "      box-shadow: 0px 1px 3px 1px rgba(0, 0, 0, 0.15);\n",
              "      filter: drop-shadow(0px 1px 2px rgba(0, 0, 0, 0.3));\n",
              "      fill: #FFFFFF;\n",
              "    }\n",
              "  </style>\n",
              "\n",
              "    <script>\n",
              "      const buttonEl =\n",
              "        document.querySelector('#df-7f480823-a864-40cd-abfa-2080d1a7a4db button.colab-df-convert');\n",
              "      buttonEl.style.display =\n",
              "        google.colab.kernel.accessAllowed ? 'block' : 'none';\n",
              "\n",
              "      async function convertToInteractive(key) {\n",
              "        const element = document.querySelector('#df-7f480823-a864-40cd-abfa-2080d1a7a4db');\n",
              "        const dataTable =\n",
              "          await google.colab.kernel.invokeFunction('convertToInteractive',\n",
              "                                                    [key], {});\n",
              "        if (!dataTable) return;\n",
              "\n",
              "        const docLinkHtml = 'Like what you see? Visit the ' +\n",
              "          '<a target=\"_blank\" href=https://colab.research.google.com/notebooks/data_table.ipynb>data table notebook</a>'\n",
              "          + ' to learn more about interactive tables.';\n",
              "        element.innerHTML = '';\n",
              "        dataTable['output_type'] = 'display_data';\n",
              "        await google.colab.output.renderOutput(dataTable, element);\n",
              "        const docLink = document.createElement('div');\n",
              "        docLink.innerHTML = docLinkHtml;\n",
              "        element.appendChild(docLink);\n",
              "      }\n",
              "    </script>\n",
              "  </div>\n",
              "\n",
              "\n",
              "    </div>\n",
              "  </div>\n"
            ],
            "application/vnd.google.colaboratory.intrinsic+json": {
              "type": "dataframe",
              "summary": "{\n  \"name\": \"data\",\n  \"rows\": 0,\n  \"fields\": [\n    {\n      \"column\": \"Price\",\n      \"properties\": {\n        \"dtype\": \"number\",\n        \"std\": null,\n        \"min\": null,\n        \"max\": null,\n        \"num_unique_values\": 0,\n        \"samples\": [],\n        \"semantic_type\": \"\",\n        \"description\": \"\"\n      }\n    },\n    {\n      \"column\": \"Age\",\n      \"properties\": {\n        \"dtype\": \"number\",\n        \"std\": null,\n        \"min\": null,\n        \"max\": null,\n        \"num_unique_values\": 0,\n        \"samples\": [],\n        \"semantic_type\": \"\",\n        \"description\": \"\"\n      }\n    },\n    {\n      \"column\": \"KM\",\n      \"properties\": {\n        \"dtype\": \"number\",\n        \"std\": null,\n        \"min\": null,\n        \"max\": null,\n        \"num_unique_values\": 0,\n        \"samples\": [],\n        \"semantic_type\": \"\",\n        \"description\": \"\"\n      }\n    },\n    {\n      \"column\": \"HP\",\n      \"properties\": {\n        \"dtype\": \"number\",\n        \"std\": null,\n        \"min\": null,\n        \"max\": null,\n        \"num_unique_values\": 0,\n        \"samples\": [],\n        \"semantic_type\": \"\",\n        \"description\": \"\"\n      }\n    },\n    {\n      \"column\": \"MetColor\",\n      \"properties\": {\n        \"dtype\": \"number\",\n        \"std\": null,\n        \"min\": null,\n        \"max\": null,\n        \"num_unique_values\": 0,\n        \"samples\": [],\n        \"semantic_type\": \"\",\n        \"description\": \"\"\n      }\n    },\n    {\n      \"column\": \"Automatic\",\n      \"properties\": {\n        \"dtype\": \"number\",\n        \"std\": null,\n        \"min\": null,\n        \"max\": null,\n        \"num_unique_values\": 0,\n        \"samples\": [],\n        \"semantic_type\": \"\",\n        \"description\": \"\"\n      }\n    },\n    {\n      \"column\": \"CC\",\n      \"properties\": {\n        \"dtype\": \"number\",\n        \"std\": null,\n        \"min\": null,\n        \"max\": null,\n        \"num_unique_values\": 0,\n        \"samples\": [],\n        \"semantic_type\": \"\",\n        \"description\": \"\"\n      }\n    },\n    {\n      \"column\": \"Doors\",\n      \"properties\": {\n        \"dtype\": \"number\",\n        \"std\": null,\n        \"min\": null,\n        \"max\": null,\n        \"num_unique_values\": 0,\n        \"samples\": [],\n        \"semantic_type\": \"\",\n        \"description\": \"\"\n      }\n    },\n    {\n      \"column\": \"Weight\",\n      \"properties\": {\n        \"dtype\": \"number\",\n        \"std\": null,\n        \"min\": null,\n        \"max\": null,\n        \"num_unique_values\": 0,\n        \"samples\": [],\n        \"semantic_type\": \"\",\n        \"description\": \"\"\n      }\n    },\n    {\n      \"column\": \"Diesel\",\n      \"properties\": {\n        \"dtype\": \"boolean\",\n        \"num_unique_values\": 0,\n        \"samples\": [],\n        \"semantic_type\": \"\",\n        \"description\": \"\"\n      }\n    },\n    {\n      \"column\": \"Petrol\",\n      \"properties\": {\n        \"dtype\": \"boolean\",\n        \"num_unique_values\": 0,\n        \"samples\": [],\n        \"semantic_type\": \"\",\n        \"description\": \"\"\n      }\n    }\n  ]\n}"
            }
          },
          "metadata": {},
          "execution_count": 138
        }
      ]
    },
    {
      "cell_type": "code",
      "source": [
        "# Weight\n",
        "q1= data['Weight'].quantile(0.25)\n",
        "q3= data['Weight'].quantile(0.75)\n",
        "iqr= q3 - q1\n",
        "lower_lim= q1 - 1.5*iqr\n",
        "upper_lim= q3 + 1.5*iqr\n",
        "print(\"lower limit is \", lower_lim)\n",
        "print(\"upper_lim is \", upper_lim)"
      ],
      "metadata": {
        "colab": {
          "base_uri": "https://localhost:8080/"
        },
        "id": "Ye3VVez0Uttq",
        "outputId": "91f133d7-f5f8-430b-8db1-6929623a39f6"
      },
      "execution_count": 139,
      "outputs": [
        {
          "output_type": "stream",
          "name": "stdout",
          "text": [
            "lower limit is  972.5\n",
            "upper_lim is  1152.5\n"
          ]
        }
      ]
    },
    {
      "cell_type": "code",
      "source": [
        "len(data.loc[(data['Weight'] < lower_lim) | (data['Weight'] > upper_lim)]) / len(data)"
      ],
      "metadata": {
        "colab": {
          "base_uri": "https://localhost:8080/"
        },
        "id": "j6TufjiqU80I",
        "outputId": "24bbc69e-c12e-4804-e999-9591a2dd01ad"
      },
      "execution_count": 140,
      "outputs": [
        {
          "output_type": "execute_result",
          "data": {
            "text/plain": [
              "0.04529616724738676"
            ]
          },
          "metadata": {},
          "execution_count": 140
        }
      ]
    },
    {
      "cell_type": "code",
      "source": [
        "# Replacing with median\n",
        "data.loc[(data['Weight'] < lower_lim) | (data['Weight'] > upper_lim), 'Weight']= np.median(data['Weight'])"
      ],
      "metadata": {
        "id": "k8eY50DFVJkM"
      },
      "execution_count": 141,
      "outputs": []
    },
    {
      "cell_type": "code",
      "source": [
        "data.loc[(data['Weight'] < lower_lim) | (data['Weight'] > upper_lim)] # hence verified"
      ],
      "metadata": {
        "colab": {
          "base_uri": "https://localhost:8080/",
          "height": 53
        },
        "id": "yqZZDARsVhYn",
        "outputId": "9b1d3c13-8a04-4d39-a5c7-8df24ef6929e"
      },
      "execution_count": 142,
      "outputs": [
        {
          "output_type": "execute_result",
          "data": {
            "text/plain": [
              "Empty DataFrame\n",
              "Columns: [Price, Age, KM, HP, MetColor, Automatic, CC, Doors, Weight, Diesel, Petrol]\n",
              "Index: []"
            ],
            "text/html": [
              "\n",
              "  <div id=\"df-4f1819fb-6ebe-4590-afdf-be6e2bf1fc3c\" class=\"colab-df-container\">\n",
              "    <div>\n",
              "<style scoped>\n",
              "    .dataframe tbody tr th:only-of-type {\n",
              "        vertical-align: middle;\n",
              "    }\n",
              "\n",
              "    .dataframe tbody tr th {\n",
              "        vertical-align: top;\n",
              "    }\n",
              "\n",
              "    .dataframe thead th {\n",
              "        text-align: right;\n",
              "    }\n",
              "</style>\n",
              "<table border=\"1\" class=\"dataframe\">\n",
              "  <thead>\n",
              "    <tr style=\"text-align: right;\">\n",
              "      <th></th>\n",
              "      <th>Price</th>\n",
              "      <th>Age</th>\n",
              "      <th>KM</th>\n",
              "      <th>HP</th>\n",
              "      <th>MetColor</th>\n",
              "      <th>Automatic</th>\n",
              "      <th>CC</th>\n",
              "      <th>Doors</th>\n",
              "      <th>Weight</th>\n",
              "      <th>Diesel</th>\n",
              "      <th>Petrol</th>\n",
              "    </tr>\n",
              "  </thead>\n",
              "  <tbody>\n",
              "  </tbody>\n",
              "</table>\n",
              "</div>\n",
              "    <div class=\"colab-df-buttons\">\n",
              "\n",
              "  <div class=\"colab-df-container\">\n",
              "    <button class=\"colab-df-convert\" onclick=\"convertToInteractive('df-4f1819fb-6ebe-4590-afdf-be6e2bf1fc3c')\"\n",
              "            title=\"Convert this dataframe to an interactive table.\"\n",
              "            style=\"display:none;\">\n",
              "\n",
              "  <svg xmlns=\"http://www.w3.org/2000/svg\" height=\"24px\" viewBox=\"0 -960 960 960\">\n",
              "    <path d=\"M120-120v-720h720v720H120Zm60-500h600v-160H180v160Zm220 220h160v-160H400v160Zm0 220h160v-160H400v160ZM180-400h160v-160H180v160Zm440 0h160v-160H620v160ZM180-180h160v-160H180v160Zm440 0h160v-160H620v160Z\"/>\n",
              "  </svg>\n",
              "    </button>\n",
              "\n",
              "  <style>\n",
              "    .colab-df-container {\n",
              "      display:flex;\n",
              "      gap: 12px;\n",
              "    }\n",
              "\n",
              "    .colab-df-convert {\n",
              "      background-color: #E8F0FE;\n",
              "      border: none;\n",
              "      border-radius: 50%;\n",
              "      cursor: pointer;\n",
              "      display: none;\n",
              "      fill: #1967D2;\n",
              "      height: 32px;\n",
              "      padding: 0 0 0 0;\n",
              "      width: 32px;\n",
              "    }\n",
              "\n",
              "    .colab-df-convert:hover {\n",
              "      background-color: #E2EBFA;\n",
              "      box-shadow: 0px 1px 2px rgba(60, 64, 67, 0.3), 0px 1px 3px 1px rgba(60, 64, 67, 0.15);\n",
              "      fill: #174EA6;\n",
              "    }\n",
              "\n",
              "    .colab-df-buttons div {\n",
              "      margin-bottom: 4px;\n",
              "    }\n",
              "\n",
              "    [theme=dark] .colab-df-convert {\n",
              "      background-color: #3B4455;\n",
              "      fill: #D2E3FC;\n",
              "    }\n",
              "\n",
              "    [theme=dark] .colab-df-convert:hover {\n",
              "      background-color: #434B5C;\n",
              "      box-shadow: 0px 1px 3px 1px rgba(0, 0, 0, 0.15);\n",
              "      filter: drop-shadow(0px 1px 2px rgba(0, 0, 0, 0.3));\n",
              "      fill: #FFFFFF;\n",
              "    }\n",
              "  </style>\n",
              "\n",
              "    <script>\n",
              "      const buttonEl =\n",
              "        document.querySelector('#df-4f1819fb-6ebe-4590-afdf-be6e2bf1fc3c button.colab-df-convert');\n",
              "      buttonEl.style.display =\n",
              "        google.colab.kernel.accessAllowed ? 'block' : 'none';\n",
              "\n",
              "      async function convertToInteractive(key) {\n",
              "        const element = document.querySelector('#df-4f1819fb-6ebe-4590-afdf-be6e2bf1fc3c');\n",
              "        const dataTable =\n",
              "          await google.colab.kernel.invokeFunction('convertToInteractive',\n",
              "                                                    [key], {});\n",
              "        if (!dataTable) return;\n",
              "\n",
              "        const docLinkHtml = 'Like what you see? Visit the ' +\n",
              "          '<a target=\"_blank\" href=https://colab.research.google.com/notebooks/data_table.ipynb>data table notebook</a>'\n",
              "          + ' to learn more about interactive tables.';\n",
              "        element.innerHTML = '';\n",
              "        dataTable['output_type'] = 'display_data';\n",
              "        await google.colab.output.renderOutput(dataTable, element);\n",
              "        const docLink = document.createElement('div');\n",
              "        docLink.innerHTML = docLinkHtml;\n",
              "        element.appendChild(docLink);\n",
              "      }\n",
              "    </script>\n",
              "  </div>\n",
              "\n",
              "\n",
              "    </div>\n",
              "  </div>\n"
            ],
            "application/vnd.google.colaboratory.intrinsic+json": {
              "type": "dataframe",
              "summary": "{\n  \"name\": \"data\",\n  \"rows\": 0,\n  \"fields\": [\n    {\n      \"column\": \"Price\",\n      \"properties\": {\n        \"dtype\": \"number\",\n        \"std\": null,\n        \"min\": null,\n        \"max\": null,\n        \"num_unique_values\": 0,\n        \"samples\": [],\n        \"semantic_type\": \"\",\n        \"description\": \"\"\n      }\n    },\n    {\n      \"column\": \"Age\",\n      \"properties\": {\n        \"dtype\": \"number\",\n        \"std\": null,\n        \"min\": null,\n        \"max\": null,\n        \"num_unique_values\": 0,\n        \"samples\": [],\n        \"semantic_type\": \"\",\n        \"description\": \"\"\n      }\n    },\n    {\n      \"column\": \"KM\",\n      \"properties\": {\n        \"dtype\": \"number\",\n        \"std\": null,\n        \"min\": null,\n        \"max\": null,\n        \"num_unique_values\": 0,\n        \"samples\": [],\n        \"semantic_type\": \"\",\n        \"description\": \"\"\n      }\n    },\n    {\n      \"column\": \"HP\",\n      \"properties\": {\n        \"dtype\": \"number\",\n        \"std\": null,\n        \"min\": null,\n        \"max\": null,\n        \"num_unique_values\": 0,\n        \"samples\": [],\n        \"semantic_type\": \"\",\n        \"description\": \"\"\n      }\n    },\n    {\n      \"column\": \"MetColor\",\n      \"properties\": {\n        \"dtype\": \"number\",\n        \"std\": null,\n        \"min\": null,\n        \"max\": null,\n        \"num_unique_values\": 0,\n        \"samples\": [],\n        \"semantic_type\": \"\",\n        \"description\": \"\"\n      }\n    },\n    {\n      \"column\": \"Automatic\",\n      \"properties\": {\n        \"dtype\": \"number\",\n        \"std\": null,\n        \"min\": null,\n        \"max\": null,\n        \"num_unique_values\": 0,\n        \"samples\": [],\n        \"semantic_type\": \"\",\n        \"description\": \"\"\n      }\n    },\n    {\n      \"column\": \"CC\",\n      \"properties\": {\n        \"dtype\": \"number\",\n        \"std\": null,\n        \"min\": null,\n        \"max\": null,\n        \"num_unique_values\": 0,\n        \"samples\": [],\n        \"semantic_type\": \"\",\n        \"description\": \"\"\n      }\n    },\n    {\n      \"column\": \"Doors\",\n      \"properties\": {\n        \"dtype\": \"number\",\n        \"std\": null,\n        \"min\": null,\n        \"max\": null,\n        \"num_unique_values\": 0,\n        \"samples\": [],\n        \"semantic_type\": \"\",\n        \"description\": \"\"\n      }\n    },\n    {\n      \"column\": \"Weight\",\n      \"properties\": {\n        \"dtype\": \"number\",\n        \"std\": null,\n        \"min\": null,\n        \"max\": null,\n        \"num_unique_values\": 0,\n        \"samples\": [],\n        \"semantic_type\": \"\",\n        \"description\": \"\"\n      }\n    },\n    {\n      \"column\": \"Diesel\",\n      \"properties\": {\n        \"dtype\": \"boolean\",\n        \"num_unique_values\": 0,\n        \"samples\": [],\n        \"semantic_type\": \"\",\n        \"description\": \"\"\n      }\n    },\n    {\n      \"column\": \"Petrol\",\n      \"properties\": {\n        \"dtype\": \"boolean\",\n        \"num_unique_values\": 0,\n        \"samples\": [],\n        \"semantic_type\": \"\",\n        \"description\": \"\"\n      }\n    }\n  ]\n}"
            }
          },
          "metadata": {},
          "execution_count": 142
        }
      ]
    },
    {
      "cell_type": "markdown",
      "source": [
        "### Scaling"
      ],
      "metadata": {
        "id": "v3k4G4JEVjsM"
      }
    },
    {
      "cell_type": "code",
      "source": [
        "#Splitting the data\n",
        "\n",
        "X= data.drop('Price', axis= 1)\n",
        "y= data['Price']"
      ],
      "metadata": {
        "id": "TZjoSXCvYbtW"
      },
      "execution_count": 143,
      "outputs": []
    },
    {
      "cell_type": "code",
      "source": [
        "# Train - test- split\n",
        "from sklearn.model_selection import train_test_split\n",
        "X_train, X_test, y_train, y_test= train_test_split(X, y, random_state= 42)"
      ],
      "metadata": {
        "id": "hDpuaWKdYjMs"
      },
      "execution_count": 144,
      "outputs": []
    },
    {
      "cell_type": "code",
      "source": [
        "# checking the shape\n",
        "print(\"X_train: \", X_train.shape)\n",
        "print(\"X_test: \", X_test.shape)\n",
        "print(\"y_train: \", y_train.shape)\n",
        "print(\"y_test: \", y_test.shape)"
      ],
      "metadata": {
        "colab": {
          "base_uri": "https://localhost:8080/"
        },
        "id": "UIWkKzh9Y2po",
        "outputId": "d2edbd16-dbf3-4d6c-ae49-16dc58bc0616"
      },
      "execution_count": 145,
      "outputs": [
        {
          "output_type": "stream",
          "name": "stdout",
          "text": [
            "X_train:  (1076, 10)\n",
            "X_test:  (359, 10)\n",
            "y_train:  (1076,)\n",
            "y_test:  (359,)\n"
          ]
        }
      ]
    },
    {
      "cell_type": "code",
      "source": [
        "data.shape"
      ],
      "metadata": {
        "colab": {
          "base_uri": "https://localhost:8080/"
        },
        "id": "PleI14SaZJ23",
        "outputId": "c0c2028a-6ac0-4906-8db0-599a19f07731"
      },
      "execution_count": 146,
      "outputs": [
        {
          "output_type": "execute_result",
          "data": {
            "text/plain": [
              "(1435, 11)"
            ]
          },
          "metadata": {},
          "execution_count": 146
        }
      ]
    },
    {
      "cell_type": "code",
      "source": [
        "# scaling\n",
        "\n",
        "from sklearn.preprocessing import MinMaxScaler, StandardScaler\n",
        "scaling= StandardScaler()\n",
        "X_train= scaling.fit_transform(X_train)\n",
        "X_test= scaling.transform(X_test)"
      ],
      "metadata": {
        "id": "T9nRZu_uZaSo"
      },
      "execution_count": 147,
      "outputs": []
    },
    {
      "cell_type": "code",
      "source": [
        "X_train"
      ],
      "metadata": {
        "colab": {
          "base_uri": "https://localhost:8080/"
        },
        "id": "2sa98QZiaKcx",
        "outputId": "6ae117e4-d6c3-445d-9373-6f9362246e04"
      },
      "execution_count": 155,
      "outputs": [
        {
          "output_type": "execute_result",
          "data": {
            "text/plain": [
              "array([[-0.5520285 , -1.0601774 ,  0.5630013 , ...,  0.45789444,\n",
              "        -0.35262858,  0.37070301],\n",
              "       [-0.93489025, -1.33539949,  0.5630013 , ..., -0.14324565,\n",
              "        -0.35262858,  0.37070301],\n",
              "       [-2.63042086, -1.79055409,  0.5630013 , ...,  1.96074468,\n",
              "        -0.35262858,  0.37070301],\n",
              "       ...,\n",
              "       [ 1.30758573,  0.2160664 ,  0.5630013 , ..., -0.89467077,\n",
              "        -0.35262858,  0.37070301],\n",
              "       [ 0.48716769, -0.01179282,  0.5630013 , ...,  0.1573244 ,\n",
              "        -0.35262858,  0.37070301],\n",
              "       [ 1.03411305,  1.47774977,  0.5630013 , ...,  0.60817947,\n",
              "        -0.35262858,  0.37070301]])"
            ]
          },
          "metadata": {},
          "execution_count": 155
        }
      ]
    },
    {
      "cell_type": "code",
      "source": [
        "X_test"
      ],
      "metadata": {
        "colab": {
          "base_uri": "https://localhost:8080/"
        },
        "id": "74RzSYbOaOX_",
        "outputId": "eb626f12-09ec-479d-d03f-0fb0e231e3c3"
      },
      "execution_count": 156,
      "outputs": [
        {
          "output_type": "execute_result",
          "data": {
            "text/plain": [
              "array([[ 0.15900047,  0.51225022,  0.5630013 , ...,  0.00703937,\n",
              "        -0.35262858,  0.37070301],\n",
              "       [ 0.32308408, -0.00625388,  0.5630013 , ...,  0.30760942,\n",
              "        -0.35262858,  0.37070301],\n",
              "       [ 0.15900047,  2.15635233, -1.93103955, ...,  2.11102971,\n",
              "         2.83584499, -2.69757726],\n",
              "       ...,\n",
              "       [ 0.10430594,  0.86282838,  0.5630013 , ...,  0.30760942,\n",
              "        -0.35262858,  0.37070301],\n",
              "       [-1.26305746, -0.73507171,  0.5630013 , ...,  0.30760942,\n",
              "        -0.35262858,  0.37070301],\n",
              "       [ 0.59655676,  1.45297381,  0.5630013 , ..., -0.89467077,\n",
              "        -0.35262858,  0.37070301]])"
            ]
          },
          "metadata": {},
          "execution_count": 156
        }
      ]
    },
    {
      "cell_type": "markdown",
      "source": [
        "### **FEATURES SELECTION**"
      ],
      "metadata": {
        "id": "ykHBNZWna8R_"
      }
    },
    {
      "cell_type": "code",
      "source": [
        "# Statistical measurement of relationship between variables"
      ],
      "metadata": {
        "id": "O46cGGf_bP5j"
      },
      "execution_count": 158,
      "outputs": []
    },
    {
      "cell_type": "markdown",
      "source": [
        "### Continuous predictors Vs Continuous target variable"
      ],
      "metadata": {
        "id": "In2tV9eipN54"
      }
    },
    {
      "cell_type": "code",
      "source": [
        "# Pearson's correlation coefficient is used."
      ],
      "metadata": {
        "id": "D2cBqROFtGJ2"
      },
      "execution_count": null,
      "outputs": []
    },
    {
      "cell_type": "code",
      "source": [
        "plt.figure(figsize= (12, 6), dpi= 100)\n",
        "continuous_columns= data[['Price', 'Age', 'KM', 'Weight']]\n",
        "correlation= continuous_columns.corr()[['Price']]\n",
        "heatmap= sns.heatmap(correlation.sort_values(by= 'Price', ascending= False),\n",
        "                     vmin= -1, vmax = 1, annot= True, cmap= 'Greens')\n",
        "\n",
        "# Looping through the text elements and setting the font weight to bold\n",
        "for text in heatmap.texts:\n",
        "    text.set_fontweight('bold')\n",
        "\n",
        "heatmap.set_title('Correlation of features with \"Price\"', fontsize= 12, pad= 18, fontweight= 'bold')\n",
        "plt.show()"
      ],
      "metadata": {
        "colab": {
          "base_uri": "https://localhost:8080/",
          "height": 561
        },
        "id": "hZ-0wf0TpUBX",
        "outputId": "d7ea7d82-a904-4d41-9a61-16d3acc578fc"
      },
      "execution_count": 163,
      "outputs": [
        {
          "output_type": "display_data",
          "data": {
            "text/plain": [
              "<Figure size 1200x600 with 2 Axes>"
            ],
            "image/png": "[encoded data removed]"
          },
          "metadata": {}
        }
      ]
    },
    {
      "cell_type": "code",
      "source": [
        "# fixing 0.5 as threshold\n",
        "\n",
        "correlation[abs(correlation) > 0.5]"
      ],
      "metadata": {
        "colab": {
          "base_uri": "https://localhost:8080/",
          "height": 175
        },
        "id": "4UhMyK-VqhCE",
        "outputId": "6a3e061e-4c4f-4d85-ee27-2ce1419ff662"
      },
      "execution_count": 164,
      "outputs": [
        {
          "output_type": "execute_result",
          "data": {
            "text/plain": [
              "           Price\n",
              "Price   1.000000\n",
              "Age    -0.831847\n",
              "KM     -0.566838\n",
              "Weight       NaN"
            ],
            "text/html": [
              "\n",
              "  <div id=\"df-61ab996e-e47c-4c07-b969-49bc1bd552a9\" class=\"colab-df-container\">\n",
              "    <div>\n",
              "<style scoped>\n",
              "    .dataframe tbody tr th:only-of-type {\n",
              "        vertical-align: middle;\n",
              "    }\n",
              "\n",
              "    .dataframe tbody tr th {\n",
              "        vertical-align: top;\n",
              "    }\n",
              "\n",
              "    .dataframe thead th {\n",
              "        text-align: right;\n",
              "    }\n",
              "</style>\n",
              "<table border=\"1\" class=\"dataframe\">\n",
              "  <thead>\n",
              "    <tr style=\"text-align: right;\">\n",
              "      <th></th>\n",
              "      <th>Price</th>\n",
              "    </tr>\n",
              "  </thead>\n",
              "  <tbody>\n",
              "    <tr>\n",
              "      <th>Price</th>\n",
              "      <td>1.000000</td>\n",
              "    </tr>\n",
              "    <tr>\n",
              "      <th>Age</th>\n",
              "      <td>-0.831847</td>\n",
              "    </tr>\n",
              "    <tr>\n",
              "      <th>KM</th>\n",
              "      <td>-0.566838</td>\n",
              "    </tr>\n",
              "    <tr>\n",
              "      <th>Weight</th>\n",
              "      <td>NaN</td>\n",
              "    </tr>\n",
              "  </tbody>\n",
              "</table>\n",
              "</div>\n",
              "    <div class=\"colab-df-buttons\">\n",
              "\n",
              "  <div class=\"colab-df-container\">\n",
              "    <button class=\"colab-df-convert\" onclick=\"convertToInteractive('df-61ab996e-e47c-4c07-b969-49bc1bd552a9')\"\n",
              "            title=\"Convert this dataframe to an interactive table.\"\n",
              "            style=\"display:none;\">\n",
              "\n",
              "  <svg xmlns=\"http://www.w3.org/2000/svg\" height=\"24px\" viewBox=\"0 -960 960 960\">\n",
              "    <path d=\"M120-120v-720h720v720H120Zm60-500h600v-160H180v160Zm220 220h160v-160H400v160Zm0 220h160v-160H400v160ZM180-400h160v-160H180v160Zm440 0h160v-160H620v160ZM180-180h160v-160H180v160Zm440 0h160v-160H620v160Z\"/>\n",
              "  </svg>\n",
              "    </button>\n",
              "\n",
              "  <style>\n",
              "    .colab-df-container {\n",
              "      display:flex;\n",
              "      gap: 12px;\n",
              "    }\n",
              "\n",
              "    .colab-df-convert {\n",
              "      background-color: #E8F0FE;\n",
              "      border: none;\n",
              "      border-radius: 50%;\n",
              "      cursor: pointer;\n",
              "      display: none;\n",
              "      fill: #1967D2;\n",
              "      height: 32px;\n",
              "      padding: 0 0 0 0;\n",
              "      width: 32px;\n",
              "    }\n",
              "\n",
              "    .colab-df-convert:hover {\n",
              "      background-color: #E2EBFA;\n",
              "      box-shadow: 0px 1px 2px rgba(60, 64, 67, 0.3), 0px 1px 3px 1px rgba(60, 64, 67, 0.15);\n",
              "      fill: #174EA6;\n",
              "    }\n",
              "\n",
              "    .colab-df-buttons div {\n",
              "      margin-bottom: 4px;\n",
              "    }\n",
              "\n",
              "    [theme=dark] .colab-df-convert {\n",
              "      background-color: #3B4455;\n",
              "      fill: #D2E3FC;\n",
              "    }\n",
              "\n",
              "    [theme=dark] .colab-df-convert:hover {\n",
              "      background-color: #434B5C;\n",
              "      box-shadow: 0px 1px 3px 1px rgba(0, 0, 0, 0.15);\n",
              "      filter: drop-shadow(0px 1px 2px rgba(0, 0, 0, 0.3));\n",
              "      fill: #FFFFFF;\n",
              "    }\n",
              "  </style>\n",
              "\n",
              "    <script>\n",
              "      const buttonEl =\n",
              "        document.querySelector('#df-61ab996e-e47c-4c07-b969-49bc1bd552a9 button.colab-df-convert');\n",
              "      buttonEl.style.display =\n",
              "        google.colab.kernel.accessAllowed ? 'block' : 'none';\n",
              "\n",
              "      async function convertToInteractive(key) {\n",
              "        const element = document.querySelector('#df-61ab996e-e47c-4c07-b969-49bc1bd552a9');\n",
              "        const dataTable =\n",
              "          await google.colab.kernel.invokeFunction('convertToInteractive',\n",
              "                                                    [key], {});\n",
              "        if (!dataTable) return;\n",
              "\n",
              "        const docLinkHtml = 'Like what you see? Visit the ' +\n",
              "          '<a target=\"_blank\" href=https://colab.research.google.com/notebooks/data_table.ipynb>data table notebook</a>'\n",
              "          + ' to learn more about interactive tables.';\n",
              "        element.innerHTML = '';\n",
              "        dataTable['output_type'] = 'display_data';\n",
              "        await google.colab.output.renderOutput(dataTable, element);\n",
              "        const docLink = document.createElement('div');\n",
              "        docLink.innerHTML = docLinkHtml;\n",
              "        element.appendChild(docLink);\n",
              "      }\n",
              "    </script>\n",
              "  </div>\n",
              "\n",
              "\n",
              "<div id=\"df-e186c84a-2f9e-4ddf-af79-109d3682038a\">\n",
              "  <button class=\"colab-df-quickchart\" onclick=\"quickchart('df-e186c84a-2f9e-4ddf-af79-109d3682038a')\"\n",
              "            title=\"Suggest charts\"\n",
              "            style=\"display:none;\">\n",
              "\n",
              "<svg xmlns=\"http://www.w3.org/2000/svg\" height=\"24px\"viewBox=\"0 0 24 24\"\n",
              "     width=\"24px\">\n",
              "    <g>\n",
              "        <path d=\"M19 3H5c-1.1 0-2 .9-2 2v14c0 1.1.9 2 2 2h14c1.1 0 2-.9 2-2V5c0-1.1-.9-2-2-2zM9 17H7v-7h2v7zm4 0h-2V7h2v10zm4 0h-2v-4h2v4z\"/>\n",
              "    </g>\n",
              "</svg>\n",
              "  </button>\n",
              "\n",
              "<style>\n",
              "  .colab-df-quickchart {\n",
              "      --bg-color: #E8F0FE;\n",
              "      --fill-color: #1967D2;\n",
              "      --hover-bg-color: #E2EBFA;\n",
              "      --hover-fill-color: #174EA6;\n",
              "      --disabled-fill-color: #AAA;\n",
              "      --disabled-bg-color: #DDD;\n",
              "  }\n",
              "\n",
              "  [theme=dark] .colab-df-quickchart {\n",
              "      --bg-color: #3B4455;\n",
              "      --fill-color: #D2E3FC;\n",
              "      --hover-bg-color: #434B5C;\n",
              "      --hover-fill-color: #FFFFFF;\n",
              "      --disabled-bg-color: #3B4455;\n",
              "      --disabled-fill-color: #666;\n",
              "  }\n",
              "\n",
              "  .colab-df-quickchart {\n",
              "    background-color: var(--bg-color);\n",
              "    border: none;\n",
              "    border-radius: 50%;\n",
              "    cursor: pointer;\n",
              "    display: none;\n",
              "    fill: var(--fill-color);\n",
              "    height: 32px;\n",
              "    padding: 0;\n",
              "    width: 32px;\n",
              "  }\n",
              "\n",
              "  .colab-df-quickchart:hover {\n",
              "    background-color: var(--hover-bg-color);\n",
              "    box-shadow: 0 1px 2px rgba(60, 64, 67, 0.3), 0 1px 3px 1px rgba(60, 64, 67, 0.15);\n",
              "    fill: var(--button-hover-fill-color);\n",
              "  }\n",
              "\n",
              "  .colab-df-quickchart-complete:disabled,\n",
              "  .colab-df-quickchart-complete:disabled:hover {\n",
              "    background-color: var(--disabled-bg-color);\n",
              "    fill: var(--disabled-fill-color);\n",
              "    box-shadow: none;\n",
              "  }\n",
              "\n",
              "  .colab-df-spinner {\n",
              "    border: 2px solid var(--fill-color);\n",
              "    border-color: transparent;\n",
              "    border-bottom-color: var(--fill-color);\n",
              "    animation:\n",
              "      spin 1s steps(1) infinite;\n",
              "  }\n",
              "\n",
              "  @keyframes spin {\n",
              "    0% {\n",
              "      border-color: transparent;\n",
              "      border-bottom-color: var(--fill-color);\n",
              "      border-left-color: var(--fill-color);\n",
              "    }\n",
              "    20% {\n",
              "      border-color: transparent;\n",
              "      border-left-color: var(--fill-color);\n",
              "      border-top-color: var(--fill-color);\n",
              "    }\n",
              "    30% {\n",
              "      border-color: transparent;\n",
              "      border-left-color: var(--fill-color);\n",
              "      border-top-color: var(--fill-color);\n",
              "      border-right-color: var(--fill-color);\n",
              "    }\n",
              "    40% {\n",
              "      border-color: transparent;\n",
              "      border-right-color: var(--fill-color);\n",
              "      border-top-color: var(--fill-color);\n",
              "    }\n",
              "    60% {\n",
              "      border-color: transparent;\n",
              "      border-right-color: var(--fill-color);\n",
              "    }\n",
              "    80% {\n",
              "      border-color: transparent;\n",
              "      border-right-color: var(--fill-color);\n",
              "      border-bottom-color: var(--fill-color);\n",
              "    }\n",
              "    90% {\n",
              "      border-color: transparent;\n",
              "      border-bottom-color: var(--fill-color);\n",
              "    }\n",
              "  }\n",
              "</style>\n",
              "\n",
              "  <script>\n",
              "    async function quickchart(key) {\n",
              "      const quickchartButtonEl =\n",
              "        document.querySelector('#' + key + ' button');\n",
              "      quickchartButtonEl.disabled = true;  // To prevent multiple clicks.\n",
              "      quickchartButtonEl.classList.add('colab-df-spinner');\n",
              "      try {\n",
              "        const charts = await google.colab.kernel.invokeFunction(\n",
              "            'suggestCharts', [key], {});\n",
              "      } catch (error) {\n",
              "        console.error('Error during call to suggestCharts:', error);\n",
              "      }\n",
              "      quickchartButtonEl.classList.remove('colab-df-spinner');\n",
              "      quickchartButtonEl.classList.add('colab-df-quickchart-complete');\n",
              "    }\n",
              "    (() => {\n",
              "      let quickchartButtonEl =\n",
              "        document.querySelector('#df-e186c84a-2f9e-4ddf-af79-109d3682038a button');\n",
              "      quickchartButtonEl.style.display =\n",
              "        google.colab.kernel.accessAllowed ? 'block' : 'none';\n",
              "    })();\n",
              "  </script>\n",
              "</div>\n",
              "\n",
              "    </div>\n",
              "  </div>\n"
            ],
            "application/vnd.google.colaboratory.intrinsic+json": {
              "type": "dataframe",
              "summary": "{\n  \"name\": \"correlation[abs(correlation) > 0\",\n  \"rows\": 4,\n  \"fields\": [\n    {\n      \"column\": \"Price\",\n      \"properties\": {\n        \"dtype\": \"number\",\n        \"std\": 0.9900231740643893,\n        \"min\": -0.831847196624241,\n        \"max\": 1.0,\n        \"num_unique_values\": 3,\n        \"samples\": [\n          1.0,\n          -0.831847196624241,\n          -0.5668379872439652\n        ],\n        \"semantic_type\": \"\",\n        \"description\": \"\"\n      }\n    }\n  ]\n}"
            }
          },
          "metadata": {},
          "execution_count": 164
        }
      ]
    },
    {
      "cell_type": "code",
      "source": [
        "# therefore selected columns consist of Age and KM as highly correlated predictors with the target variable."
      ],
      "metadata": {
        "id": "V1buWDqhrvY6"
      },
      "execution_count": 165,
      "outputs": []
    },
    {
      "cell_type": "markdown",
      "source": [
        "### Categorical predictors Vs Continuous target variable"
      ],
      "metadata": {
        "id": "Ng0Qx4sfs0CW"
      }
    },
    {
      "cell_type": "code",
      "source": [],
      "metadata": {
        "id": "d_vF_sWDs4cT"
      },
      "execution_count": null,
      "outputs": []
    }
  ]
}